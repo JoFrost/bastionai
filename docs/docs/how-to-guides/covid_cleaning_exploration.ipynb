{
 "cells": [
  {
   "attachments": {},
   "cell_type": "markdown",
   "metadata": {},
   "source": [
    "# Clean and explore a Covid-19 dataset\n",
    "________________________________________________________________\n",
    "\n",
    "As the field of data science grows collaborative and Cloud-based, we need to build better tools so that different parties can work together and gain meaningful insights from data. Data owners with sensitive information, such as hospitals who deal with patient confidentiality, have often been left unable to explore and analyse their data because of privacy concerns. BastionLab offers a solution to this problem, while offering security guarantees.\n",
    "\n",
    "In this tutorial, we are going to walk you through some examples of the ways in which you can clean datasets, run queries and visualize data, without needing access to the data in clear. We will be taking a real-world Covid-19 dataset as our example and handling it remotely via BastionLab's main object, the `RemoteLazyFrame`.\n",
    "\n",
    "## Pre-requisites\n",
    "_________________________________________________________________\n",
    "\n",
    "### Technical requirements\n",
    "\n",
    "To start this tutorial, ensure the following are already installed in your system:\n",
    "- Python3.7 or greater (get the latest version of Python at https://www.python.org/downloads/ or with your operating system’s package manager)\n",
    "- [Python Pip](https://pypi.org/project/pip/) (PyPi), the package manager\n",
    "\n",
    "### Pip packages and dataset\n",
    "\n",
    "In order to run this notebook, you will also need to install [Polars](https://www.pola.rs/) and Bastionlab which you can do by running the code block below:"
   ]
  },
  {
   "cell_type": "code",
   "execution_count": null,
   "metadata": {},
   "outputs": [],
   "source": [
    "! pip install polars\n",
    "! pip install bastionlab"
   ]
  },
  {
   "attachments": {},
   "cell_type": "markdown",
   "metadata": {},
   "source": [
    "You will also need to download the WHO dataset, which compiles worldwide statitics related to cases of Covid-19 around the globe:"
   ]
  },
  {
   "cell_type": "code",
   "execution_count": 3,
   "metadata": {},
   "outputs": [],
   "source": [
    "!pip install gdown\n",
    "!gdown https://drive.google.com/uc?id=1bhanFEGQrZgtQiZgjgi-Op9bsidsh0a6"
   ]
  },
  {
   "attachments": {},
   "cell_type": "markdown",
   "metadata": {},
   "source": [
    "> *Alternatively, you can download the dataset from Kaggle by following this link: https://www.kaggle.com/datasets/sudalairajkumar/novel-corona-virus-2019-dataset and creating a free user account.* \n",
    ">\n",
    "> *If you download the file via Kaggle, you will need to move the `covid_19_data.csv` file into the same folder as the notebook. Note that some slight differences may exist between the Kaggle dataset and the Google Drive one, so the output of queries may vary when you test them.* \n"
   ]
  },
  {
   "attachments": {},
   "cell_type": "markdown",
   "metadata": {},
   "source": [
    "### Upload the dataset to the server\n"
   ]
  },
  {
   "attachments": {},
   "cell_type": "markdown",
   "metadata": {},
   "source": [
    "We'll now install and launch the server. For testing purposes, BastionLab server has been packaged as a pip wheel. In this tutorial, we will use this package to quickly set up a test server:"
   ]
  },
  {
   "cell_type": "code",
   "execution_count": 4,
   "metadata": {},
   "outputs": [],
   "source": [
    "!pip install bastionlab_server"
   ]
  },
  {
   "attachments": {},
   "cell_type": "markdown",
   "metadata": {},
   "source": [
    "The server exposes port `50056` for gRPC communication with clients and uses a default configuration (*no authentication, default settings*). These settings are secure enough for the purposes of this tutorial so we won't change them.\n",
    "\n",
    "To run the server, we use the utility function provided by the `bastionlab_server` package."
   ]
  },
  {
   "cell_type": "code",
   "execution_count": 5,
   "metadata": {},
   "outputs": [],
   "source": [
    "import bastionlab_server\n",
    "\n",
    "srv = bastionlab_server.start()"
   ]
  },
  {
   "attachments": {},
   "cell_type": "markdown",
   "metadata": {},
   "source": [
    "### Connecting to the remote dataset\n",
    "\n",
    "Now that's all done, we can finally connect to our server, send over our CSV file and start analysing our data!\n",
    "\n",
    "First, we read in the dataset using Polar's `read_csv()` function, which returns a Polar's DataFrame instance containing the dataset.\n",
    "\n",
    "Then, we connect to the server using Bastionlab's `Connection()` method."
   ]
  },
  {
   "cell_type": "code",
   "execution_count": null,
   "metadata": {},
   "outputs": [],
   "source": [
    "from bastionlab import Connection\n",
    "import polars as pl\n",
    "\n",
    "df = pl.read_csv(\"covid_19_data.csv\")\n",
    "\n",
    "connection = Connection(\"localhost\")"
   ]
  },
  {
   "attachments": {},
   "cell_type": "markdown",
   "metadata": {},
   "source": [
    "Finally, we send the Polar's DataFrame instance to the server using Bastionlab's `polars.send_df()` method which will return a `RemoteLazyFrame` instance, a reference to the DataFrame uploaded. We will be working with it throughout this tutorial."
   ]
  },
  {
   "cell_type": "code",
   "execution_count": 7,
   "metadata": {},
   "outputs": [],
   "source": [
    "rdf = connection.client.polars.send_df(df)"
   ]
  },
  {
   "attachments": {},
   "cell_type": "markdown",
   "metadata": {},
   "source": [
    "We can now see the list of column names in the dataset by using RemoteDataFrame's `columns()` method."
   ]
  },
  {
   "cell_type": "code",
   "execution_count": 8,
   "metadata": {},
   "outputs": [
    {
     "data": {
      "text/plain": [
       "['SNo',\n",
       " 'ObservationDate',\n",
       " 'Province/State',\n",
       " 'Country/Region',\n",
       " 'Last Update',\n",
       " 'Confirmed',\n",
       " 'Deaths',\n",
       " 'Recovered']"
      ]
     },
     "execution_count": 8,
     "metadata": {},
     "output_type": "execute_result"
    }
   ],
   "source": [
    "rdf.columns"
   ]
  },
  {
   "attachments": {},
   "cell_type": "markdown",
   "metadata": {},
   "source": [
    "## Data cleaning\n",
    "______________________________________\n",
    "\n",
    "### Null values\n",
    "\n",
    "We'll start with figuring out where we might have problems because of missing values in our dataset. \n",
    "\n",
    "To do so, we'll calculate what percentage of values are missing from each column:\n",
    "- We'll take the sum of `is_null()` values in each column.\n",
    "- We'll multiply them by 100 and divide them by the total rows of that same column.\n",
    "\n",
    "In order to make this tutorial easier to follow, we'll print out the results of our query using the `.collect()` and .`fetch()` methods necessary to transform the RemoteLazyFrame instance into a readable dataset. \n",
    "\n",
    "> *Note - This would ordinarily require the request to be confirmed by the dataset owner, but we previously disabled the data access approval feature on purpose to avoid this here.*"
   ]
  },
  {
   "cell_type": "code",
   "execution_count": 9,
   "metadata": {},
   "outputs": [
    {
     "data": {
      "text/html": [
       "<div>\n",
       "<style scoped>\n",
       "    .dataframe tbody tr th:only-of-type {\n",
       "        vertical-align: middle;\n",
       "    }\n",
       "\n",
       "    .dataframe tbody tr th {\n",
       "        vertical-align: top;\n",
       "    }\n",
       "\n",
       "    .dataframe thead th {\n",
       "        text-align: right;\n",
       "    }\n",
       "\n",
       "    .dataframe td {\n",
       "        white-space: pre;\n",
       "    }\n",
       "\n",
       "    .dataframe td {\n",
       "        padding-top: 0;\n",
       "    }\n",
       "\n",
       "    .dataframe td {\n",
       "        padding-bottom: 0;\n",
       "    }\n",
       "</style>\n",
       "<table border=\"1\" class=\"dataframe\" >\n",
       "<small>shape: (1, 8)</small>\n",
       "<thead>\n",
       "<tr>\n",
       "<th>\n",
       "SNo\n",
       "</th>\n",
       "<th>\n",
       "ObservationDate\n",
       "</th>\n",
       "<th>\n",
       "Province/State\n",
       "</th>\n",
       "<th>\n",
       "Country/Region\n",
       "</th>\n",
       "<th>\n",
       "Last Update\n",
       "</th>\n",
       "<th>\n",
       "Confirmed\n",
       "</th>\n",
       "<th>\n",
       "Deaths\n",
       "</th>\n",
       "<th>\n",
       "Recovered\n",
       "</th>\n",
       "</tr>\n",
       "<tr>\n",
       "<td>\n",
       "f64\n",
       "</td>\n",
       "<td>\n",
       "f64\n",
       "</td>\n",
       "<td>\n",
       "f64\n",
       "</td>\n",
       "<td>\n",
       "f64\n",
       "</td>\n",
       "<td>\n",
       "f64\n",
       "</td>\n",
       "<td>\n",
       "f64\n",
       "</td>\n",
       "<td>\n",
       "f64\n",
       "</td>\n",
       "<td>\n",
       "f64\n",
       "</td>\n",
       "</tr>\n",
       "</thead>\n",
       "<tbody>\n",
       "<tr>\n",
       "<td>\n",
       "0.0\n",
       "</td>\n",
       "<td>\n",
       "0.0\n",
       "</td>\n",
       "<td>\n",
       "26.288361\n",
       "</td>\n",
       "<td>\n",
       "0.0\n",
       "</td>\n",
       "<td>\n",
       "0.0\n",
       "</td>\n",
       "<td>\n",
       "0.0\n",
       "</td>\n",
       "<td>\n",
       "0.0\n",
       "</td>\n",
       "<td>\n",
       "0.0\n",
       "</td>\n",
       "</tr>\n",
       "</tbody>\n",
       "</table>\n",
       "</div>"
      ],
      "text/plain": [
       "shape: (1, 8)\n",
       "┌─────┬───────────────┬──────────────┬──────────────┬─────────────┬───────────┬────────┬───────────┐\n",
       "│ SNo ┆ ObservationDa ┆ Province/Sta ┆ Country/Regi ┆ Last Update ┆ Confirmed ┆ Deaths ┆ Recovered │\n",
       "│ --- ┆ te            ┆ te           ┆ on           ┆ ---         ┆ ---       ┆ ---    ┆ ---       │\n",
       "│ f64 ┆ ---           ┆ ---          ┆ ---          ┆ f64         ┆ f64       ┆ f64    ┆ f64       │\n",
       "│     ┆ f64           ┆ f64          ┆ f64          ┆             ┆           ┆        ┆           │\n",
       "╞═════╪═══════════════╪══════════════╪══════════════╪═════════════╪═══════════╪════════╪═══════════╡\n",
       "│ 0.0 ┆ 0.0           ┆ 26.288361    ┆ 0.0          ┆ 0.0         ┆ 0.0       ┆ 0.0    ┆ 0.0       │\n",
       "└─────┴───────────────┴──────────────┴──────────────┴─────────────┴───────────┴────────┴───────────┘"
      ]
     },
     "execution_count": 9,
     "metadata": {},
     "output_type": "execute_result"
    }
   ],
   "source": [
    "percent_missing = rdf.select(\n",
    "    pl.col(x).is_null().sum() * 100 / pl.col(x).count() for x in rdf.columns\n",
    ")\n",
    "percent_missing.collect().fetch()"
   ]
  },
  {
   "attachments": {},
   "cell_type": "markdown",
   "metadata": {},
   "source": [
    "We can see that there are quite a lot of null values in the 'Province/State' column. Let's change these null values to `\"Uknown\"` by selecting the column `'Province/State'` and using the `fill_null()` method to fill null values with a value of our choice - `\"Unknown\"` in this case.\n",
    "\n",
    "To check this has worked, we can output the total sum of null values in the 'Province/State' column, which we can see is now `0`."
   ]
  },
  {
   "cell_type": "code",
   "execution_count": 10,
   "metadata": {},
   "outputs": [
    {
     "data": {
      "text/html": [
       "<div>\n",
       "<style scoped>\n",
       "    .dataframe tbody tr th:only-of-type {\n",
       "        vertical-align: middle;\n",
       "    }\n",
       "\n",
       "    .dataframe tbody tr th {\n",
       "        vertical-align: top;\n",
       "    }\n",
       "\n",
       "    .dataframe thead th {\n",
       "        text-align: right;\n",
       "    }\n",
       "\n",
       "    .dataframe td {\n",
       "        white-space: pre;\n",
       "    }\n",
       "\n",
       "    .dataframe td {\n",
       "        padding-top: 0;\n",
       "    }\n",
       "\n",
       "    .dataframe td {\n",
       "        padding-bottom: 0;\n",
       "    }\n",
       "</style>\n",
       "<table border=\"1\" class=\"dataframe\" >\n",
       "<small>shape: (1, 1)</small>\n",
       "<thead>\n",
       "<tr>\n",
       "<th>\n",
       "Province/State\n",
       "</th>\n",
       "</tr>\n",
       "<tr>\n",
       "<td>\n",
       "u32\n",
       "</td>\n",
       "</tr>\n",
       "</thead>\n",
       "<tbody>\n",
       "<tr>\n",
       "<td>\n",
       "0\n",
       "</td>\n",
       "</tr>\n",
       "</tbody>\n",
       "</table>\n",
       "</div>"
      ],
      "text/plain": [
       "shape: (1, 1)\n",
       "┌────────────────┐\n",
       "│ Province/State │\n",
       "│ ---            │\n",
       "│ u32            │\n",
       "╞════════════════╡\n",
       "│ 0              │\n",
       "└────────────────┘"
      ]
     },
     "execution_count": 10,
     "metadata": {},
     "output_type": "execute_result"
    }
   ],
   "source": [
    "rdf = rdf.with_column(pl.col(\"Province/State\")).fill_null(\"Unknown\")\n",
    "total_nulls = rdf.select(pl.col(\"Province/State\").is_null().sum())\n",
    "total_nulls.collect().fetch()"
   ]
  },
  {
   "attachments": {},
   "cell_type": "markdown",
   "metadata": {},
   "source": [
    "### Column dtypes\n",
    "\n",
    "Next, we want to check if the column dtypes are the best fit for our dataset. We can list them by printing out the `schema` attribute on our RemoteLazyFrame, which outputs all column names and dtypes. "
   ]
  },
  {
   "cell_type": "code",
   "execution_count": 11,
   "metadata": {},
   "outputs": [
    {
     "data": {
      "text/plain": [
       "{'SNo': polars.datatypes.Int64,\n",
       " 'ObservationDate': polars.datatypes.Utf8,\n",
       " 'Province/State': polars.datatypes.Utf8,\n",
       " 'Country/Region': polars.datatypes.Utf8,\n",
       " 'Last Update': polars.datatypes.Utf8,\n",
       " 'Confirmed': polars.datatypes.Float64,\n",
       " 'Deaths': polars.datatypes.Float64,\n",
       " 'Recovered': polars.datatypes.Float64}"
      ]
     },
     "execution_count": 11,
     "metadata": {},
     "output_type": "execute_result"
    }
   ],
   "source": [
    "rdf.schema"
   ]
  },
  {
   "attachments": {},
   "cell_type": "markdown",
   "metadata": {},
   "source": [
    "We can see in the previous cell that the dtype of the `'Confirmed'`, `'Deaths'` and `'Recovered'` columns is `f64`. We should only have integer values in these columns so we can change this to `Int64` using the `.cast(pl.Int64)` method. We can right away replace the old columns with the new one by combining it with the `with_columns()` method.\n",
    "\n",
    "We will also convert the `'ObservationDate'` column to a `pl.Date` type so that we can more easily run queries against the months, days and years within the date. To do this, we need to specify the `format` the dates are written in. \n",
    "> *Note - This will not work if you have dates in mixed formats, in which case, you'd need to clean up the data before calling this function.*\n",
    "\n",
    "Finally, we will drop the `'Last Update'` column as we won't be needing it for the purposes of this tutorial. This column also contains a mix of date formats which can take time to clean and goes beyong the scope of what we cover here. \n",
    "\n",
    "> Feel free to get in touch and let us know if you'd like to see a tutorial on this topic, or any other, via our [Discord community](https://discord.com/invite/TxEHagpWd4)!"
   ]
  },
  {
   "cell_type": "code",
   "execution_count": 12,
   "metadata": {},
   "outputs": [
    {
     "data": {
      "text/plain": [
       "{'SNo': polars.datatypes.Int64,\n",
       " 'ObservationDate': polars.datatypes.Date,\n",
       " 'Province/State': polars.datatypes.Utf8,\n",
       " 'Country/Region': polars.datatypes.Utf8,\n",
       " 'Confirmed': polars.datatypes.Int64,\n",
       " 'Deaths': polars.datatypes.Int64,\n",
       " 'Recovered': polars.datatypes.Int64}"
      ]
     },
     "execution_count": 12,
     "metadata": {},
     "output_type": "execute_result"
    }
   ],
   "source": [
    "rdf = rdf.with_columns(\n",
    "    pl.col(x).cast(pl.Int64, strict=True) for x in [\"Confirmed\", \"Deaths\", \"Recovered\"]\n",
    ")\n",
    "rdf = rdf.with_column(\n",
    "    pl.col(\"ObservationDate\").str.strptime(pl.Date, fmt=\"%m/%d/%Y\", strict=False)\n",
    ")\n",
    "rdf = rdf.drop(\"Last Update\")\n",
    "rdf.schema"
   ]
  },
  {
   "cell_type": "markdown",
   "metadata": {},
   "source": [
    "As you can see our changes have been taken into account as expected."
   ]
  },
  {
   "attachments": {},
   "cell_type": "markdown",
   "metadata": {},
   "source": [
    "#### Replacing alternative labels with one unique label\n",
    "\n",
    "By quickly looking over the `.csv` file, we can also see that we have both `\"China\"` and `\"Mainland China\"` values in the Country/Region column. We want to group all these values under one label, `\"China\"`. We can do this using the `.when.then.otherwise()` methods.\n",
    "\n",
    "To check this has worked, we can print out the sum of unique values in the Country/region column before and after this change. We can see it reduces by one after we replace `\"Mainland China\"` values with `\"China\"`."
   ]
  },
  {
   "cell_type": "code",
   "execution_count": 13,
   "metadata": {},
   "outputs": [
    {
     "name": "stdout",
     "output_type": "stream",
     "text": [
      "shape: (1, 1)\n",
      "┌────────────────┐\n",
      "│ Country/Region │\n",
      "│ ---            │\n",
      "│ u32            │\n",
      "╞════════════════╡\n",
      "│ 227            │\n",
      "└────────────────┘\n",
      "shape: (1, 1)\n",
      "┌────────────────┐\n",
      "│ Country/Region │\n",
      "│ ---            │\n",
      "│ u32            │\n",
      "╞════════════════╡\n",
      "│ 227            │\n",
      "└────────────────┘\n"
     ]
    }
   ],
   "source": [
    "test = (\n",
    "    rdf.select(pl.col(\"Country/Region\"))\n",
    "    .unique()\n",
    "    .select(pl.col(\"Country/Region\").count())\n",
    ")\n",
    "print(test.collect().fetch())\n",
    "\n",
    "rdf = rdf.with_column(\n",
    "    pl.when(pl.col(\"Country/Region\") == \"Mainland China\")\n",
    "    .then(\"China\")\n",
    "    .otherwise(pl.col(\"Country/Region\"))\n",
    "    .alias(\"Country/Region\")\n",
    ")\n",
    "\n",
    "test = (\n",
    "    rdf.select(pl.col(\"Country/Region\"))\n",
    "    .unique()\n",
    "    .select(pl.col(\"Country/Region\").count())\n",
    ")\n",
    "print(test.collect().fetch())"
   ]
  },
  {
   "attachments": {},
   "cell_type": "markdown",
   "metadata": {},
   "source": [
    "#### Adding new columns\n",
    "\n",
    "We also want to add a new column `\"Active_cases\"`, which will be calculated as following: `Confirmed` - `Deaths` - `Recovered`. \n",
    "\n",
    "We can do this by combining the `with_column()` method with the `.when.then.otherwise()` methods.\n"
   ]
  },
  {
   "cell_type": "code",
   "execution_count": 14,
   "metadata": {},
   "outputs": [
    {
     "data": {
      "text/plain": [
       "{'SNo': polars.datatypes.Int64,\n",
       " 'ObservationDate': polars.datatypes.Date,\n",
       " 'Province/State': polars.datatypes.Utf8,\n",
       " 'Country/Region': polars.datatypes.Utf8,\n",
       " 'Confirmed': polars.datatypes.Int64,\n",
       " 'Deaths': polars.datatypes.Int64,\n",
       " 'Recovered': polars.datatypes.Int64,\n",
       " 'Active_cases': polars.datatypes.Int64}"
      ]
     },
     "execution_count": 14,
     "metadata": {},
     "output_type": "execute_result"
    }
   ],
   "source": [
    "rdf = rdf.with_column(\n",
    "    (pl.col(\"Confirmed\") - pl.col(\"Deaths\") - pl.col(\"Recovered\")).alias(\"Active_cases\")\n",
    ")\n",
    "rdf.schema"
   ]
  },
  {
   "attachments": {},
   "cell_type": "markdown",
   "metadata": {},
   "source": [
    "## Data Analysis\n",
    "_______________________________________________\n",
    "\n",
    "Now that the dataset has been cleaned and prepared, let's start to analyse the data. \n",
    "\n",
    "First, let's run a query to get the total of confirmed cases, deaths, number of people recovered and active cases for G7 countries. For the sake of simplicity, we will only look at the latest data provided by countries on the most recent observation date. A small number of countries did not submit observations on this day and will therefore not be included in these results, but the data is quite sufficent for the sake of this tutorial.\n",
    "\n",
    "We can display the results by combining the `.collect()` and `.fetch()` to get a printable version of our dataframe.\n",
    "\n",
    "With default or stricter privacy policies, when you want to `.collect().fetch()` a RemoteLazyFrame, the query will be screened to check that data is sufficiently anonymous. If this is not the case, data access approval from the data owner will be needed."
   ]
  },
  {
   "cell_type": "code",
   "execution_count": 15,
   "metadata": {},
   "outputs": [
    {
     "data": {
      "text/html": [
       "<div>\n",
       "<style scoped>\n",
       "    .dataframe tbody tr th:only-of-type {\n",
       "        vertical-align: middle;\n",
       "    }\n",
       "\n",
       "    .dataframe tbody tr th {\n",
       "        vertical-align: top;\n",
       "    }\n",
       "\n",
       "    .dataframe thead th {\n",
       "        text-align: right;\n",
       "    }\n",
       "\n",
       "    .dataframe td {\n",
       "        white-space: pre;\n",
       "    }\n",
       "\n",
       "    .dataframe td {\n",
       "        padding-top: 0;\n",
       "    }\n",
       "\n",
       "    .dataframe td {\n",
       "        padding-bottom: 0;\n",
       "    }\n",
       "</style>\n",
       "<table border=\"1\" class=\"dataframe\" >\n",
       "<small>shape: (1, 4)</small>\n",
       "<thead>\n",
       "<tr>\n",
       "<th>\n",
       "Deaths\n",
       "</th>\n",
       "<th>\n",
       "Confirmed\n",
       "</th>\n",
       "<th>\n",
       "Recovered\n",
       "</th>\n",
       "<th>\n",
       "Active_cases\n",
       "</th>\n",
       "</tr>\n",
       "<tr>\n",
       "<td>\n",
       "i64\n",
       "</td>\n",
       "<td>\n",
       "i64\n",
       "</td>\n",
       "<td>\n",
       "i64\n",
       "</td>\n",
       "<td>\n",
       "i64\n",
       "</td>\n",
       "</tr>\n",
       "</thead>\n",
       "<tbody>\n",
       "<tr>\n",
       "<td>\n",
       "2525401\n",
       "</td>\n",
       "<td>\n",
       "113784735\n",
       "</td>\n",
       "<td>\n",
       "64243285\n",
       "</td>\n",
       "<td>\n",
       "47016049\n",
       "</td>\n",
       "</tr>\n",
       "</tbody>\n",
       "</table>\n",
       "</div>"
      ],
      "text/plain": [
       "shape: (1, 4)\n",
       "┌─────────┬───────────┬───────────┬──────────────┐\n",
       "│ Deaths  ┆ Confirmed ┆ Recovered ┆ Active_cases │\n",
       "│ ---     ┆ ---       ┆ ---       ┆ ---          │\n",
       "│ i64     ┆ i64       ┆ i64       ┆ i64          │\n",
       "╞═════════╪═══════════╪═══════════╪══════════════╡\n",
       "│ 2525401 ┆ 113784735 ┆ 64243285  ┆ 47016049     │\n",
       "└─────────┴───────────┴───────────┴──────────────┘"
      ]
     },
     "execution_count": 15,
     "metadata": {},
     "output_type": "execute_result"
    }
   ],
   "source": [
    "from datetime import date\n",
    "\n",
    "cols = [\"Deaths\", \"Confirmed\", \"Recovered\", \"Active_cases\"]\n",
    "\n",
    "total = rdf.filter(\n",
    "    pl.col(\"ObservationDate\") == pl.col(\"ObservationDate\").max()\n",
    ").select(  # limit to data shared on this observation date\n",
    "    [pl.col(x).sum() for x in cols]\n",
    ")  # get the sum of values shared on this date for each category in cols\n",
    "total.collect().fetch()"
   ]
  },
  {
   "attachments": {},
   "cell_type": "markdown",
   "metadata": {},
   "source": [
    "Let's now take a look at the total confirmed Covid cases for G7 countries. To do this, we first create a filtered down RemoteLazyFrame instance with just the data for G7 countries. Then, we can run a similar query to the previous one, but, this time, we will group the data by country before summing the values for each catgeory on the selected date.\n",
    "\n",
    "We then limit this dataframe to the highest ten results and `collect().fetch()` the results."
   ]
  },
  {
   "cell_type": "code",
   "execution_count": 16,
   "metadata": {},
   "outputs": [
    {
     "data": {
      "text/html": [
       "<div>\n",
       "<style scoped>\n",
       "    .dataframe tbody tr th:only-of-type {\n",
       "        vertical-align: middle;\n",
       "    }\n",
       "\n",
       "    .dataframe tbody tr th {\n",
       "        vertical-align: top;\n",
       "    }\n",
       "\n",
       "    .dataframe thead th {\n",
       "        text-align: right;\n",
       "    }\n",
       "\n",
       "    .dataframe td {\n",
       "        white-space: pre;\n",
       "    }\n",
       "\n",
       "    .dataframe td {\n",
       "        padding-top: 0;\n",
       "    }\n",
       "\n",
       "    .dataframe td {\n",
       "        padding-bottom: 0;\n",
       "    }\n",
       "</style>\n",
       "<table border=\"1\" class=\"dataframe\" >\n",
       "<small>shape: (7, 2)</small>\n",
       "<thead>\n",
       "<tr>\n",
       "<th>\n",
       "Country/Region\n",
       "</th>\n",
       "<th>\n",
       "Confirmed\n",
       "</th>\n",
       "</tr>\n",
       "<tr>\n",
       "<td>\n",
       "str\n",
       "</td>\n",
       "<td>\n",
       "i64\n",
       "</td>\n",
       "</tr>\n",
       "</thead>\n",
       "<tbody>\n",
       "<tr>\n",
       "<td>\n",
       "&quot;US&quot;\n",
       "</td>\n",
       "<td>\n",
       "28554465\n",
       "</td>\n",
       "</tr>\n",
       "<tr>\n",
       "<td>\n",
       "&quot;UK&quot;\n",
       "</td>\n",
       "<td>\n",
       "4182772\n",
       "</td>\n",
       "</tr>\n",
       "<tr>\n",
       "<td>\n",
       "&quot;France&quot;\n",
       "</td>\n",
       "<td>\n",
       "3747263\n",
       "</td>\n",
       "</tr>\n",
       "<tr>\n",
       "<td>\n",
       "&quot;Italy&quot;\n",
       "</td>\n",
       "<td>\n",
       "2907825\n",
       "</td>\n",
       "</tr>\n",
       "<tr>\n",
       "<td>\n",
       "&quot;Germany&quot;\n",
       "</td>\n",
       "<td>\n",
       "2444177\n",
       "</td>\n",
       "</tr>\n",
       "<tr>\n",
       "<td>\n",
       "&quot;Canada&quot;\n",
       "</td>\n",
       "<td>\n",
       "869347\n",
       "</td>\n",
       "</tr>\n",
       "<tr>\n",
       "<td>\n",
       "&quot;Japan&quot;\n",
       "</td>\n",
       "<td>\n",
       "431093\n",
       "</td>\n",
       "</tr>\n",
       "</tbody>\n",
       "</table>\n",
       "</div>"
      ],
      "text/plain": [
       "shape: (7, 2)\n",
       "┌────────────────┬───────────┐\n",
       "│ Country/Region ┆ Confirmed │\n",
       "│ ---            ┆ ---       │\n",
       "│ str            ┆ i64       │\n",
       "╞════════════════╪═══════════╡\n",
       "│ US             ┆ 28554465  │\n",
       "├╌╌╌╌╌╌╌╌╌╌╌╌╌╌╌╌┼╌╌╌╌╌╌╌╌╌╌╌┤\n",
       "│ UK             ┆ 4182772   │\n",
       "├╌╌╌╌╌╌╌╌╌╌╌╌╌╌╌╌┼╌╌╌╌╌╌╌╌╌╌╌┤\n",
       "│ France         ┆ 3747263   │\n",
       "├╌╌╌╌╌╌╌╌╌╌╌╌╌╌╌╌┼╌╌╌╌╌╌╌╌╌╌╌┤\n",
       "│ Italy          ┆ 2907825   │\n",
       "├╌╌╌╌╌╌╌╌╌╌╌╌╌╌╌╌┼╌╌╌╌╌╌╌╌╌╌╌┤\n",
       "│ Germany        ┆ 2444177   │\n",
       "├╌╌╌╌╌╌╌╌╌╌╌╌╌╌╌╌┼╌╌╌╌╌╌╌╌╌╌╌┤\n",
       "│ Canada         ┆ 869347    │\n",
       "├╌╌╌╌╌╌╌╌╌╌╌╌╌╌╌╌┼╌╌╌╌╌╌╌╌╌╌╌┤\n",
       "│ Japan          ┆ 431093    │\n",
       "└────────────────┴───────────┘"
      ]
     },
     "execution_count": 16,
     "metadata": {},
     "output_type": "execute_result"
    }
   ],
   "source": [
    "all_cols = [\"Confirmed\", \"Country/Region\"]\n",
    "\n",
    "G7 = rdf.filter(\n",
    "    (pl.col(\"Country/Region\") == \"Canada\")\n",
    "    | (pl.col(\"Country/Region\") == \"France\")\n",
    "    | (pl.col(\"Country/Region\") == \"Germany\")\n",
    "    | (pl.col(\"Country/Region\") == \"Italy\")\n",
    "    | (pl.col(\"Country/Region\") == \"UK\")\n",
    "    | (pl.col(\"Country/Region\") == \"US\")\n",
    "    | (pl.col(\"Country/Region\") == \"Japan\")\n",
    ")\n",
    "\n",
    "G7_cases = (\n",
    "    G7.filter(pl.col(\"ObservationDate\") == pl.col(\"ObservationDate\").max())\n",
    "    .select([pl.col(x) for x in all_cols])\n",
    "    .groupby(pl.col(\"Country/Region\"))\n",
    "    .agg(pl.col(\"Confirmed\").sum())\n",
    "    .sort(pl.col(\"Confirmed\"), reverse=True)\n",
    ")\n",
    "G7_cases.collect().fetch()"
   ]
  },
  {
   "attachments": {},
   "cell_type": "markdown",
   "metadata": {},
   "source": [
    "## Data Visualization\n",
    "_______________________________________________\n",
    "\n",
    "### Barplot\n",
    "\n",
    "We can now easily visualize our `G7_cases` RemoteLazyFrame using the `barplot` function.\n",
    "\n",
    "We then simply supply the `x` and `y` columns as arguments to the `barplot()` function to get our bar chart visualization. Then we use matplotlib pyplot's `xticks` function to rotate the `x` axes labels by `60` degrees to avoid them overlapping."
   ]
  },
  {
   "cell_type": "code",
   "execution_count": 17,
   "metadata": {},
   "outputs": [
    {
     "data": {
      "image/png": "[encoded data removed]",
      "text/plain": [
       "<Figure size 640x480 with 1 Axes>"
      ]
     },
     "metadata": {},
     "output_type": "display_data"
    }
   ],
   "source": [
    "G7_cases.barplot(y=\"Confirmed\", x=\"Country/Region\")\n",
    "\n",
    "import matplotlib.pyplot as plt\n",
    "\n",
    "plt.xticks(rotation=60)\n",
    "plt.show()"
   ]
  },
  {
   "attachments": {},
   "cell_type": "markdown",
   "metadata": {},
   "source": [
    "We'll also have a look at the evolution of confirmed covid cases in a specific country over a specific time frame. Let's take the UK cases in 2020 from April onwards as our example this time."
   ]
  },
  {
   "cell_type": "code",
   "execution_count": 18,
   "metadata": {},
   "outputs": [
    {
     "data": {
      "image/png": "[encoded data removed]",
      "text/plain": [
       "<Figure size 640x480 with 1 Axes>"
      ]
     },
     "metadata": {},
     "output_type": "display_data"
    }
   ],
   "source": [
    "# get UK 2020 only dataframe and group by month\n",
    "UK = (\n",
    "    rdf.filter(\n",
    "        (pl.col(\"Country/Region\") == \"UK\")\n",
    "        & (pl.col(\"ObservationDate\").dt.year() == 2020)\n",
    "        & (pl.col(\"ObservationDate\").dt.month() > 3)  # get data for April-December 2020\n",
    "    )\n",
    "    .groupby(pl.col(\"ObservationDate\").dt.month())\n",
    "    .agg(pl.col(\"Confirmed\").sum())\n",
    "    .sort(pl.col(\"ObservationDate\"))\n",
    ")\n",
    "\n",
    "UK.barplot(x=\"ObservationDate\", y=\"Confirmed\")\n",
    "# set x and y labels\n",
    "plt.ylabel(\"Confirmed cases\")\n",
    "plt.xlabel(\"Month in 2020\")\n",
    "\n",
    "# set x axis labels and totates X-Axis labels by 90 degrees\n",
    "plt.xticks(\n",
    "    [0, 1, 2, 3, 4, 5, 6, 7, 8],\n",
    "    [\n",
    "        \"Apr\",\n",
    "        \"May\",\n",
    "        \"Jun\",\n",
    "        \"Jul\",\n",
    "        \"Aug\",\n",
    "        \"Sep\",\n",
    "        \"Oct\",\n",
    "        \"Nov\",\n",
    "        \"Dec\",\n",
    "    ],\n",
    "    rotation=90,\n",
    ")\n",
    "plt.show()"
   ]
  },
  {
   "attachments": {},
   "cell_type": "markdown",
   "metadata": {},
   "source": [
    "### Pie chart\n",
    "\n",
    "Next, we could display patient outcomes globally as a pie chart using the `pieplot` function.\n",
    "\n",
    "Before we call `pieplot`, we first need to do a couple of small preparation steps. First, we need to select only `\"Deaths\"`, `\"Recovered\"` and `\"Active_cases\"`, as these are the segments we want to include in our pie chart. Second, we need to flip our `total` RemoteLazyFrame from wide to long form, using Polar's `melt` function as shown below."
   ]
  },
  {
   "cell_type": "code",
   "execution_count": 19,
   "metadata": {},
   "outputs": [
    {
     "data": {
      "text/html": [
       "<div>\n",
       "<style scoped>\n",
       "    .dataframe tbody tr th:only-of-type {\n",
       "        vertical-align: middle;\n",
       "    }\n",
       "\n",
       "    .dataframe tbody tr th {\n",
       "        vertical-align: top;\n",
       "    }\n",
       "\n",
       "    .dataframe thead th {\n",
       "        text-align: right;\n",
       "    }\n",
       "\n",
       "    .dataframe td {\n",
       "        white-space: pre;\n",
       "    }\n",
       "\n",
       "    .dataframe td {\n",
       "        padding-top: 0;\n",
       "    }\n",
       "\n",
       "    .dataframe td {\n",
       "        padding-bottom: 0;\n",
       "    }\n",
       "</style>\n",
       "<table border=\"1\" class=\"dataframe\" >\n",
       "<small>shape: (3, 2)</small>\n",
       "<thead>\n",
       "<tr>\n",
       "<th>\n",
       "variable\n",
       "</th>\n",
       "<th>\n",
       "value\n",
       "</th>\n",
       "</tr>\n",
       "<tr>\n",
       "<td>\n",
       "str\n",
       "</td>\n",
       "<td>\n",
       "i64\n",
       "</td>\n",
       "</tr>\n",
       "</thead>\n",
       "<tbody>\n",
       "<tr>\n",
       "<td>\n",
       "&quot;Deaths&quot;\n",
       "</td>\n",
       "<td>\n",
       "2525401\n",
       "</td>\n",
       "</tr>\n",
       "<tr>\n",
       "<td>\n",
       "&quot;Active_cases&quot;\n",
       "</td>\n",
       "<td>\n",
       "47016049\n",
       "</td>\n",
       "</tr>\n",
       "<tr>\n",
       "<td>\n",
       "&quot;Recovered&quot;\n",
       "</td>\n",
       "<td>\n",
       "64243285\n",
       "</td>\n",
       "</tr>\n",
       "</tbody>\n",
       "</table>\n",
       "</div>"
      ],
      "text/plain": [
       "shape: (3, 2)\n",
       "┌──────────────┬──────────┐\n",
       "│ variable     ┆ value    │\n",
       "│ ---          ┆ ---      │\n",
       "│ str          ┆ i64      │\n",
       "╞══════════════╪══════════╡\n",
       "│ Deaths       ┆ 2525401  │\n",
       "├╌╌╌╌╌╌╌╌╌╌╌╌╌╌┼╌╌╌╌╌╌╌╌╌╌┤\n",
       "│ Active_cases ┆ 47016049 │\n",
       "├╌╌╌╌╌╌╌╌╌╌╌╌╌╌┼╌╌╌╌╌╌╌╌╌╌┤\n",
       "│ Recovered    ┆ 64243285 │\n",
       "└──────────────┴──────────┘"
      ]
     },
     "execution_count": 19,
     "metadata": {},
     "output_type": "execute_result"
    }
   ],
   "source": [
    "selects = [\"Deaths\", \"Active_cases\", \"Recovered\"]\n",
    "flipped = total.select(pl.col(x) for x in selects).melt()\n",
    "flipped.collect().fetch()"
   ]
  },
  {
   "attachments": {},
   "cell_type": "markdown",
   "metadata": {},
   "source": [
    "Now, that this is done, we can call pieplot on our `flipped` RemoteLazyFrame to get a pie chart of this data."
   ]
  },
  {
   "cell_type": "code",
   "execution_count": 20,
   "metadata": {},
   "outputs": [
    {
     "data": {
      "image/png": "[encoded data removed]",
      "text/plain": [
       "<Figure size 700x400 with 1 Axes>"
      ]
     },
     "metadata": {},
     "output_type": "display_data"
    }
   ],
   "source": [
    "flipped.pieplot(\n",
    "    parts=\"value\",\n",
    "    labels=\"variable\",\n",
    "    title=\"Global Covid outcomes\",\n",
    "    key_title=\"Patient outcome\",\n",
    "    key_loc=\"lower right\",\n",
    ")"
   ]
  },
  {
   "attachments": {},
   "cell_type": "markdown",
   "metadata": {},
   "source": [
    "To go further, let's imagine we want to see the outcomes, just for patients from France, Spain and Germany. We'll first filter down the `by_country` RemoteLazyFrame instance to only keep data relating to France, Germany and Spain and then we will `collect().fetch()` this new dataframe."
   ]
  },
  {
   "cell_type": "code",
   "execution_count": 21,
   "metadata": {},
   "outputs": [
    {
     "data": {
      "text/html": [
       "<div>\n",
       "<style scoped>\n",
       "    .dataframe tbody tr th:only-of-type {\n",
       "        vertical-align: middle;\n",
       "    }\n",
       "\n",
       "    .dataframe tbody tr th {\n",
       "        vertical-align: top;\n",
       "    }\n",
       "\n",
       "    .dataframe thead th {\n",
       "        text-align: right;\n",
       "    }\n",
       "\n",
       "    .dataframe td {\n",
       "        white-space: pre;\n",
       "    }\n",
       "\n",
       "    .dataframe td {\n",
       "        padding-top: 0;\n",
       "    }\n",
       "\n",
       "    .dataframe td {\n",
       "        padding-bottom: 0;\n",
       "    }\n",
       "</style>\n",
       "<table border=\"1\" class=\"dataframe\" >\n",
       "<small>shape: (3, 5)</small>\n",
       "<thead>\n",
       "<tr>\n",
       "<th>\n",
       "Country/Region\n",
       "</th>\n",
       "<th>\n",
       "Confirmed\n",
       "</th>\n",
       "<th>\n",
       "Deaths\n",
       "</th>\n",
       "<th>\n",
       "Active_cases\n",
       "</th>\n",
       "<th>\n",
       "Recovered\n",
       "</th>\n",
       "</tr>\n",
       "<tr>\n",
       "<td>\n",
       "str\n",
       "</td>\n",
       "<td>\n",
       "i64\n",
       "</td>\n",
       "<td>\n",
       "i64\n",
       "</td>\n",
       "<td>\n",
       "i64\n",
       "</td>\n",
       "<td>\n",
       "i64\n",
       "</td>\n",
       "</tr>\n",
       "</thead>\n",
       "<tbody>\n",
       "<tr>\n",
       "<td>\n",
       "&quot;Germany&quot;\n",
       "</td>\n",
       "<td>\n",
       "2444177\n",
       "</td>\n",
       "<td>\n",
       "70092\n",
       "</td>\n",
       "<td>\n",
       "121115\n",
       "</td>\n",
       "<td>\n",
       "2252970\n",
       "</td>\n",
       "</tr>\n",
       "<tr>\n",
       "<td>\n",
       "&quot;France&quot;\n",
       "</td>\n",
       "<td>\n",
       "3747263\n",
       "</td>\n",
       "<td>\n",
       "85741\n",
       "</td>\n",
       "<td>\n",
       "3399873\n",
       "</td>\n",
       "<td>\n",
       "261649\n",
       "</td>\n",
       "</tr>\n",
       "<tr>\n",
       "<td>\n",
       "&quot;Spain&quot;\n",
       "</td>\n",
       "<td>\n",
       "3188553\n",
       "</td>\n",
       "<td>\n",
       "69142\n",
       "</td>\n",
       "<td>\n",
       "2969035\n",
       "</td>\n",
       "<td>\n",
       "150376\n",
       "</td>\n",
       "</tr>\n",
       "</tbody>\n",
       "</table>\n",
       "</div>"
      ],
      "text/plain": [
       "shape: (3, 5)\n",
       "┌────────────────┬───────────┬────────┬──────────────┬───────────┐\n",
       "│ Country/Region ┆ Confirmed ┆ Deaths ┆ Active_cases ┆ Recovered │\n",
       "│ ---            ┆ ---       ┆ ---    ┆ ---          ┆ ---       │\n",
       "│ str            ┆ i64       ┆ i64    ┆ i64          ┆ i64       │\n",
       "╞════════════════╪═══════════╪════════╪══════════════╪═══════════╡\n",
       "│ Germany        ┆ 2444177   ┆ 70092  ┆ 121115       ┆ 2252970   │\n",
       "├╌╌╌╌╌╌╌╌╌╌╌╌╌╌╌╌┼╌╌╌╌╌╌╌╌╌╌╌┼╌╌╌╌╌╌╌╌┼╌╌╌╌╌╌╌╌╌╌╌╌╌╌┼╌╌╌╌╌╌╌╌╌╌╌┤\n",
       "│ France         ┆ 3747263   ┆ 85741  ┆ 3399873      ┆ 261649    │\n",
       "├╌╌╌╌╌╌╌╌╌╌╌╌╌╌╌╌┼╌╌╌╌╌╌╌╌╌╌╌┼╌╌╌╌╌╌╌╌┼╌╌╌╌╌╌╌╌╌╌╌╌╌╌┼╌╌╌╌╌╌╌╌╌╌╌┤\n",
       "│ Spain          ┆ 3188553   ┆ 69142  ┆ 2969035      ┆ 150376    │\n",
       "└────────────────┴───────────┴────────┴──────────────┴───────────┘"
      ]
     },
     "execution_count": 21,
     "metadata": {},
     "output_type": "execute_result"
    }
   ],
   "source": [
    "all_cols = [\"Confirmed\", \"Country/Region\", \"Deaths\", \"Active_cases\", \"Recovered\"]\n",
    "agg_cols = [\"Confirmed\", \"Deaths\", \"Active_cases\", \"Recovered\"]\n",
    "\n",
    "# create filtered down RemoteLazyFrame with data for France, Germany and Spain\n",
    "FGS = rdf.filter(\n",
    "    (pl.col(\"Country/Region\") == \"France\")\n",
    "    | (pl.col(\"Country/Region\") == \"Germany\")\n",
    "    | (pl.col(\"Country/Region\") == \"Spain\")\n",
    ")\n",
    "\n",
    "compare = (\n",
    "    FGS.filter(\n",
    "        pl.col(\"ObservationDate\") == pl.col(\"ObservationDate\").max()\n",
    "    )  # limit to data shared on latest observation date\n",
    "    .select([pl.col(x) for x in all_cols])  # limit data to columns in all_cols list\n",
    "    .groupby(pl.col(\"Country/Region\"))  # group data by country\n",
    "    .agg(\n",
    "        [pl.col(x).sum() for x in agg_cols]\n",
    "    )  # get the sum of values shared by each country on this date for each category in agg_cols\n",
    ")\n",
    "\n",
    "compare.collect().fetch()"
   ]
  },
  {
   "attachments": {},
   "cell_type": "markdown",
   "metadata": {},
   "source": [
    "For the next visualization, we'll create a figure comparing the deaths, recovered and active cases in these three countries. This example illustrates how you can work with both our `pieplot` function and matplotlib `pyplot` to modify the output you will get from this function.\n",
    "\n",
    "***#Hum, here I'm not sure what function you refer to with 'this function'. Probably need to make the sentence clearer =) Either by saying: \"This example illustrates how you can work with matplotlib `pyplot` to modify the output you will get from the `pieplot`function.\" or something else =)***\n",
    "\n",
    "In this example, instead of letting the `pieplot` function take care of creating our axis, we create our own `fig` and `ax` variables using matplotlib pyplot's `subplots` function in order to create a grid with three columns, one for each of the three pieplot's we will display. \n",
    "\n",
    "We then use a `for` loop to iterate over each column in our grid, we create the dataframe needed for each country's pie chart and we send our axis indexed to the correct column to get the following output:"
   ]
  },
  {
   "cell_type": "code",
   "execution_count": 22,
   "metadata": {},
   "outputs": [
    {
     "data": {
      "image/png": "[encoded data removed]",
      "text/plain": [
       "<Figure size 2500x2000 with 3 Axes>"
      ]
     },
     "metadata": {},
     "output_type": "display_data"
    }
   ],
   "source": [
    "fig, ax = plt.subplots(1, 3, figsize=(25, 20))\n",
    "countries = [\"France\", \"Germany\", \"Spain\"]\n",
    "\n",
    "count = 0\n",
    "for i in range(3):\n",
    "    pie = (\n",
    "        compare.filter(pl.col(\"Country/Region\") == countries[i])\n",
    "        .select(pl.col(x) for x in [\"Deaths\", \"Recovered\", \"Active_cases\"])\n",
    "        .melt()\n",
    "    )\n",
    "    pie.pieplot(\n",
    "        parts=\"value\",\n",
    "        labels=[\"Deceased\", \"Recovered\", \"ongoing cases\"],\n",
    "        title=\"Global Covid outcomes in \" + countries[i],\n",
    "        key=False,\n",
    "        ax=ax[i],\n",
    "    )\n",
    "plt.show()"
   ]
  },
  {
   "attachments": {},
   "cell_type": "markdown",
   "metadata": {},
   "source": [
    "After this, we decide to take a look at the maximum reported number of Covid cases by Province/State in Belgium. To do this, we'll create a fresh `RemoteLazyFrame` instance based on the original dataset. We'll filter the data down to the data released by Belgium and then group data by Province/State before collecting the max value of confirmed cases."
   ]
  },
  {
   "cell_type": "code",
   "execution_count": 23,
   "metadata": {},
   "outputs": [
    {
     "data": {
      "text/html": [
       "<div>\n",
       "<style scoped>\n",
       "    .dataframe tbody tr th:only-of-type {\n",
       "        vertical-align: middle;\n",
       "    }\n",
       "\n",
       "    .dataframe tbody tr th {\n",
       "        vertical-align: top;\n",
       "    }\n",
       "\n",
       "    .dataframe thead th {\n",
       "        text-align: right;\n",
       "    }\n",
       "\n",
       "    .dataframe td {\n",
       "        white-space: pre;\n",
       "    }\n",
       "\n",
       "    .dataframe td {\n",
       "        padding-top: 0;\n",
       "    }\n",
       "\n",
       "    .dataframe td {\n",
       "        padding-bottom: 0;\n",
       "    }\n",
       "</style>\n",
       "<table border=\"1\" class=\"dataframe\" >\n",
       "<small>shape: (12, 2)</small>\n",
       "<thead>\n",
       "<tr>\n",
       "<th>\n",
       "Province/State\n",
       "</th>\n",
       "<th>\n",
       "Confirmed\n",
       "</th>\n",
       "</tr>\n",
       "<tr>\n",
       "<td>\n",
       "str\n",
       "</td>\n",
       "<td>\n",
       "i64\n",
       "</td>\n",
       "</tr>\n",
       "</thead>\n",
       "<tbody>\n",
       "<tr>\n",
       "<td>\n",
       "&quot;Antwerp&quot;\n",
       "</td>\n",
       "<td>\n",
       "96758\n",
       "</td>\n",
       "</tr>\n",
       "<tr>\n",
       "<td>\n",
       "&quot;Hainaut&quot;\n",
       "</td>\n",
       "<td>\n",
       "116242\n",
       "</td>\n",
       "</tr>\n",
       "<tr>\n",
       "<td>\n",
       "&quot;East Flanders&quot;\n",
       "</td>\n",
       "<td>\n",
       "83146\n",
       "</td>\n",
       "</tr>\n",
       "<tr>\n",
       "<td>\n",
       "&quot;Walloon Braban...\n",
       "</td>\n",
       "<td>\n",
       "29898\n",
       "</td>\n",
       "</tr>\n",
       "<tr>\n",
       "<td>\n",
       "&quot;Brussels&quot;\n",
       "</td>\n",
       "<td>\n",
       "95051\n",
       "</td>\n",
       "</tr>\n",
       "<tr>\n",
       "<td>\n",
       "&quot;West Flanders&quot;\n",
       "</td>\n",
       "<td>\n",
       "68903\n",
       "</td>\n",
       "</tr>\n",
       "<tr>\n",
       "<td>\n",
       "&quot;Limburg&quot;\n",
       "</td>\n",
       "<td>\n",
       "38363\n",
       "</td>\n",
       "</tr>\n",
       "<tr>\n",
       "<td>\n",
       "&quot;Unknown&quot;\n",
       "</td>\n",
       "<td>\n",
       "515391\n",
       "</td>\n",
       "</tr>\n",
       "<tr>\n",
       "<td>\n",
       "&quot;Flemish Braban...\n",
       "</td>\n",
       "<td>\n",
       "59357\n",
       "</td>\n",
       "</tr>\n",
       "<tr>\n",
       "<td>\n",
       "&quot;Namur&quot;\n",
       "</td>\n",
       "<td>\n",
       "40351\n",
       "</td>\n",
       "</tr>\n",
       "<tr>\n",
       "<td>\n",
       "&quot;Luxembourg&quot;\n",
       "</td>\n",
       "<td>\n",
       "21842\n",
       "</td>\n",
       "</tr>\n",
       "<tr>\n",
       "<td>\n",
       "&quot;Liege&quot;\n",
       "</td>\n",
       "<td>\n",
       "105422\n",
       "</td>\n",
       "</tr>\n",
       "</tbody>\n",
       "</table>\n",
       "</div>"
      ],
      "text/plain": [
       "shape: (12, 2)\n",
       "┌─────────────────┬───────────┐\n",
       "│ Province/State  ┆ Confirmed │\n",
       "│ ---             ┆ ---       │\n",
       "│ str             ┆ i64       │\n",
       "╞═════════════════╪═══════════╡\n",
       "│ Antwerp         ┆ 96758     │\n",
       "├╌╌╌╌╌╌╌╌╌╌╌╌╌╌╌╌╌┼╌╌╌╌╌╌╌╌╌╌╌┤\n",
       "│ Hainaut         ┆ 116242    │\n",
       "├╌╌╌╌╌╌╌╌╌╌╌╌╌╌╌╌╌┼╌╌╌╌╌╌╌╌╌╌╌┤\n",
       "│ East Flanders   ┆ 83146     │\n",
       "├╌╌╌╌╌╌╌╌╌╌╌╌╌╌╌╌╌┼╌╌╌╌╌╌╌╌╌╌╌┤\n",
       "│ Walloon Brabant ┆ 29898     │\n",
       "├╌╌╌╌╌╌╌╌╌╌╌╌╌╌╌╌╌┼╌╌╌╌╌╌╌╌╌╌╌┤\n",
       "│ Brussels        ┆ 95051     │\n",
       "├╌╌╌╌╌╌╌╌╌╌╌╌╌╌╌╌╌┼╌╌╌╌╌╌╌╌╌╌╌┤\n",
       "│ West Flanders   ┆ 68903     │\n",
       "├╌╌╌╌╌╌╌╌╌╌╌╌╌╌╌╌╌┼╌╌╌╌╌╌╌╌╌╌╌┤\n",
       "│ Limburg         ┆ 38363     │\n",
       "├╌╌╌╌╌╌╌╌╌╌╌╌╌╌╌╌╌┼╌╌╌╌╌╌╌╌╌╌╌┤\n",
       "│ Unknown         ┆ 515391    │\n",
       "├╌╌╌╌╌╌╌╌╌╌╌╌╌╌╌╌╌┼╌╌╌╌╌╌╌╌╌╌╌┤\n",
       "│ Flemish Brabant ┆ 59357     │\n",
       "├╌╌╌╌╌╌╌╌╌╌╌╌╌╌╌╌╌┼╌╌╌╌╌╌╌╌╌╌╌┤\n",
       "│ Namur           ┆ 40351     │\n",
       "├╌╌╌╌╌╌╌╌╌╌╌╌╌╌╌╌╌┼╌╌╌╌╌╌╌╌╌╌╌┤\n",
       "│ Luxembourg      ┆ 21842     │\n",
       "├╌╌╌╌╌╌╌╌╌╌╌╌╌╌╌╌╌┼╌╌╌╌╌╌╌╌╌╌╌┤\n",
       "│ Liege           ┆ 105422    │\n",
       "└─────────────────┴───────────┘"
      ]
     },
     "execution_count": 23,
     "metadata": {},
     "output_type": "execute_result"
    }
   ],
   "source": [
    "all_cols = [\"Confirmed\", \"Province/State\"]\n",
    "\n",
    "belgium = (\n",
    "    rdf.filter(\n",
    "        (pl.col(\"Country/Region\") == \"Belgium\")\n",
    "    )  # limit data to data shared by Belgium on the latest observation date\n",
    "    .select([pl.col(x) for x in all_cols])  # limit data to columns in all_cols list\n",
    "    .groupby(pl.col(\"Province/State\"))  # group data by province/state\n",
    "    .agg(pl.col(\"Confirmed\").max())  # get the sum of confirmed cases\n",
    ")\n",
    "belgium.collect().fetch()"
   ]
  },
  {
   "attachments": {},
   "cell_type": "markdown",
   "metadata": {},
   "source": [
    "With this dataframe, we can make a donut chart displaying the percentage of cases for each region. To do this, we will create a pie chart using the `pieplot` function, and then add a white circle over the pie chart using matplotlib's `add_artist` to create the donut effect."
   ]
  },
  {
   "cell_type": "code",
   "execution_count": 24,
   "metadata": {},
   "outputs": [
    {
     "data": {
      "image/png": "[encoded data removed]",
      "text/plain": [
       "<Figure size 700x400 with 1 Axes>"
      ]
     },
     "metadata": {},
     "output_type": "display_data"
    }
   ],
   "source": [
    "belgium.pieplot(\n",
    "    parts=\"Confirmed\",\n",
    "    labels=\"Province/State\",\n",
    "    pie_labels=False,\n",
    "    title=\"Confirmed cases by region in Belgium\",\n",
    ")\n",
    "my_circle = plt.Circle((0, 0), 0.5, color=\"white\")  # create a white circle\n",
    "\n",
    "# get current pie chart figure using gcf() function and add white circle to it\n",
    "fig = plt.gcf()\n",
    "fig.gca().add_artist(my_circle)\n",
    "\n",
    "# display donut\n",
    "plt.show()"
   ]
  },
  {
   "attachments": {},
   "cell_type": "markdown",
   "metadata": {},
   "source": [
    "We're done with exploring this Covid-19 dataset with BastionLab. All that's left to do is close our connection!"
   ]
  },
  {
   "cell_type": "code",
   "execution_count": 25,
   "metadata": {},
   "outputs": [],
   "source": [
    "connection.close()"
   ]
  }
 ],
 "metadata": {
  "kernelspec": {
   "display_name": ".venv",
   "language": "python",
   "name": "python3"
  },
  "language_info": {
   "codemirror_mode": {
    "name": "ipython",
    "version": 3
   },
   "file_extension": ".py",
   "mimetype": "text/x-python",
   "name": "python",
   "nbconvert_exporter": "python",
   "pygments_lexer": "ipython3",
   "version": "3.9.13"
  },
  "orig_nbformat": 4,
  "vscode": {
   "interpreter": {
    "hash": "ecc9e348b2453baa0e4208f38ec7a9ed567024199131dbd6d415ec8001506678"
   }
  }
 },
 "nbformat": 4,
 "nbformat_minor": 2
}
