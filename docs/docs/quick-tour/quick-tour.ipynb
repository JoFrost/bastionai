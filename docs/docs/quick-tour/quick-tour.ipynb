{
 "cells": [
  {
   "cell_type": "markdown",
   "metadata": {},
   "source": [
    "# Quick Tour of BastionLab"
   ]
  },
  {
   "cell_type": "markdown",
   "metadata": {},
   "source": [
    "## Why BastionLab?\n",
    "Data owners often need or wish that remote data scientists would access their datasets - like a hospital might want to valorize their data to external parties, startups, labs, or receive help from external experts, for instance. \n",
    "The problem is that the most popular solution is to give access to a Jupyter Python notebook installed on the data owner infrastructure. \n"
   ]
  },
  {
   "cell_type": "markdown",
   "metadata": {},
   "source": [
    "![](https://github.com/mithril-security/bastionlab/raw/master/docs/assets/current_solution.png)"
   ]
  },
  {
   "cell_type": "markdown",
   "metadata": {},
   "source": [
    "This is dangerous, because it exposes the dataset to serious data leakages. Jupyter was not made for this task and exfiltrating data can easily be done.\n",
    "That is why we have built BastionLab, a data science framework to perform remote and secure Exploratory Data Analysis. Data scientists can remotely run queries on data frames without seeing the original data or intermediary results - according to the strict privacy policies defined by the data owner.\n"
   ]
  },
  {
   "cell_type": "markdown",
   "metadata": {},
   "source": [
    "![](https://github.com/mithril-security/bastionlab/raw/master/docs/assets/proposed_solution.png)"
   ]
  },
  {
   "cell_type": "markdown",
   "metadata": {},
   "source": [
    "BastionLab features include:\n",
    "- Showing only aggregated results to maintain privacy with a minimal sample size to ensure the anonymization of each individual\n",
    "- When case rows have to be displayed, only a minimal amount of information is shown, and all data shared is recorded and tracked. \n",
    "\n",
    "Differential Privacy will be integrated transparently in the future.\n",
    "\n",
    "Technically, the framework uses polars (a Rust equivalent of pandas) lazy API to construct the queries locally. Once built, the queries are sent to the remote server of BastionLab and executed, if they pass the privacy policy rules defined by the data owner. BastionLab supports most data wrangling operations, like selects, groupbys, joins…"
   ]
  },
  {
   "cell_type": "markdown",
   "metadata": {},
   "source": [
    "## Tutorial’s Introduction"
   ]
  },
  {
   "cell_type": "markdown",
   "metadata": {},
   "source": [
    "In the following notebook tutorial, we will show you how to install BastionLab and use a few basic functionalities. We’ll use a mock example in which the data owner puts a Titanic passengers dataset at the disposal of the data scientist. \n",
    "\n",
    "“Titanic - Machine Learning from Disaster” dataset can be found on Kaggle and downloaded with a free user account https://www.kaggle.com/competitions/titanic/data.\n",
    "\n",
    "Alternatively you can use the cell below:"
   ]
  },
  {
   "cell_type": "code",
   "execution_count": 1,
   "metadata": {},
   "outputs": [
    {
     "name": "stdout",
     "output_type": "stream",
     "text": [
      "--2022-12-08 18:07:42--  https://raw.githubusercontent.com/datasciencedojo/datasets/master/titanic.csv\n",
      "Resolving raw.githubusercontent.com (raw.githubusercontent.com)... 185.199.108.133, 185.199.111.133, 185.199.110.133, ...\n",
      "Connecting to raw.githubusercontent.com (raw.githubusercontent.com)|185.199.108.133|:443... connected.\n",
      "HTTP request sent, awaiting response... 200 OK\n",
      "Length: 60302 (59K) [text/plain]\n",
      "Saving to: ‘titanic.csv.1’\n",
      "\n",
      "titanic.csv.1       100%[===================>]  58.89K  --.-KB/s    in 0.01s   \n",
      "\n",
      "2022-12-08 18:07:42 (5.23 MB/s) - ‘titanic.csv.1’ saved [60302/60302]\n",
      "\n"
     ]
    }
   ],
   "source": [
    "!wget 'https://raw.githubusercontent.com/datasciencedojo/datasets/master/titanic.csv'"
   ]
  },
  {
   "cell_type": "markdown",
   "metadata": {},
   "source": [
    "This notebook is divided into three parts:\n",
    "- Installation of BastionLab Client and Server\n",
    "- The Data Owner's Side\n",
    "- The Data Scientist's Side\n"
   ]
  },
  {
   "cell_type": "markdown",
   "metadata": {},
   "source": [
    "By the end, the data scientist will be able to do Exploratory Data Analysis remotely, under the constraints defined by the data owner.\n"
   ]
  },
  {
   "cell_type": "markdown",
   "metadata": {},
   "source": [
    "### Technical Requirements\n",
    "\n",
    "To start this tutorial, ensure the following are already installed in your system:\n",
    "- Python3.7 or greater (get the latest version of Python at https://www.python.org/downloads/ or with your operating system’s package manager)\n",
    "- [Python Pip](https://pypi.org/project/pip/) (PyPi), the package manager\n",
    "- [Docker](https://www.docker.com/) \n",
    "\n",
    "*Here's the [Docker official tutorial](https://docker-curriculum.com/) to set it up on your computer.*\n"
   ]
  },
  {
   "cell_type": "markdown",
   "metadata": {
    "id": "YlQTyrwwOT6P"
   },
   "source": [
    "## Installing BastionLab Client\n",
    "\n",
    "We provide a pip package for our client library that contains all the necessary to interect with the BastionLab server. It provides high level abstraction such as remote objects which mimic the behavior of plain local objects. These objects actually are references to remote resources and allow running remote computations seemlessly in a secure fashion."
   ]
  },
  {
   "cell_type": "code",
   "execution_count": null,
   "metadata": {
    "id": "afLaK6QON7-U"
   },
   "outputs": [],
   "source": [
    "!pip install bastionlab"
   ]
  },
  {
   "cell_type": "markdown",
   "metadata": {},
   "source": [
    "# Installing BastionLab Server\n",
    "\n",
    "BastionLab server has been packaged as a Docker image for increased portability. The image can be downloaded from DockerHub."
   ]
  },
  {
   "cell_type": "code",
   "execution_count": null,
   "metadata": {},
   "outputs": [],
   "source": [
    "!docker pull mithrilsecuritysas/bastionlab:latest"
   ]
  },
  {
   "cell_type": "markdown",
   "metadata": {},
   "source": [
    "*You may alternatively install BastionLab Client or Server from source, refer to our more detailed [Installation Tutorial](docs/).*"
   ]
  },
  {
   "cell_type": "markdown",
   "metadata": {
    "id": "GqLROxasOf-d"
   },
   "source": [
    "## Running BastionLab Server\n",
    "\n",
    "The docker image exposes port `50056` for gRPC communication with clients and uses a default configuration (no authentication, default settings).\n",
    "For the purpose of this Tour, these settings are sufficient and we won't change them.\n",
    "\n",
    "To run the server, we start a container using the downloaded image and we bind port `50056` to the same port on the host system."
   ]
  },
  {
   "cell_type": "code",
   "execution_count": null,
   "metadata": {
    "id": "LTtSRCMFOfm3"
   },
   "outputs": [],
   "source": [
    "!docker run -it -p 50056:50056 --env DISABLE_AUTHENTICATION=1 mithrilsecuritysas/bastionlab:latest"
   ]
  },
  {
   "cell_type": "markdown",
   "metadata": {
    "id": "JA-3PuGqFpAx"
   },
   "source": [
    "# Data Owner's Side\n",
    "\n",
    "In this Tour, we assume the Data Owner has a private dataset they want to explore. As they don't have the expertise, they would like to hire a Data Scientist and to give them a restricted access to their private data.\n",
    "\n",
    "To keep this Tour short and simple, we will use weak but reasonable guarantees. If you're interested in setting up stricter policies, you are encouraged to have a look at our [Privacy policy tutorial](docs/).\n",
    "\n",
    "BastionLab already ensures that the original dataset cannot be downloaded by the Data Scientist. In addition to that, we will set up a policy that logs all non privacy-preserving request so that the Data Owner can take adequate actions.\n",
    "\n",
    "This section is devided in three steps:\n",
    "- load the dataset\n",
    "- establish a connection\n",
    "- send the data and set a custom policy"
   ]
  },
  {
   "cell_type": "markdown",
   "metadata": {
    "id": "xX0tE-3zGOhT"
   },
   "source": [
    "### Upload the data frame to the BastionLab Client\n",
    "\n",
    "We first load the Titanic dataset we downloaded at the beginning of the Tour in memory as a DataFrame object:"
   ]
  },
  {
   "cell_type": "code",
   "execution_count": 2,
   "metadata": {
    "id": "7tby18jsFlHC"
   },
   "outputs": [],
   "source": [
    "import polars as pl\n",
    "\n",
    "df = pl.read_csv(\"titanic.csv\")"
   ]
  },
  {
   "cell_type": "markdown",
   "metadata": {
    "id": "bcZV2enRGdLk"
   },
   "source": [
    "We then open a connection to the server by providing its hostname."
   ]
  },
  {
   "cell_type": "code",
   "execution_count": 3,
   "metadata": {
    "id": "oCzcU937GeOT"
   },
   "outputs": [
    {
     "name": "stderr",
     "output_type": "stream",
     "text": [
      "/home/mithril/.local/lib/python3.8/site-packages/tqdm/auto.py:22: TqdmWarning: IProgress not found. Please update jupyter and ipywidgets. See https://ipywidgets.readthedocs.io/en/stable/user_install.html\n",
      "  from .autonotebook import tqdm as notebook_tqdm\n"
     ]
    }
   ],
   "source": [
    "from bastionlab import Connection\n",
    "\n",
    "connection = Connection(\"localhost\")"
   ]
  },
  {
   "cell_type": "markdown",
   "metadata": {
    "id": "Xj4VzVyrGx4o"
   },
   "source": [
    "Using BastionLab client, we'll upload our data to the server in a secure and private way. To do so, we need to define a custom privacy policy that will require two parameters.\n",
    "\n",
    "- A `safe_zone` which is a condition any request must meet to be considered privacy-preserving.\n",
    "- An `unsafe_handling` which is the action taken in case a request violates the `safe_zone`.\n",
    "\n",
    "For the purpose of this tutorial, we'll use the following:\n",
    "- Any request that aggregates at least 10 rows of the original DataFrame is safe,\n",
    "- We decide to log any offending request on the server side, so the Data Owner can see it.\n",
    "\n",
    "To send the DataFrame with the privacy policy to the server, we'll use the `send_df()` method of the `polars` interface of the client. We'll pass it our custom policy and a list of columns to be sanitized (i.e. set to null) if retrieved by the Data Scientist."
   ]
  },
  {
   "cell_type": "code",
   "execution_count": 18,
   "metadata": {
    "id": "hXZ-z0r7GxT2"
   },
   "outputs": [
    {
     "data": {
      "text/plain": [
       "FetchableLazyFrame(identifier=90dccb54-8080-4ce9-9c35-b9208ed4b031)"
      ]
     },
     "execution_count": 18,
     "metadata": {},
     "output_type": "execute_result"
    }
   ],
   "source": [
    "from bastionlab.polars.policy import Policy, Aggregation, Log\n",
    "\n",
    "policy = Policy(safe_zone=Aggregation(min_agg_size=10), unsafe_handling=Log())\n",
    "connection.client.polars.send_df(df, policy=policy, sanitized_columns=[\"Name\"])"
   ]
  },
  {
   "cell_type": "markdown",
   "metadata": {},
   "source": [
    "The server returns a FetchableLazyFrame which is a reference to the remote DataFrame. It can be used as if it were locally available. We'll see how to use it in the Data Scientist's side section."
   ]
  },
  {
   "cell_type": "markdown",
   "metadata": {
    "id": "_EsucHv3IZ8l"
   },
   "source": [
    "## Data Scientist’s Side\n",
    "In this part, we’ll show how the data scientist can access the Data Owner’s dataset, run queries, fetch the results, and display them.\n",
    "\n",
    "This tutorial is divided into five steps:\n",
    "- Access the data owner’s dataset\n",
    "- Run queries\n",
    "- Fetching the results\n",
    "- Data visualization functions"
   ]
  },
  {
   "cell_type": "markdown",
   "metadata": {
    "id": "4JMB8Vo6IlA5"
   },
   "source": [
    "### Access the Data Owner’s Dataset \n",
    "\n",
    "The core object of BastionLab's polars API is the `RemoteLazyFrame` which is a reference to the DataFrame uploaded by the data owner, along with some metadata such as the names and types of the columns. `RemoteLazyFrame`s can often be used as if they were plain polars `LazyFrames`. In particular, almost all the functions available in the Python API of polars can be used with `RemoteLazyFrame`s to run computations on the server.\n",
    "\n",
    "One major difference is that data must be downloaded prior to any local usage such as printing or plotting. Because our API is inherently lazy, not all `RemoteLazyFrames` can be downloaded. In particular, it wouldn't make sense to download a result that hasn't been computed yet on the server. Only `FetchableLazyFrame`s, a subtype of `RemoteLazyFrame` can be downloaded with their specific `fetch()` method. As it's the case with polars' `LazyFrame`s, the user must first call the `collect()` method to run the computation and to get a `FetchableLazyFrame` as a result. In practice, this means that most calls to `collect()` with `polars` will be replaced by `collect().fetch()` with `bastionai.polars` \n",
    "\n",
    "As we do not know the unique identifier of the DataFrame uploaded by the data owner, we start by asking the server to list all available DataFrames."
   ]
  },
  {
   "cell_type": "code",
   "execution_count": 19,
   "metadata": {
    "id": "zTutluzrIU25"
   },
   "outputs": [
    {
     "data": {
      "text/plain": [
       "[FetchableLazyFrame(identifier=0d3c8e9f-f7e4-48f0-94d4-a29479ca95aa),\n",
       " FetchableLazyFrame(identifier=90dccb54-8080-4ce9-9c35-b9208ed4b031),\n",
       " FetchableLazyFrame(identifier=a889c4c6-787f-4be1-938f-41309a17a89a),\n",
       " FetchableLazyFrame(identifier=cb7ef687-d8d9-42b4-b61b-af74d925a9d2),\n",
       " FetchableLazyFrame(identifier=372bf75b-14ff-41dc-b014-9e340c35cc89),\n",
       " FetchableLazyFrame(identifier=5bb5e7c6-1097-4a15-9597-be4255c04077),\n",
       " FetchableLazyFrame(identifier=3d86ef25-c45e-454b-b607-f4246710274e),\n",
       " FetchableLazyFrame(identifier=463f030c-4b13-4d52-b2e9-f64efe37f560),\n",
       " FetchableLazyFrame(identifier=cfde7812-65d5-4a21-8a6c-21b2d07c5a28),\n",
       " FetchableLazyFrame(identifier=20648c63-18a2-42cf-93e8-9cea01a6431e)]"
      ]
     },
     "execution_count": 19,
     "metadata": {},
     "output_type": "execute_result"
    }
   ],
   "source": [
    "connection = Connection(\"localhost\", 50056)\n",
    "\n",
    "client = connection.client\n",
    "\n",
    "all_rdfs = client.polars.list_dfs()\n",
    "\n",
    "rdf = all_rdfs[0]\n",
    "\n",
    "all_rdfs"
   ]
  },
  {
   "cell_type": "markdown",
   "metadata": {
    "id": "aEUumlO7I_hs"
   },
   "source": [
    "The server returns a list of `FetchableLazyFrame`s that we can inspect. In our case, we can just take the first one as the data owner has only uploaded one DataFrame so far."
   ]
  },
  {
   "cell_type": "markdown",
   "metadata": {
    "id": "LW4aLKlIJC6b"
   },
   "source": [
    "### Running Queries\n",
    "\n",
    "Now that we have a `RemoteLazyFrame` corresponding to the data owner’s DataFrame, it is time to run some queries on it.\n",
    "\n",
    "To define these queries, we can directly use all the methods provided by polars’ lazy API. Here, the adjective lazy means that no computation will be run unless explicitly needed. This allows the data scientist to build queries with a Pythonic approach from the RemoteLazyFrame, and when an operation needs to be executed on the data, the query is serialized and sent to the server. \n",
    "\n",
    "The `collect()` method triggers the execution of all the recorded operations on the server.\n"
   ]
  },
  {
   "cell_type": "code",
   "execution_count": 20,
   "metadata": {
    "id": "KrGcCK5VIwg0"
   },
   "outputs": [
    {
     "name": "stdout",
     "output_type": "stream",
     "text": [
      "RemoteLazyFrame\n",
      "FetchableLazyFrame(identifier=25c9d358-b5f8-4138-b015-8ef6c179f16d)\n"
     ]
    }
   ],
   "source": [
    "rdf1 = rdf.head(5)\n",
    "print(rdf1)\n",
    "\n",
    "rdf2 = rdf1.collect()\n",
    "print(rdf2)"
   ]
  },
  {
   "cell_type": "markdown",
   "metadata": {
    "id": "rf6C_13wJH10"
   },
   "source": [
    "In this example, the first line returns a new RemoteLazyFrame that records the head operation - nothing happens on the server. In the second line, however, the call to collect()  sends a query to the server instructing it to do a head operation, and will run it right away.\n",
    "\n",
    "\n",
    "What is key to understanding, is that **every call to collect() will create a new DataFame** on the server side that contains the result.\n",
    "\n",
    "On the client side, **collect() returns a new FetchableLazyFrame** that references the result on the server."
   ]
  },
  {
   "cell_type": "markdown",
   "metadata": {
    "id": "fd5LudClJO0Z"
   },
   "source": [
    "### Fetching Results\n",
    "\n",
    "At some point in your process, you will need to download the results to use them locally or to display them. This can be achieved with the fetch method.\n",
    "\n",
    "The fetch method is defined on the FetchableLazyFrame class which extends the RemoteLazyFrame class. \n",
    "\n",
    "Recall that we’ve already seen the two ways of getting FetchableLazyFrames: by listing available DataFrames on the server, and by calling collect() on any RemoteLazyFrame. \n",
    "In practice, this means that fetch() may only be called on references to DataFrames already available on the server or after a call to collect(). As no computation has run before you call collect(), it wouldn’t actually make sense to fetch() the result because it does not yet exist! \n"
   ]
  },
  {
   "cell_type": "code",
   "execution_count": 7,
   "metadata": {
    "id": "e_8EGgopJRUi"
   },
   "outputs": [
    {
     "name": "stdout",
     "output_type": "stream",
     "text": [
      "\u001b[33mWarning: non privacy-preserving queries necessitate data owner's approval.\n",
      "Reason: Only 1 subrules matched but at least 2 are required.\n",
      "Failed sub rules are:\n",
      "Rule #1: Cannot fetch a DataFrame that does not aggregate at least 10 rows of the initial dataframe uploaded by the data owner.\n",
      "\n",
      "A notification has been sent to the data owner. The request will be pending until the data owner accepts or denies it or until timeout seconds elapse.\u001b[37m\n",
      "\u001b[32mThe query has been accepted by the data owner.\u001b[37m\n"
     ]
    },
    {
     "data": {
      "text/html": [
       "<div>\n",
       "<style scoped>\n",
       "    .dataframe tbody tr th:only-of-type {\n",
       "        vertical-align: middle;\n",
       "    }\n",
       "\n",
       "    .dataframe tbody tr th {\n",
       "        vertical-align: top;\n",
       "    }\n",
       "\n",
       "    .dataframe thead th {\n",
       "        text-align: right;\n",
       "    }\n",
       "\n",
       "    .dataframe td {\n",
       "        white-space: pre;\n",
       "    }\n",
       "\n",
       "    .dataframe td {\n",
       "        padding-top: 0;\n",
       "    }\n",
       "\n",
       "    .dataframe td {\n",
       "        padding-bottom: 0;\n",
       "    }\n",
       "\n",
       "    .dataframe td {\n",
       "        line-height: 95%;\n",
       "    }\n",
       "</style>\n",
       "<table border=\"1\" class=\"dataframe\" >\n",
       "<small>shape: (5, 12)</small>\n",
       "<thead>\n",
       "<tr>\n",
       "<th>\n",
       "PassengerId\n",
       "</th>\n",
       "<th>\n",
       "Survived\n",
       "</th>\n",
       "<th>\n",
       "Pclass\n",
       "</th>\n",
       "<th>\n",
       "Name\n",
       "</th>\n",
       "<th>\n",
       "Sex\n",
       "</th>\n",
       "<th>\n",
       "Age\n",
       "</th>\n",
       "<th>\n",
       "SibSp\n",
       "</th>\n",
       "<th>\n",
       "Parch\n",
       "</th>\n",
       "<th>\n",
       "Ticket\n",
       "</th>\n",
       "<th>\n",
       "Fare\n",
       "</th>\n",
       "<th>\n",
       "Cabin\n",
       "</th>\n",
       "<th>\n",
       "Embarked\n",
       "</th>\n",
       "</tr>\n",
       "<tr>\n",
       "<td>\n",
       "i64\n",
       "</td>\n",
       "<td>\n",
       "i64\n",
       "</td>\n",
       "<td>\n",
       "i64\n",
       "</td>\n",
       "<td>\n",
       "str\n",
       "</td>\n",
       "<td>\n",
       "str\n",
       "</td>\n",
       "<td>\n",
       "f64\n",
       "</td>\n",
       "<td>\n",
       "i64\n",
       "</td>\n",
       "<td>\n",
       "i64\n",
       "</td>\n",
       "<td>\n",
       "str\n",
       "</td>\n",
       "<td>\n",
       "f64\n",
       "</td>\n",
       "<td>\n",
       "str\n",
       "</td>\n",
       "<td>\n",
       "str\n",
       "</td>\n",
       "</tr>\n",
       "</thead>\n",
       "<tbody>\n",
       "<tr>\n",
       "<td>\n",
       "1\n",
       "</td>\n",
       "<td>\n",
       "0\n",
       "</td>\n",
       "<td>\n",
       "3\n",
       "</td>\n",
       "<td>\n",
       "&quot;Braund, Mr. Ow...\n",
       "</td>\n",
       "<td>\n",
       "&quot;male&quot;\n",
       "</td>\n",
       "<td>\n",
       "22.0\n",
       "</td>\n",
       "<td>\n",
       "1\n",
       "</td>\n",
       "<td>\n",
       "0\n",
       "</td>\n",
       "<td>\n",
       "&quot;A/5 21171&quot;\n",
       "</td>\n",
       "<td>\n",
       "7.25\n",
       "</td>\n",
       "<td>\n",
       "null\n",
       "</td>\n",
       "<td>\n",
       "&quot;S&quot;\n",
       "</td>\n",
       "</tr>\n",
       "<tr>\n",
       "<td>\n",
       "2\n",
       "</td>\n",
       "<td>\n",
       "1\n",
       "</td>\n",
       "<td>\n",
       "1\n",
       "</td>\n",
       "<td>\n",
       "&quot;Cumings, Mrs. ...\n",
       "</td>\n",
       "<td>\n",
       "&quot;female&quot;\n",
       "</td>\n",
       "<td>\n",
       "38.0\n",
       "</td>\n",
       "<td>\n",
       "1\n",
       "</td>\n",
       "<td>\n",
       "0\n",
       "</td>\n",
       "<td>\n",
       "&quot;PC 17599&quot;\n",
       "</td>\n",
       "<td>\n",
       "71.2833\n",
       "</td>\n",
       "<td>\n",
       "&quot;C85&quot;\n",
       "</td>\n",
       "<td>\n",
       "&quot;C&quot;\n",
       "</td>\n",
       "</tr>\n",
       "<tr>\n",
       "<td>\n",
       "3\n",
       "</td>\n",
       "<td>\n",
       "1\n",
       "</td>\n",
       "<td>\n",
       "3\n",
       "</td>\n",
       "<td>\n",
       "&quot;Heikkinen, Mis...\n",
       "</td>\n",
       "<td>\n",
       "&quot;female&quot;\n",
       "</td>\n",
       "<td>\n",
       "26.0\n",
       "</td>\n",
       "<td>\n",
       "0\n",
       "</td>\n",
       "<td>\n",
       "0\n",
       "</td>\n",
       "<td>\n",
       "&quot;STON/O2. 31012...\n",
       "</td>\n",
       "<td>\n",
       "7.925\n",
       "</td>\n",
       "<td>\n",
       "null\n",
       "</td>\n",
       "<td>\n",
       "&quot;S&quot;\n",
       "</td>\n",
       "</tr>\n",
       "<tr>\n",
       "<td>\n",
       "4\n",
       "</td>\n",
       "<td>\n",
       "1\n",
       "</td>\n",
       "<td>\n",
       "1\n",
       "</td>\n",
       "<td>\n",
       "&quot;Futrelle, Mrs....\n",
       "</td>\n",
       "<td>\n",
       "&quot;female&quot;\n",
       "</td>\n",
       "<td>\n",
       "35.0\n",
       "</td>\n",
       "<td>\n",
       "1\n",
       "</td>\n",
       "<td>\n",
       "0\n",
       "</td>\n",
       "<td>\n",
       "&quot;113803&quot;\n",
       "</td>\n",
       "<td>\n",
       "53.1\n",
       "</td>\n",
       "<td>\n",
       "&quot;C123&quot;\n",
       "</td>\n",
       "<td>\n",
       "&quot;S&quot;\n",
       "</td>\n",
       "</tr>\n",
       "<tr>\n",
       "<td>\n",
       "5\n",
       "</td>\n",
       "<td>\n",
       "0\n",
       "</td>\n",
       "<td>\n",
       "3\n",
       "</td>\n",
       "<td>\n",
       "&quot;Allen, Mr. Wil...\n",
       "</td>\n",
       "<td>\n",
       "&quot;male&quot;\n",
       "</td>\n",
       "<td>\n",
       "35.0\n",
       "</td>\n",
       "<td>\n",
       "0\n",
       "</td>\n",
       "<td>\n",
       "0\n",
       "</td>\n",
       "<td>\n",
       "&quot;373450&quot;\n",
       "</td>\n",
       "<td>\n",
       "8.05\n",
       "</td>\n",
       "<td>\n",
       "null\n",
       "</td>\n",
       "<td>\n",
       "&quot;S&quot;\n",
       "</td>\n",
       "</tr>\n",
       "</tbody>\n",
       "</table>\n",
       "</div>"
      ],
      "text/plain": [
       "shape: (5, 12)\n",
       "┌─────────────┬──────────┬────────┬─────────────────┬─────┬───────────┬─────────┬───────┬──────────┐\n",
       "│ PassengerId ┆ Survived ┆ Pclass ┆ Name            ┆ ... ┆ Ticket    ┆ Fare    ┆ Cabin ┆ Embarked │\n",
       "│ ---         ┆ ---      ┆ ---    ┆ ---             ┆     ┆ ---       ┆ ---     ┆ ---   ┆ ---      │\n",
       "│ i64         ┆ i64      ┆ i64    ┆ str             ┆     ┆ str       ┆ f64     ┆ str   ┆ str      │\n",
       "╞═════════════╪══════════╪════════╪═════════════════╪═════╪═══════════╪═════════╪═══════╪══════════╡\n",
       "│ 1           ┆ 0        ┆ 3      ┆ Braund, Mr.     ┆ ... ┆ A/5 21171 ┆ 7.25    ┆ null  ┆ S        │\n",
       "│             ┆          ┆        ┆ Owen Harris     ┆     ┆           ┆         ┆       ┆          │\n",
       "├╌╌╌╌╌╌╌╌╌╌╌╌╌┼╌╌╌╌╌╌╌╌╌╌┼╌╌╌╌╌╌╌╌┼╌╌╌╌╌╌╌╌╌╌╌╌╌╌╌╌╌┼╌╌╌╌╌┼╌╌╌╌╌╌╌╌╌╌╌┼╌╌╌╌╌╌╌╌╌┼╌╌╌╌╌╌╌┼╌╌╌╌╌╌╌╌╌╌┤\n",
       "│ 2           ┆ 1        ┆ 1      ┆ Cumings, Mrs.   ┆ ... ┆ PC 17599  ┆ 71.2833 ┆ C85   ┆ C        │\n",
       "│             ┆          ┆        ┆ John Bradley    ┆     ┆           ┆         ┆       ┆          │\n",
       "│             ┆          ┆        ┆ (Flor...        ┆     ┆           ┆         ┆       ┆          │\n",
       "├╌╌╌╌╌╌╌╌╌╌╌╌╌┼╌╌╌╌╌╌╌╌╌╌┼╌╌╌╌╌╌╌╌┼╌╌╌╌╌╌╌╌╌╌╌╌╌╌╌╌╌┼╌╌╌╌╌┼╌╌╌╌╌╌╌╌╌╌╌┼╌╌╌╌╌╌╌╌╌┼╌╌╌╌╌╌╌┼╌╌╌╌╌╌╌╌╌╌┤\n",
       "│ 3           ┆ 1        ┆ 3      ┆ Heikkinen,      ┆ ... ┆ STON/O2.  ┆ 7.925   ┆ null  ┆ S        │\n",
       "│             ┆          ┆        ┆ Miss. Laina     ┆     ┆ 3101282   ┆         ┆       ┆          │\n",
       "├╌╌╌╌╌╌╌╌╌╌╌╌╌┼╌╌╌╌╌╌╌╌╌╌┼╌╌╌╌╌╌╌╌┼╌╌╌╌╌╌╌╌╌╌╌╌╌╌╌╌╌┼╌╌╌╌╌┼╌╌╌╌╌╌╌╌╌╌╌┼╌╌╌╌╌╌╌╌╌┼╌╌╌╌╌╌╌┼╌╌╌╌╌╌╌╌╌╌┤\n",
       "│ 4           ┆ 1        ┆ 1      ┆ Futrelle, Mrs.  ┆ ... ┆ 113803    ┆ 53.1    ┆ C123  ┆ S        │\n",
       "│             ┆          ┆        ┆ Jacques Heath   ┆     ┆           ┆         ┆       ┆          │\n",
       "│             ┆          ┆        ┆ (Li...          ┆     ┆           ┆         ┆       ┆          │\n",
       "├╌╌╌╌╌╌╌╌╌╌╌╌╌┼╌╌╌╌╌╌╌╌╌╌┼╌╌╌╌╌╌╌╌┼╌╌╌╌╌╌╌╌╌╌╌╌╌╌╌╌╌┼╌╌╌╌╌┼╌╌╌╌╌╌╌╌╌╌╌┼╌╌╌╌╌╌╌╌╌┼╌╌╌╌╌╌╌┼╌╌╌╌╌╌╌╌╌╌┤\n",
       "│ 5           ┆ 0        ┆ 3      ┆ Allen, Mr.      ┆ ... ┆ 373450    ┆ 8.05    ┆ null  ┆ S        │\n",
       "│             ┆          ┆        ┆ William Henry   ┆     ┆           ┆         ┆       ┆          │\n",
       "└─────────────┴──────────┴────────┴─────────────────┴─────┴───────────┴─────────┴───────┴──────────┘"
      ]
     },
     "execution_count": 7,
     "metadata": {},
     "output_type": "execute_result"
    }
   ],
   "source": [
    "rdf.head(5).collect().fetch()"
   ]
  },
  {
   "cell_type": "markdown",
   "metadata": {
    "id": "zuhVGJNfJVT5"
   },
   "source": [
    "In addition, `fetch()` downloads the resulting DataFrame after performing some checks on how it was obtained and what the data owner authorizes in their policy. These checks allow BastionLab to uphold a decent level of privacy without too big an impact on your workflow.\n",
    "\n",
    "Recall that the Data Owner has set the following policy:\n",
    "- a `safe_zone` that accepts queries aggregating at least 10 original rows,\n",
    "- the `Log` `unsafe_hanling` action which prints a message in the server logs in case of a violation of the `safe_zone`.\n",
    "\n",
    "As printing the first rows of a DataFrame is not an aggregation, we are actually violating the safe zone which explains the printed warning message. The same message is also recorded in the logs of the server.\n",
    "\n",
    "Also note that the *Name* column has been filled with `null` values as it was added to the `sanitized_columns` list by the Data Owner.\n"
   ]
  },
  {
   "cell_type": "markdown",
   "metadata": {},
   "source": [
    "Let’s now try a more involved query: we compute the survival rates of the passengers on the Titanic based on their ticket class."
   ]
  },
  {
   "cell_type": "code",
   "execution_count": 8,
   "metadata": {},
   "outputs": [
    {
     "data": {
      "text/html": [
       "<div>\n",
       "<style scoped>\n",
       "    .dataframe tbody tr th:only-of-type {\n",
       "        vertical-align: middle;\n",
       "    }\n",
       "\n",
       "    .dataframe tbody tr th {\n",
       "        vertical-align: top;\n",
       "    }\n",
       "\n",
       "    .dataframe thead th {\n",
       "        text-align: right;\n",
       "    }\n",
       "\n",
       "    .dataframe td {\n",
       "        white-space: pre;\n",
       "    }\n",
       "\n",
       "    .dataframe td {\n",
       "        padding-top: 0;\n",
       "    }\n",
       "\n",
       "    .dataframe td {\n",
       "        padding-bottom: 0;\n",
       "    }\n",
       "\n",
       "    .dataframe td {\n",
       "        line-height: 95%;\n",
       "    }\n",
       "</style>\n",
       "<table border=\"1\" class=\"dataframe\" >\n",
       "<small>shape: (3, 2)</small>\n",
       "<thead>\n",
       "<tr>\n",
       "<th>\n",
       "Pclass\n",
       "</th>\n",
       "<th>\n",
       "Survived\n",
       "</th>\n",
       "</tr>\n",
       "<tr>\n",
       "<td>\n",
       "i64\n",
       "</td>\n",
       "<td>\n",
       "f64\n",
       "</td>\n",
       "</tr>\n",
       "</thead>\n",
       "<tbody>\n",
       "<tr>\n",
       "<td>\n",
       "2\n",
       "</td>\n",
       "<td>\n",
       "0.666667\n",
       "</td>\n",
       "</tr>\n",
       "<tr>\n",
       "<td>\n",
       "1\n",
       "</td>\n",
       "<td>\n",
       "0.47619\n",
       "</td>\n",
       "</tr>\n",
       "<tr>\n",
       "<td>\n",
       "3\n",
       "</td>\n",
       "<td>\n",
       "0.311475\n",
       "</td>\n",
       "</tr>\n",
       "</tbody>\n",
       "</table>\n",
       "</div>"
      ],
      "text/plain": [
       "shape: (3, 2)\n",
       "┌────────┬──────────┐\n",
       "│ Pclass ┆ Survived │\n",
       "│ ---    ┆ ---      │\n",
       "│ i64    ┆ f64      │\n",
       "╞════════╪══════════╡\n",
       "│ 2      ┆ 0.666667 │\n",
       "├╌╌╌╌╌╌╌╌┼╌╌╌╌╌╌╌╌╌╌┤\n",
       "│ 1      ┆ 0.47619  │\n",
       "├╌╌╌╌╌╌╌╌┼╌╌╌╌╌╌╌╌╌╌┤\n",
       "│ 3      ┆ 0.311475 │\n",
       "└────────┴──────────┘"
      ]
     },
     "execution_count": 8,
     "metadata": {},
     "output_type": "execute_result"
    }
   ],
   "source": [
    "per_class_rates = (\n",
    "    rdf.select([pl.col(\"Pclass\"), pl.col(\"Survived\")])\n",
    "    .groupby(pl.col(\"Pclass\"))\n",
    "    .agg(pl.col(\"Survived\").mean())\n",
    "    .sort(\"Survived\", reverse=True)\n",
    "    .collect()\n",
    "    .fetch()\n",
    ")\n",
    "per_class_rates"
   ]
  },
  {
   "cell_type": "markdown",
   "metadata": {
    "id": "SUoApr5UJna1"
   },
   "source": [
    "Once again, we must use:\n",
    "- collect() to run the computation on the server\n",
    "- fetch() to retrieve the result locally \n",
    "\n",
    "In this case, no message appears because the query involves an aggregation step."
   ]
  },
  {
   "cell_type": "markdown",
   "metadata": {},
   "source": [
    "### Saving Dataframes\n",
    "\n",
    "You may want to save your dataframes so that you can continue operating on them at a later time. Saving your dataframes ensures that they will not be lost in the scenario of a server restart.\n",
    "\n",
    "To save a dataframe you only need to call save() on the remote dataframe. The server will save that dataframe to a file and reload it when the server restarts."
   ]
  },
  {
   "cell_type": "code",
   "execution_count": 12,
   "metadata": {},
   "outputs": [],
   "source": [
    "rdf.save()"
   ]
  },
  {
   "cell_type": "markdown",
   "metadata": {},
   "source": [
    "Be aware that you must note down the identifier of the dataframe you saved so that you may identify it when you'd like to work on it again.\n",
    "\n",
    "The identifier can be retrieved using the identifier property of the dataframe."
   ]
  },
  {
   "cell_type": "code",
   "execution_count": 13,
   "metadata": {},
   "outputs": [
    {
     "name": "stdout",
     "output_type": "stream",
     "text": [
      "463f030c-4b13-4d52-b2e9-f64efe37f560\n"
     ]
    }
   ],
   "source": [
    "print(rdf.identifier)"
   ]
  },
  {
   "cell_type": "markdown",
   "metadata": {
    "id": "ElGtVk90JvoC"
   },
   "source": [
    "### Data Visualization Functions\n",
    "\n",
    "The data scientist can also use plotting functions to visualize data while still upholding data privacy.\n",
    "\n",
    "Although plots are computed locally, the client only retrieves the necessary data and the policy guranties still hold."
   ]
  },
  {
   "cell_type": "markdown",
   "metadata": {
    "id": "71-OMO3IJ713"
   },
   "source": [
    "#### Barplot\n",
    "\n",
    "Barplots inherently aggregate data which makes them a good fit for private data exploration.\n",
    "Instead of fetching the whole DataFrame, BastionLab client selects relevant rows, runs an aggregation query on the server and fetches the aggregated data.\n",
    "\n",
    "In the following example, we plot the number of passengers who survived per age class. We set a bin size of 10 which means our age classes span 10 years."
   ]
  },
  {
   "cell_type": "code",
   "execution_count": 14,
   "metadata": {
    "id": "H2-2g_2RJ9TC"
   },
   "outputs": [
    {
     "name": "stdout",
     "output_type": "stream",
     "text": [
      "\u001b[33mWarning: non privacy-preserving queries necessitate data owner's approval.\n",
      "Reason: Only 1 subrules matched but at least 2 are required.\n",
      "Failed sub rules are:\n",
      "Rule #1: Cannot fetch a DataFrame that does not aggregate at least 10 rows of the initial dataframe uploaded by the data owner.\n",
      "\n",
      "A notification has been sent to the data owner. The request will be pending until the data owner accepts or denies it or until timeout seconds elapse.\u001b[37m\n",
      "\u001b[32mThe query has been accepted by the data owner.\u001b[37m\n"
     ]
    },
    {
     "data": {
      "image/png": "[encoded data removed]",
      "text/plain": [
       "<Figure size 640x480 with 1 Axes>"
      ]
     },
     "metadata": {},
     "output_type": "display_data"
    }
   ],
   "source": [
    "rdf.histplot(col_x=\"Age\", col_y=\"Survived\", bins=10, palette=\"bright\")"
   ]
  },
  {
   "cell_type": "markdown",
   "metadata": {},
   "source": [
    "We get a warning message because there are outliers in our data: people aged 70 or more are few. They form groups that are smaller than 10 in size and, so, they violate the Data Owner's policy.\n",
    "In practice, outlier data are more vulnerable to deanonymization attacks because they make correlations easier to find. It is standard practice in privacy to remove outlier data to mitigate this risk.\n",
    "\n",
    "One solution to make our example more-privacy preserving is to clip the age column to remove outliers prior to making the barplot."
   ]
  },
  {
   "cell_type": "code",
   "execution_count": 15,
   "metadata": {},
   "outputs": [
    {
     "name": "stdout",
     "output_type": "stream",
     "text": [
      "\u001b[33mWarning: non privacy-preserving queries necessitate data owner's approval.\n",
      "Reason: Only 1 subrules matched but at least 2 are required.\n",
      "Failed sub rules are:\n",
      "Rule #1: Cannot fetch a DataFrame that does not aggregate at least 10 rows of the initial dataframe uploaded by the data owner.\n",
      "\n",
      "A notification has been sent to the data owner. The request will be pending until the data owner accepts or denies it or until timeout seconds elapse.\u001b[37m\n",
      "\u001b[32mThe query has been accepted by the data owner.\u001b[37m\n"
     ]
    },
    {
     "data": {
      "image/png": "[encoded data removed]",
      "text/plain": [
       "<Figure size 640x480 with 1 Axes>"
      ]
     },
     "metadata": {},
     "output_type": "display_data"
    }
   ],
   "source": [
    "rdf.select([pl.col(\"Survived\"), pl.col(\"Age\").clip(0, 60)]).histplot(\n",
    "    col_x=\"Age\", col_y=\"Survived\", bins=10, palette=\"bright\"\n",
    ")"
   ]
  },
  {
   "cell_type": "markdown",
   "metadata": {},
   "source": [
    "In this case, outliers are counted in a new 60+ bin, and each bin aggregates at least 10 passengers. The query does not violate the safe zone anymore."
   ]
  },
  {
   "cell_type": "markdown",
   "metadata": {
    "id": "4M6JbJmXKNGR"
   },
   "source": [
    "#### Curve and scatter plots\n",
    "\n",
    "BastionLab also features other types of plots although these are less suited for privacy-preserving exploration.\n",
    "They typically require fetching the whole DataFrame because they do not naturally involve an aggregation step like barplots do.\n",
    "\n",
    "Bellow are two examples of the same relationship between age and survival as a curve plot and as a scatter plot."
   ]
  },
  {
   "cell_type": "code",
   "execution_count": 16,
   "metadata": {
    "id": "65nIvNBSKNt3"
   },
   "outputs": [
    {
     "name": "stdout",
     "output_type": "stream",
     "text": [
      "\u001b[33mWarning: non privacy-preserving queries necessitate data owner's approval.\n",
      "Reason: Only 1 subrules matched but at least 2 are required.\n",
      "Failed sub rules are:\n",
      "Rule #1: Cannot fetch a DataFrame that does not aggregate at least 10 rows of the initial dataframe uploaded by the data owner.\n",
      "\n",
      "A notification has been sent to the data owner. The request will be pending until the data owner accepts or denies it or until timeout seconds elapse.\u001b[37m\n",
      "\u001b[32mThe query has been accepted by the data owner.\u001b[37m\n"
     ]
    },
    {
     "data": {
      "image/png": "[encoded data removed]",
      "text/plain": [
       "<Figure size 640x480 with 1 Axes>"
      ]
     },
     "metadata": {},
     "output_type": "display_data"
    }
   ],
   "source": [
    "rdf.scatterplot(col_x=\"Age\", col_y=\"Survived\", bins=2, color=\"orange\")"
   ]
  },
  {
   "cell_type": "code",
   "execution_count": 17,
   "metadata": {
    "id": "VplE4fOFKdyD"
   },
   "outputs": [
    {
     "name": "stdout",
     "output_type": "stream",
     "text": [
      "\u001b[33mWarning: non privacy-preserving queries necessitate data owner's approval.\n",
      "Reason: Only 1 subrules matched but at least 2 are required.\n",
      "Failed sub rules are:\n",
      "Rule #1: Cannot fetch a DataFrame that does not aggregate at least 10 rows of the initial dataframe uploaded by the data owner.\n",
      "\n",
      "A notification has been sent to the data owner. The request will be pending until the data owner accepts or denies it or until timeout seconds elapse.\u001b[37m\n",
      "\u001b[32mThe query has been accepted by the data owner.\u001b[37m\n"
     ]
    },
    {
     "data": {
      "image/png": "[encoded data removed]",
      "text/plain": [
       "<Figure size 640x480 with 1 Axes>"
      ]
     },
     "metadata": {},
     "output_type": "display_data"
    }
   ],
   "source": [
    "rdf.curveplot(col_x=\"Age\", col_y=\"Survived\", bins=10)"
   ]
  },
  {
   "cell_type": "markdown",
   "metadata": {
    "id": "OrZA7dZnKido"
   },
   "source": [
    "For more information on these functions and more complex examples, check out our data visualization tutorial [here](../tutorials/visualization.ipynb)."
   ]
  },
  {
   "cell_type": "code",
   "execution_count": null,
   "metadata": {},
   "outputs": [],
   "source": []
  }
 ],
 "metadata": {
  "colab": {
   "provenance": []
  },
  "kernelspec": {
   "display_name": "Python 3 (ipykernel)",
   "language": "python",
   "name": "python3"
  },
  "language_info": {
   "codemirror_mode": {
    "name": "ipython",
    "version": 3
   },
   "file_extension": ".py",
   "mimetype": "text/x-python",
   "name": "python",
   "nbconvert_exporter": "python",
   "pygments_lexer": "ipython3",
   "version": "3.8.10"
  },
  "vscode": {
   "interpreter": {
    "hash": "e7370f93d1d0cde622a1f8e1c04877d8463912d04d973331ad4851f04de6915a"
   }
  }
 },
 "nbformat": 4,
 "nbformat_minor": 1
}
