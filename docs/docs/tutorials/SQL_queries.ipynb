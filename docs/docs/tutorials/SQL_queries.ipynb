{
 "cells": [
  {
   "attachments": {},
   "cell_type": "markdown",
   "metadata": {},
   "source": [
    "## SQL queries\n",
    "__________________________________________________"
   ]
  },
  {
   "attachments": {},
   "cell_type": "markdown",
   "metadata": {},
   "source": [
    "SQL is still the most important querying language in data science with around 70% of data scientists using SQL in their work. That's why we wanted to be able to accept SQL queries in BastionLab, enabling us to combine the familiarity of SQL queries with the security guarantees of BastionLab.\n",
    "\n",
    "In the following notebook tutorial, we will show you how to **run basic SQL queries on RemoteLazyFrames**. \n",
    "\n",
    "But before we go any further, let's get everything set up! If you already know how to do this from previous tutorial or our [quick tour](../quick-tour/quick-tour.ipynb), feel free to skip ahead to the SQL queries section!"
   ]
  },
  {
   "attachments": {},
   "cell_type": "markdown",
   "metadata": {},
   "source": [
    "## Downloading the dataset"
   ]
  },
  {
   "attachments": {},
   "cell_type": "markdown",
   "metadata": {},
   "source": [
    "For this tutorial, we will use the Titanic dataset, a dataset on passengers of the Titanic which is often used in Machine Learning demos and tests.\n",
    "\n",
    "You can download the dataset by running the following code block:"
   ]
  },
  {
   "cell_type": "code",
   "execution_count": null,
   "metadata": {},
   "outputs": [],
   "source": [
    "!wget 'https://raw.githubusercontent.com/datasciencedojo/datasets/master/titanic.csv'"
   ]
  },
  {
   "attachments": {},
   "cell_type": "markdown",
   "metadata": {},
   "source": [
    "*Alternatively, you can get it from source with a free user account at https://www.kaggle.com/competitions/titanic/data)*"
   ]
  },
  {
   "attachments": {},
   "cell_type": "markdown",
   "metadata": {
    "id": "YlQTyrwwOT6P"
   },
   "source": [
    "## Pre-requisites\n",
    "___________________________________________\n",
    "\n",
    "### Technical requirements\n",
    "\n",
    "To start this tutorial, ensure the following are already installed in your system:\n",
    "- Python3.7 or greater (get the latest version of Python at https://www.python.org/downloads/ or with your operating system’s package manager)\n",
    "- [Python Pip](https://pypi.org/project/pip/) (PyPi), the package manager\n",
    "\n",
    "### Pip packages\n",
    "\n",
    "In order to run this notebook, you will also need to install polars, bastionlab and bastionlab_server packages by running the following code block."
   ]
  },
  {
   "cell_type": "code",
   "execution_count": 30,
   "metadata": {
    "id": "afLaK6QON7-U",
    "tags": [
     "no_execute"
    ]
   },
   "outputs": [],
   "source": [
    "!pip install polars bastionlab bastionlab_server"
   ]
  },
  {
   "attachments": {},
   "cell_type": "markdown",
   "metadata": {},
   "source": [
    ">*Note that the bastionlab_server package we install here was created for testing purposes. You can alternatively install the BastionLab server using our Docker image or from source. Check out our [Installation Tutorial](../getting-started/installation.md) for more details.*"
   ]
  },
  {
   "attachments": {},
   "cell_type": "markdown",
   "metadata": {
    "id": "GqLROxasOf-d"
   },
   "source": [
    "### Launching the server\n",
    "\n",
    "The next step is to launch the server. The server exposes port `50056` for gRPC communication with clients and uses a default configuration (no authentication, default settings). For the purpose of this tutorial, these settings are sufficient and we won't change them. To launch the server, we use `bastionlab_server`'s `start()` method."
   ]
  },
  {
   "cell_type": "code",
   "execution_count": 31,
   "metadata": {
    "id": "LTtSRCMFOfm3",
    "tags": [
     "no_execute"
    ]
   },
   "outputs": [],
   "source": [
    "import bastionlab_server\n",
    "\n",
    "srv = bastionlab_server.start()"
   ]
  },
  {
   "attachments": {},
   "cell_type": "markdown",
   "metadata": {},
   "source": [
    "### Importing our Titanic csv file\n",
    "\n",
    "In order to upload our Titanic dataset to BastionLab, we first need to convert it into a Polars DataFrame by using polars `read_csv` function."
   ]
  },
  {
   "cell_type": "code",
   "execution_count": 32,
   "metadata": {
    "id": "7tby18jsFlHC"
   },
   "outputs": [],
   "source": [
    "import polars as pl\n",
    "\n",
    "df = pl.read_csv(\"titanic.csv\")"
   ]
  },
  {
   "attachments": {},
   "cell_type": "markdown",
   "metadata": {
    "id": "xX0tE-3zGOhT"
   },
   "source": [
    "We also need to establish a connection with the BastionLab server by creating an instance of `Connection()` and supplying the constructor with the host of our server instance.\n",
    "\n",
    ">*In a typical workflow, the data owner would send a set of keys to the server, so that authorization can be required for all users at the point of connection. **BastionLab offers the authorization feature**, but we will not use this for this tutorial as we want to dive into SQL queries as quickly as possibly. To learn how to set-up with authentication, you can refer to the [authentication tutorial](https://bastionlab.readthedocs.io/en/latest/docs/tutorials/authentication/).*"
   ]
  },
  {
   "cell_type": "code",
   "execution_count": 33,
   "metadata": {
    "id": "oCzcU937GeOT"
   },
   "outputs": [],
   "source": [
    "from bastionlab import Connection\n",
    "\n",
    "connection = Connection(\"localhost\", 50056)"
   ]
  },
  {
   "attachments": {},
   "cell_type": "markdown",
   "metadata": {
    "id": "Xj4VzVyrGx4o"
   },
   "source": [
    "### Creating our privacy policy\n",
    "\n",
    "Before we upload our Polars DataFrame, we can create a custom privacy policy by defining what is classed as safe/unsafe and how we should handle unsafe actions.\n",
    "\n",
    "Here I will create a policy which will log any queries which do not aggregate at least 10 rows."
   ]
  },
  {
   "cell_type": "code",
   "execution_count": 34,
   "metadata": {
    "id": "hXZ-z0r7GxT2"
   },
   "outputs": [],
   "source": [
    "from bastionlab.polars.policy import Policy, Aggregation, Log, Review\n",
    "\n",
    "policy = Policy(\n",
    "    safe_zone=Aggregation(min_agg_size=10), unsafe_handling=Log(), savable=False\n",
    ")"
   ]
  },
  {
   "attachments": {},
   "cell_type": "markdown",
   "metadata": {},
   "source": [
    "So finally, we can upload our DataFrame to BastionLab using the `send_df()` method of the `polars` interface of the client. We'll pass it our custom policy and a list of columns to be sanitized (*meaning set to null*) if retrieved by the data scientist."
   ]
  },
  {
   "cell_type": "code",
   "execution_count": 35,
   "metadata": {},
   "outputs": [],
   "source": [
    "rdf = connection.client.polars.send_df(df, policy=policy)"
   ]
  },
  {
   "attachments": {},
   "cell_type": "markdown",
   "metadata": {},
   "source": [
    "The server returns a `RemoteLazyFrame` which we will be working with throughout the rest of this tutorial!"
   ]
  },
  {
   "attachments": {},
   "cell_type": "markdown",
   "metadata": {
    "id": "_EsucHv3IZ8l"
   },
   "source": [
    "## SQL queries\n",
    "______________________________________________\n",
    "\n",
    "SQL queries in BastionLab work by using the `sql` method on your RemoteLazyFrame.\n",
    "\n",
    "`sql()` takes two arguments:\n",
    "- `query`: a string containing your query,\n",
    "- `rdfs`: Your RemoteLazyFrame(s) provided as *args.\n",
    "\n",
    "### Selects\n",
    "\n",
    "Let's start by looking at an example of how to select columns.\n",
    "\n",
    "We first create our query string. Instead of naming a table to work with after the `from` keyword, we should leave a placeholder {}. We then send the RemoteLazyFrame which should go in the place of this placeholder as the following argument to our `sql` function.\n",
    "\n",
    "Note you can user upper or lower case for the instructions in your SQL queries."
   ]
  },
  {
   "cell_type": "code",
   "execution_count": 36,
   "metadata": {
    "id": "KrGcCK5VIwg0"
   },
   "outputs": [
    {
     "name": "stdout",
     "output_type": "stream",
     "text": [
      "\u001b[33mWarning: non privacy-preserving query.\n",
      "Reason: Cannot fetch a result DataFrame that does not aggregate at least 10 rows of DataFrame 80dcbafe-6864-4958-9293-5af6dd493b1c.\n",
      "\n",
      "This incident will be reported to the data owner.\u001b[37m\n"
     ]
    },
    {
     "data": {
      "text/html": [
       "<div>\n",
       "<style scoped>\n",
       "    .dataframe tbody tr th:only-of-type {\n",
       "        vertical-align: middle;\n",
       "    }\n",
       "\n",
       "    .dataframe tbody tr th {\n",
       "        vertical-align: top;\n",
       "    }\n",
       "\n",
       "    .dataframe thead th {\n",
       "        text-align: right;\n",
       "    }\n",
       "\n",
       "    .dataframe td {\n",
       "        white-space: pre;\n",
       "    }\n",
       "\n",
       "    .dataframe td {\n",
       "        padding-top: 0;\n",
       "    }\n",
       "\n",
       "    .dataframe td {\n",
       "        padding-bottom: 0;\n",
       "    }\n",
       "</style>\n",
       "<table border=\"1\" class=\"dataframe\" >\n",
       "<small>shape: (3, 3)</small>\n",
       "<thead>\n",
       "<tr>\n",
       "<th>\n",
       "Name\n",
       "</th>\n",
       "<th>\n",
       "Sex\n",
       "</th>\n",
       "<th>\n",
       "Age\n",
       "</th>\n",
       "</tr>\n",
       "<tr>\n",
       "<td>\n",
       "str\n",
       "</td>\n",
       "<td>\n",
       "str\n",
       "</td>\n",
       "<td>\n",
       "f64\n",
       "</td>\n",
       "</tr>\n",
       "</thead>\n",
       "<tbody>\n",
       "<tr>\n",
       "<td>\n",
       "&quot;Braund, Mr. Ow...\n",
       "</td>\n",
       "<td>\n",
       "&quot;male&quot;\n",
       "</td>\n",
       "<td>\n",
       "22.0\n",
       "</td>\n",
       "</tr>\n",
       "<tr>\n",
       "<td>\n",
       "&quot;Cumings, Mrs. ...\n",
       "</td>\n",
       "<td>\n",
       "&quot;female&quot;\n",
       "</td>\n",
       "<td>\n",
       "38.0\n",
       "</td>\n",
       "</tr>\n",
       "<tr>\n",
       "<td>\n",
       "&quot;Heikkinen, Mis...\n",
       "</td>\n",
       "<td>\n",
       "&quot;female&quot;\n",
       "</td>\n",
       "<td>\n",
       "26.0\n",
       "</td>\n",
       "</tr>\n",
       "</tbody>\n",
       "</table>\n",
       "</div>"
      ],
      "text/plain": [
       "shape: (3, 3)\n",
       "┌─────────────────────────────────────┬────────┬──────┐\n",
       "│ Name                                ┆ Sex    ┆ Age  │\n",
       "│ ---                                 ┆ ---    ┆ ---  │\n",
       "│ str                                 ┆ str    ┆ f64  │\n",
       "╞═════════════════════════════════════╪════════╪══════╡\n",
       "│ Braund, Mr. Owen Harris             ┆ male   ┆ 22.0 │\n",
       "├╌╌╌╌╌╌╌╌╌╌╌╌╌╌╌╌╌╌╌╌╌╌╌╌╌╌╌╌╌╌╌╌╌╌╌╌╌┼╌╌╌╌╌╌╌╌┼╌╌╌╌╌╌┤\n",
       "│ Cumings, Mrs. John Bradley (Flor... ┆ female ┆ 38.0 │\n",
       "├╌╌╌╌╌╌╌╌╌╌╌╌╌╌╌╌╌╌╌╌╌╌╌╌╌╌╌╌╌╌╌╌╌╌╌╌╌┼╌╌╌╌╌╌╌╌┼╌╌╌╌╌╌┤\n",
       "│ Heikkinen, Miss. Laina              ┆ female ┆ 26.0 │\n",
       "└─────────────────────────────────────┴────────┴──────┘"
      ]
     },
     "execution_count": 36,
     "metadata": {},
     "output_type": "execute_result"
    }
   ],
   "source": [
    "# select the Sex and Age columns, limit output to 3 columns\n",
    "from bastionlab.polars import RemoteLazyFrame\n",
    "\n",
    "q = \"select Name, Sex, Age from {} limit 3\"\n",
    "RemoteLazyFrame.sql(q, rdf).collect().fetch()"
   ]
  },
  {
   "attachments": {},
   "cell_type": "markdown",
   "metadata": {},
   "source": [
    "### Select with where \n",
    "\n",
    "We can also add a where clause into our query. Note how we can use `IS NOT NULL` to filter out any null results."
   ]
  },
  {
   "cell_type": "code",
   "execution_count": 37,
   "metadata": {},
   "outputs": [
    {
     "name": "stdout",
     "output_type": "stream",
     "text": [
      "\u001b[33mWarning: non privacy-preserving query.\n",
      "Reason: Cannot fetch a result DataFrame that does not aggregate at least 10 rows of DataFrame 80dcbafe-6864-4958-9293-5af6dd493b1c.\n",
      "\n",
      "This incident will be reported to the data owner.\u001b[37m\n"
     ]
    },
    {
     "data": {
      "text/html": [
       "<div>\n",
       "<style scoped>\n",
       "    .dataframe tbody tr th:only-of-type {\n",
       "        vertical-align: middle;\n",
       "    }\n",
       "\n",
       "    .dataframe tbody tr th {\n",
       "        vertical-align: top;\n",
       "    }\n",
       "\n",
       "    .dataframe thead th {\n",
       "        text-align: right;\n",
       "    }\n",
       "\n",
       "    .dataframe td {\n",
       "        white-space: pre;\n",
       "    }\n",
       "\n",
       "    .dataframe td {\n",
       "        padding-top: 0;\n",
       "    }\n",
       "\n",
       "    .dataframe td {\n",
       "        padding-bottom: 0;\n",
       "    }\n",
       "</style>\n",
       "<table border=\"1\" class=\"dataframe\" >\n",
       "<small>shape: (6, 12)</small>\n",
       "<thead>\n",
       "<tr>\n",
       "<th>\n",
       "PassengerId\n",
       "</th>\n",
       "<th>\n",
       "Survived\n",
       "</th>\n",
       "<th>\n",
       "Pclass\n",
       "</th>\n",
       "<th>\n",
       "Name\n",
       "</th>\n",
       "<th>\n",
       "Sex\n",
       "</th>\n",
       "<th>\n",
       "Age\n",
       "</th>\n",
       "<th>\n",
       "SibSp\n",
       "</th>\n",
       "<th>\n",
       "Parch\n",
       "</th>\n",
       "<th>\n",
       "Ticket\n",
       "</th>\n",
       "<th>\n",
       "Fare\n",
       "</th>\n",
       "<th>\n",
       "Cabin\n",
       "</th>\n",
       "<th>\n",
       "Embarked\n",
       "</th>\n",
       "</tr>\n",
       "<tr>\n",
       "<td>\n",
       "i64\n",
       "</td>\n",
       "<td>\n",
       "i64\n",
       "</td>\n",
       "<td>\n",
       "i64\n",
       "</td>\n",
       "<td>\n",
       "str\n",
       "</td>\n",
       "<td>\n",
       "str\n",
       "</td>\n",
       "<td>\n",
       "f64\n",
       "</td>\n",
       "<td>\n",
       "i64\n",
       "</td>\n",
       "<td>\n",
       "i64\n",
       "</td>\n",
       "<td>\n",
       "str\n",
       "</td>\n",
       "<td>\n",
       "f64\n",
       "</td>\n",
       "<td>\n",
       "str\n",
       "</td>\n",
       "<td>\n",
       "str\n",
       "</td>\n",
       "</tr>\n",
       "</thead>\n",
       "<tbody>\n",
       "<tr>\n",
       "<td>\n",
       "436\n",
       "</td>\n",
       "<td>\n",
       "1\n",
       "</td>\n",
       "<td>\n",
       "1\n",
       "</td>\n",
       "<td>\n",
       "&quot;Carter, Miss. ...\n",
       "</td>\n",
       "<td>\n",
       "&quot;female&quot;\n",
       "</td>\n",
       "<td>\n",
       "14.0\n",
       "</td>\n",
       "<td>\n",
       "1\n",
       "</td>\n",
       "<td>\n",
       "2\n",
       "</td>\n",
       "<td>\n",
       "&quot;113760&quot;\n",
       "</td>\n",
       "<td>\n",
       "120.0\n",
       "</td>\n",
       "<td>\n",
       "&quot;B96 B98&quot;\n",
       "</td>\n",
       "<td>\n",
       "&quot;S&quot;\n",
       "</td>\n",
       "</tr>\n",
       "<tr>\n",
       "<td>\n",
       "505\n",
       "</td>\n",
       "<td>\n",
       "1\n",
       "</td>\n",
       "<td>\n",
       "1\n",
       "</td>\n",
       "<td>\n",
       "&quot;Maioni, Miss. ...\n",
       "</td>\n",
       "<td>\n",
       "&quot;female&quot;\n",
       "</td>\n",
       "<td>\n",
       "16.0\n",
       "</td>\n",
       "<td>\n",
       "0\n",
       "</td>\n",
       "<td>\n",
       "0\n",
       "</td>\n",
       "<td>\n",
       "&quot;110152&quot;\n",
       "</td>\n",
       "<td>\n",
       "86.5\n",
       "</td>\n",
       "<td>\n",
       "&quot;B79&quot;\n",
       "</td>\n",
       "<td>\n",
       "&quot;S&quot;\n",
       "</td>\n",
       "</tr>\n",
       "<tr>\n",
       "<td>\n",
       "690\n",
       "</td>\n",
       "<td>\n",
       "1\n",
       "</td>\n",
       "<td>\n",
       "1\n",
       "</td>\n",
       "<td>\n",
       "&quot;Madill, Miss. ...\n",
       "</td>\n",
       "<td>\n",
       "&quot;female&quot;\n",
       "</td>\n",
       "<td>\n",
       "15.0\n",
       "</td>\n",
       "<td>\n",
       "0\n",
       "</td>\n",
       "<td>\n",
       "1\n",
       "</td>\n",
       "<td>\n",
       "&quot;24160&quot;\n",
       "</td>\n",
       "<td>\n",
       "211.3375\n",
       "</td>\n",
       "<td>\n",
       "&quot;B5&quot;\n",
       "</td>\n",
       "<td>\n",
       "&quot;S&quot;\n",
       "</td>\n",
       "</tr>\n",
       "<tr>\n",
       "<td>\n",
       "782\n",
       "</td>\n",
       "<td>\n",
       "1\n",
       "</td>\n",
       "<td>\n",
       "1\n",
       "</td>\n",
       "<td>\n",
       "&quot;Dick, Mrs. Alb...\n",
       "</td>\n",
       "<td>\n",
       "&quot;female&quot;\n",
       "</td>\n",
       "<td>\n",
       "17.0\n",
       "</td>\n",
       "<td>\n",
       "1\n",
       "</td>\n",
       "<td>\n",
       "0\n",
       "</td>\n",
       "<td>\n",
       "&quot;17474&quot;\n",
       "</td>\n",
       "<td>\n",
       "57.0\n",
       "</td>\n",
       "<td>\n",
       "&quot;B20&quot;\n",
       "</td>\n",
       "<td>\n",
       "&quot;S&quot;\n",
       "</td>\n",
       "</tr>\n",
       "<tr>\n",
       "<td>\n",
       "803\n",
       "</td>\n",
       "<td>\n",
       "1\n",
       "</td>\n",
       "<td>\n",
       "1\n",
       "</td>\n",
       "<td>\n",
       "&quot;Carter, Master...\n",
       "</td>\n",
       "<td>\n",
       "&quot;male&quot;\n",
       "</td>\n",
       "<td>\n",
       "11.0\n",
       "</td>\n",
       "<td>\n",
       "1\n",
       "</td>\n",
       "<td>\n",
       "2\n",
       "</td>\n",
       "<td>\n",
       "&quot;113760&quot;\n",
       "</td>\n",
       "<td>\n",
       "120.0\n",
       "</td>\n",
       "<td>\n",
       "&quot;B96 B98&quot;\n",
       "</td>\n",
       "<td>\n",
       "&quot;S&quot;\n",
       "</td>\n",
       "</tr>\n",
       "<tr>\n",
       "<td>\n",
       "854\n",
       "</td>\n",
       "<td>\n",
       "1\n",
       "</td>\n",
       "<td>\n",
       "1\n",
       "</td>\n",
       "<td>\n",
       "&quot;Lines, Miss. M...\n",
       "</td>\n",
       "<td>\n",
       "&quot;female&quot;\n",
       "</td>\n",
       "<td>\n",
       "16.0\n",
       "</td>\n",
       "<td>\n",
       "0\n",
       "</td>\n",
       "<td>\n",
       "1\n",
       "</td>\n",
       "<td>\n",
       "&quot;PC 17592&quot;\n",
       "</td>\n",
       "<td>\n",
       "39.4\n",
       "</td>\n",
       "<td>\n",
       "&quot;D28&quot;\n",
       "</td>\n",
       "<td>\n",
       "&quot;S&quot;\n",
       "</td>\n",
       "</tr>\n",
       "</tbody>\n",
       "</table>\n",
       "</div>"
      ],
      "text/plain": [
       "shape: (6, 12)\n",
       "┌─────────────┬──────────┬────────┬───────────────┬─────┬──────────┬──────────┬─────────┬──────────┐\n",
       "│ PassengerId ┆ Survived ┆ Pclass ┆ Name          ┆ ... ┆ Ticket   ┆ Fare     ┆ Cabin   ┆ Embarked │\n",
       "│ ---         ┆ ---      ┆ ---    ┆ ---           ┆     ┆ ---      ┆ ---      ┆ ---     ┆ ---      │\n",
       "│ i64         ┆ i64      ┆ i64    ┆ str           ┆     ┆ str      ┆ f64      ┆ str     ┆ str      │\n",
       "╞═════════════╪══════════╪════════╪═══════════════╪═════╪══════════╪══════════╪═════════╪══════════╡\n",
       "│ 436         ┆ 1        ┆ 1      ┆ Carter, Miss. ┆ ... ┆ 113760   ┆ 120.0    ┆ B96 B98 ┆ S        │\n",
       "│             ┆          ┆        ┆ Lucile Polk   ┆     ┆          ┆          ┆         ┆          │\n",
       "├╌╌╌╌╌╌╌╌╌╌╌╌╌┼╌╌╌╌╌╌╌╌╌╌┼╌╌╌╌╌╌╌╌┼╌╌╌╌╌╌╌╌╌╌╌╌╌╌╌┼╌╌╌╌╌┼╌╌╌╌╌╌╌╌╌╌┼╌╌╌╌╌╌╌╌╌╌┼╌╌╌╌╌╌╌╌╌┼╌╌╌╌╌╌╌╌╌╌┤\n",
       "│ 505         ┆ 1        ┆ 1      ┆ Maioni, Miss. ┆ ... ┆ 110152   ┆ 86.5     ┆ B79     ┆ S        │\n",
       "│             ┆          ┆        ┆ Roberta       ┆     ┆          ┆          ┆         ┆          │\n",
       "├╌╌╌╌╌╌╌╌╌╌╌╌╌┼╌╌╌╌╌╌╌╌╌╌┼╌╌╌╌╌╌╌╌┼╌╌╌╌╌╌╌╌╌╌╌╌╌╌╌┼╌╌╌╌╌┼╌╌╌╌╌╌╌╌╌╌┼╌╌╌╌╌╌╌╌╌╌┼╌╌╌╌╌╌╌╌╌┼╌╌╌╌╌╌╌╌╌╌┤\n",
       "│ 690         ┆ 1        ┆ 1      ┆ Madill, Miss. ┆ ... ┆ 24160    ┆ 211.3375 ┆ B5      ┆ S        │\n",
       "│             ┆          ┆        ┆ Georgette     ┆     ┆          ┆          ┆         ┆          │\n",
       "│             ┆          ┆        ┆ Alexandr...   ┆     ┆          ┆          ┆         ┆          │\n",
       "├╌╌╌╌╌╌╌╌╌╌╌╌╌┼╌╌╌╌╌╌╌╌╌╌┼╌╌╌╌╌╌╌╌┼╌╌╌╌╌╌╌╌╌╌╌╌╌╌╌┼╌╌╌╌╌┼╌╌╌╌╌╌╌╌╌╌┼╌╌╌╌╌╌╌╌╌╌┼╌╌╌╌╌╌╌╌╌┼╌╌╌╌╌╌╌╌╌╌┤\n",
       "│ 782         ┆ 1        ┆ 1      ┆ Dick, Mrs.    ┆ ... ┆ 17474    ┆ 57.0     ┆ B20     ┆ S        │\n",
       "│             ┆          ┆        ┆ Albert Adrian ┆     ┆          ┆          ┆         ┆          │\n",
       "│             ┆          ┆        ┆ (Vera G...    ┆     ┆          ┆          ┆         ┆          │\n",
       "├╌╌╌╌╌╌╌╌╌╌╌╌╌┼╌╌╌╌╌╌╌╌╌╌┼╌╌╌╌╌╌╌╌┼╌╌╌╌╌╌╌╌╌╌╌╌╌╌╌┼╌╌╌╌╌┼╌╌╌╌╌╌╌╌╌╌┼╌╌╌╌╌╌╌╌╌╌┼╌╌╌╌╌╌╌╌╌┼╌╌╌╌╌╌╌╌╌╌┤\n",
       "│ 803         ┆ 1        ┆ 1      ┆ Carter,       ┆ ... ┆ 113760   ┆ 120.0    ┆ B96 B98 ┆ S        │\n",
       "│             ┆          ┆        ┆ Master.       ┆     ┆          ┆          ┆         ┆          │\n",
       "│             ┆          ┆        ┆ William       ┆     ┆          ┆          ┆         ┆          │\n",
       "│             ┆          ┆        ┆ Thornton...   ┆     ┆          ┆          ┆         ┆          │\n",
       "├╌╌╌╌╌╌╌╌╌╌╌╌╌┼╌╌╌╌╌╌╌╌╌╌┼╌╌╌╌╌╌╌╌┼╌╌╌╌╌╌╌╌╌╌╌╌╌╌╌┼╌╌╌╌╌┼╌╌╌╌╌╌╌╌╌╌┼╌╌╌╌╌╌╌╌╌╌┼╌╌╌╌╌╌╌╌╌┼╌╌╌╌╌╌╌╌╌╌┤\n",
       "│ 854         ┆ 1        ┆ 1      ┆ Lines, Miss.  ┆ ... ┆ PC 17592 ┆ 39.4     ┆ D28     ┆ S        │\n",
       "│             ┆          ┆        ┆ Mary Conover  ┆     ┆          ┆          ┆         ┆          │\n",
       "└─────────────┴──────────┴────────┴───────────────┴─────┴──────────┴──────────┴─────────┴──────────┘"
      ]
     },
     "execution_count": 37,
     "metadata": {},
     "output_type": "execute_result"
    }
   ],
   "source": [
    "q = \"SELECT * FROM {} WHERE Age BETWEEN 10 AND 18 AND Embarked = 'S' AND Cabin IS NOT NULL\"\n",
    "RemoteLazyFrame.sql(q, rdf).collect().fetch()"
   ]
  },
  {
   "attachments": {},
   "cell_type": "markdown",
   "metadata": {},
   "source": [
    "#### Aggregated queries\n",
    "\n",
    "So let's now do a few examples. Firstly, I am going to get the oldest and youngest passengers on the titanic by using `max` and `min` in my queries. I will also get the average age of passengers using `Avg`."
   ]
  },
  {
   "cell_type": "code",
   "execution_count": 38,
   "metadata": {},
   "outputs": [
    {
     "data": {
      "text/html": [
       "<div>\n",
       "<style scoped>\n",
       "    .dataframe tbody tr th:only-of-type {\n",
       "        vertical-align: middle;\n",
       "    }\n",
       "\n",
       "    .dataframe tbody tr th {\n",
       "        vertical-align: top;\n",
       "    }\n",
       "\n",
       "    .dataframe thead th {\n",
       "        text-align: right;\n",
       "    }\n",
       "\n",
       "    .dataframe td {\n",
       "        white-space: pre;\n",
       "    }\n",
       "\n",
       "    .dataframe td {\n",
       "        padding-top: 0;\n",
       "    }\n",
       "\n",
       "    .dataframe td {\n",
       "        padding-bottom: 0;\n",
       "    }\n",
       "</style>\n",
       "<table border=\"1\" class=\"dataframe\" >\n",
       "<small>shape: (1, 3)</small>\n",
       "<thead>\n",
       "<tr>\n",
       "<th>\n",
       "Oldest\n",
       "</th>\n",
       "<th>\n",
       "Youngest\n",
       "</th>\n",
       "<th>\n",
       "Average\n",
       "</th>\n",
       "</tr>\n",
       "<tr>\n",
       "<td>\n",
       "f64\n",
       "</td>\n",
       "<td>\n",
       "f64\n",
       "</td>\n",
       "<td>\n",
       "f64\n",
       "</td>\n",
       "</tr>\n",
       "</thead>\n",
       "<tbody>\n",
       "<tr>\n",
       "<td>\n",
       "80.0\n",
       "</td>\n",
       "<td>\n",
       "0.42\n",
       "</td>\n",
       "<td>\n",
       "29.699118\n",
       "</td>\n",
       "</tr>\n",
       "</tbody>\n",
       "</table>\n",
       "</div>"
      ],
      "text/plain": [
       "shape: (1, 3)\n",
       "┌────────┬──────────┬───────────┐\n",
       "│ Oldest ┆ Youngest ┆ Average   │\n",
       "│ ---    ┆ ---      ┆ ---       │\n",
       "│ f64    ┆ f64      ┆ f64       │\n",
       "╞════════╪══════════╪═══════════╡\n",
       "│ 80.0   ┆ 0.42     ┆ 29.699118 │\n",
       "└────────┴──────────┴───────────┘"
      ]
     },
     "execution_count": 38,
     "metadata": {},
     "output_type": "execute_result"
    }
   ],
   "source": [
    "q = \"SELECT Max(Age) AS Oldest, Min(Age) AS Youngest, Avg(Age) AS Average FROM {}\"\n",
    "RemoteLazyFrame.sql(q, rdf).collect().fetch()"
   ]
  },
  {
   "attachments": {},
   "cell_type": "markdown",
   "metadata": {},
   "source": [
    "Note that although 0.42 may seem a strange result to get for an age query, there is indeed a 0.42 entry in the Titanic dataset if we check!\n",
    "\n",
    "### Group by\n",
    "Next up, we are going to get the number of survivors in each class (1, 2 and 3) by using `group by`."
   ]
  },
  {
   "cell_type": "code",
   "execution_count": 39,
   "metadata": {},
   "outputs": [
    {
     "data": {
      "text/html": [
       "<div>\n",
       "<style scoped>\n",
       "    .dataframe tbody tr th:only-of-type {\n",
       "        vertical-align: middle;\n",
       "    }\n",
       "\n",
       "    .dataframe tbody tr th {\n",
       "        vertical-align: top;\n",
       "    }\n",
       "\n",
       "    .dataframe thead th {\n",
       "        text-align: right;\n",
       "    }\n",
       "\n",
       "    .dataframe td {\n",
       "        white-space: pre;\n",
       "    }\n",
       "\n",
       "    .dataframe td {\n",
       "        padding-top: 0;\n",
       "    }\n",
       "\n",
       "    .dataframe td {\n",
       "        padding-bottom: 0;\n",
       "    }\n",
       "</style>\n",
       "<table border=\"1\" class=\"dataframe\" >\n",
       "<small>shape: (3, 2)</small>\n",
       "<thead>\n",
       "<tr>\n",
       "<th>\n",
       "Pclass\n",
       "</th>\n",
       "<th>\n",
       "Survived\n",
       "</th>\n",
       "</tr>\n",
       "<tr>\n",
       "<td>\n",
       "i64\n",
       "</td>\n",
       "<td>\n",
       "u32\n",
       "</td>\n",
       "</tr>\n",
       "</thead>\n",
       "<tbody>\n",
       "<tr>\n",
       "<td>\n",
       "1\n",
       "</td>\n",
       "<td>\n",
       "216\n",
       "</td>\n",
       "</tr>\n",
       "<tr>\n",
       "<td>\n",
       "2\n",
       "</td>\n",
       "<td>\n",
       "184\n",
       "</td>\n",
       "</tr>\n",
       "<tr>\n",
       "<td>\n",
       "3\n",
       "</td>\n",
       "<td>\n",
       "491\n",
       "</td>\n",
       "</tr>\n",
       "</tbody>\n",
       "</table>\n",
       "</div>"
      ],
      "text/plain": [
       "shape: (3, 2)\n",
       "┌────────┬──────────┐\n",
       "│ Pclass ┆ Survived │\n",
       "│ ---    ┆ ---      │\n",
       "│ i64    ┆ u32      │\n",
       "╞════════╪══════════╡\n",
       "│ 1      ┆ 216      │\n",
       "├╌╌╌╌╌╌╌╌┼╌╌╌╌╌╌╌╌╌╌┤\n",
       "│ 2      ┆ 184      │\n",
       "├╌╌╌╌╌╌╌╌┼╌╌╌╌╌╌╌╌╌╌┤\n",
       "│ 3      ┆ 491      │\n",
       "└────────┴──────────┘"
      ]
     },
     "execution_count": 39,
     "metadata": {},
     "output_type": "execute_result"
    }
   ],
   "source": [
    "q = 'SELECT Pclass, count(\"Survived\") FROM {} GROUP BY Pclass ORDER BY Pclass'\n",
    "RemoteLazyFrame.sql(q, rdf).collect().fetch()"
   ]
  },
  {
   "attachments": {},
   "cell_type": "markdown",
   "metadata": {},
   "source": [
    "## Joins\n",
    "\n",
    "Finally, let's take a look at an example of a join. We will do an inner join to combine rdf1, with Element and Melting Point columns, with rdf2, which has element and Id columns.\n",
    "\n",
    "Notice here how we need to send our RemoteLazyFrames as arguments to `sql()` twice because we use our placeholders twice in our SQL query!"
   ]
  },
  {
   "cell_type": "code",
   "execution_count": 40,
   "metadata": {},
   "outputs": [
    {
     "name": "stdout",
     "output_type": "stream",
     "text": [
      "\u001b[33mWarning: non privacy-preserving query.\n",
      "Reason: Cannot fetch a result DataFrame that does not aggregate at least 10 rows of DataFrame de896370-91d4-4f10-aeae-f651627d7f80.\n",
      "\n",
      "This incident will be reported to the data owner.\u001b[37m\n"
     ]
    },
    {
     "data": {
      "text/html": [
       "<div>\n",
       "<style scoped>\n",
       "    .dataframe tbody tr th:only-of-type {\n",
       "        vertical-align: middle;\n",
       "    }\n",
       "\n",
       "    .dataframe tbody tr th {\n",
       "        vertical-align: top;\n",
       "    }\n",
       "\n",
       "    .dataframe thead th {\n",
       "        text-align: right;\n",
       "    }\n",
       "\n",
       "    .dataframe td {\n",
       "        white-space: pre;\n",
       "    }\n",
       "\n",
       "    .dataframe td {\n",
       "        padding-top: 0;\n",
       "    }\n",
       "\n",
       "    .dataframe td {\n",
       "        padding-bottom: 0;\n",
       "    }\n",
       "</style>\n",
       "<table border=\"1\" class=\"dataframe\" >\n",
       "<small>shape: (2, 3)</small>\n",
       "<thead>\n",
       "<tr>\n",
       "<th>\n",
       "Element\n",
       "</th>\n",
       "<th>\n",
       "Melting Point (K)\n",
       "</th>\n",
       "<th>\n",
       "Id\n",
       "</th>\n",
       "</tr>\n",
       "<tr>\n",
       "<td>\n",
       "str\n",
       "</td>\n",
       "<td>\n",
       "f64\n",
       "</td>\n",
       "<td>\n",
       "i64\n",
       "</td>\n",
       "</tr>\n",
       "</thead>\n",
       "<tbody>\n",
       "<tr>\n",
       "<td>\n",
       "&quot;Silver&quot;\n",
       "</td>\n",
       "<td>\n",
       "1234.93\n",
       "</td>\n",
       "<td>\n",
       "1\n",
       "</td>\n",
       "</tr>\n",
       "<tr>\n",
       "<td>\n",
       "&quot;Gold&quot;\n",
       "</td>\n",
       "<td>\n",
       "1337.33\n",
       "</td>\n",
       "<td>\n",
       "2\n",
       "</td>\n",
       "</tr>\n",
       "</tbody>\n",
       "</table>\n",
       "</div>"
      ],
      "text/plain": [
       "shape: (2, 3)\n",
       "┌─────────┬───────────────────┬─────┐\n",
       "│ Element ┆ Melting Point (K) ┆ Id  │\n",
       "│ ---     ┆ ---               ┆ --- │\n",
       "│ str     ┆ f64               ┆ i64 │\n",
       "╞═════════╪═══════════════════╪═════╡\n",
       "│ Silver  ┆ 1234.93           ┆ 1   │\n",
       "├╌╌╌╌╌╌╌╌╌┼╌╌╌╌╌╌╌╌╌╌╌╌╌╌╌╌╌╌╌┼╌╌╌╌╌┤\n",
       "│ Gold    ┆ 1337.33           ┆ 2   │\n",
       "└─────────┴───────────────────┴─────┘"
      ]
     },
     "execution_count": 40,
     "metadata": {},
     "output_type": "execute_result"
    }
   ],
   "source": [
    "df1 = pl.DataFrame(\n",
    "    {\n",
    "        \"Element\": [\"Silver\", \"Gold\"],\n",
    "        \"Melting Point (K)\": [1234.93, 1337.33],\n",
    "    }\n",
    ")\n",
    "\n",
    "df2 = pl.DataFrame({\"Element\": [\"Silver\", \"Gold\"], \"Id\": [1, 2]})\n",
    "\n",
    "rdf1 = connection.client.polars.send_df(df1, policy=policy)\n",
    "rdf2 = connection.client.polars.send_df(df2, policy=policy)\n",
    "\n",
    "test = RemoteLazyFrame.sql(\n",
    "    \"SELECT * FROM {} inner join {} ON {}.Element = {}.Element\", rdf1, rdf2, rdf1, rdf2\n",
    ")\n",
    "test.collect().fetch()"
   ]
  },
  {
   "attachments": {},
   "cell_type": "markdown",
   "metadata": {},
   "source": [
    "So that brings our tutorial on SQL queries to an end. We have learnt how to select data, how to filter data down using `WHERE`, how to use `GROUP BY` and aggregate functions and how to do `joins` using BastionLab's sql() functionality.\n",
    "\n",
    "However, please be aware that not all SQL functionality will work with BastionLab- sometimes this is not possible for security reasons and other times this is due to features not yet being implemented in the underlying polars-sql package. For example, DELETE, UPDATE, CASE, INSERT and FULL OUTER and RIGHT JOIN are all not currently possible."
   ]
  },
  {
   "attachments": {},
   "cell_type": "markdown",
   "metadata": {
    "id": "OrZA7dZnKido"
   },
   "source": [
    "Let's now close the connection and shutdown the server."
   ]
  },
  {
   "cell_type": "code",
   "execution_count": null,
   "metadata": {},
   "outputs": [],
   "source": [
    "connection.close()"
   ]
  },
  {
   "cell_type": "code",
   "execution_count": null,
   "metadata": {
    "tags": [
     "no_execute"
    ]
   },
   "outputs": [],
   "source": [
    "bastionlab_server.stop(srv)"
   ]
  }
 ],
 "metadata": {
  "colab": {
   "provenance": []
  },
  "kernelspec": {
   "display_name": ".venv",
   "language": "python",
   "name": "python3"
  },
  "language_info": {
   "codemirror_mode": {
    "name": "ipython",
    "version": 3
   },
   "file_extension": ".py",
   "mimetype": "text/x-python",
   "name": "python",
   "nbconvert_exporter": "python",
   "pygments_lexer": "ipython3",
   "version": "3.9.13"
  },
  "vscode": {
   "interpreter": {
    "hash": "60a9b1828ecb875c5af17e6120592a2c9a4de3c2557a5f8c6fb574c1e392c466"
   }
  }
 },
 "nbformat": 4,
 "nbformat_minor": 0
}
