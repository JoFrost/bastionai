{
 "cells": [
  {
   "attachments": {},
   "cell_type": "markdown",
   "metadata": {},
   "source": [
    "# Combining Datasets Tutorial\n",
    "\n",
    "In this tutorial, we are going to explore how we can combine remote datasets securely in BastionLab. Combining datasets allows us to train models or run queries on multiple datasets from different parties, which can lead to much more powerful results. \n",
    "\n",
    "Let's take an example: say 100 different hospitals around the world want to take part in a project to train a machine learning model to determine if a patient has Covid-19 based on a chest X-ray scan. The model will almost certainly be much more accurate and relevant to a more varied range of patients if this model is trained on a combined dataset from the 100 hospitals than from any one of these hospital.\n",
    "\n",
    "The vital advantage of doing this with a RemoteLazyFrame is that a data scientist can combine all of these datasets without having direct access to any one of them, enabling a level of collaboration which may previously have been deemed too risky in terms of data privacy.\n",
    "\n",
    "So let's take a look at the steps required to combine datasets.\n",
    "\n",
    "## Pre-requisites\n",
    "### Technical Requirements\n",
    "\n",
    "To follow along with this tutorial, ensure the following are already installed in your system:\n",
    "- Python3.7 or greater (get the latest version of Python at https://www.python.org/downloads/ or with your operating system’s package manager)\n",
    "- [Python Pip](https://pypi.org/project/pip/) (PyPi), the package manager\n",
    "\n",
    "### Pip packages\n",
    "\n",
    "In order to run this notebook, you will also need to install Polars, Bastionlab and the bastionlab_server packages by running the following code block."
   ]
  },
  {
   "cell_type": "code",
   "execution_count": 1,
   "metadata": {},
   "outputs": [],
   "source": [
    "!pip install bastionlab, polars, bastionlab_server"
   ]
  },
  {
   "attachments": {},
   "cell_type": "markdown",
   "metadata": {},
   "source": [
    ">*Note that the bastionlab_server package we install here was created for testing purposes. You can alternatively install the BastionLab server using our Docker image or from source. Check out our [Installation Tutorial](../tutorials/installation.md) for more details.*"
   ]
  },
  {
   "attachments": {},
   "cell_type": "markdown",
   "metadata": {},
   "source": [
    "## Launching the server\n",
    "\n",
    "The next step is to launch the server. The server exposes port 50056 for gRPC communication with clients and uses a default configuration (no authentication, default settings). For the purpose of this tutorial, these settings are sufficient and we won't change them. To launch the server, we simply use bastionlab_server's start method."
   ]
  },
  {
   "cell_type": "code",
   "execution_count": null,
   "metadata": {},
   "outputs": [],
   "source": [
    "import bastionlab_server\n",
    "\n",
    "srv = bastionlab_server.start()"
   ]
  },
  {
   "attachments": {},
   "cell_type": "markdown",
   "metadata": {},
   "source": [
    "## Connecting to the sever and uploading our data frames"
   ]
  },
  {
   "attachments": {},
   "cell_type": "markdown",
   "metadata": {},
   "source": [
    "We will connect to the server via the Connection() constructor."
   ]
  },
  {
   "cell_type": "code",
   "execution_count": null,
   "metadata": {},
   "outputs": [],
   "source": [
    "from bastionlab import Connection\n",
    "\n",
    "connection = Connection(\"localhost\")\n",
    "client = connection.client"
   ]
  },
  {
   "attachments": {},
   "cell_type": "markdown",
   "metadata": {},
   "source": [
    "Next, we will create three short Polars dataframes which we will then use to demonstrate how to combine datasets. Our three dataframes have an \"Element\" column containing elements and a \"Melting Point (K)\" column with their corresponding melting points."
   ]
  },
  {
   "cell_type": "code",
   "execution_count": 4,
   "metadata": {},
   "outputs": [],
   "source": [
    "import polars as pl\n",
    "\n",
    "df1 = pl.DataFrame(\n",
    "    {\n",
    "        \"Element\": [\"Copper\", \"Silver\", \"Gold\"],\n",
    "        \"Melting Point (K)\": [1357.77, 1234.93, 1337.33],\n",
    "    }\n",
    ")\n",
    "\n",
    "df2 = pl.DataFrame(\n",
    "    {\"Element\": [\"Platinum\", \"Palladium\"], \"Melting Point (K)\": [2041.4, 1828.05]}\n",
    ")\n",
    "\n",
    "df3 = pl.DataFrame({\"Element\": [\"Titanium\"], \"Melting Point (K)\": [1945.0]})"
   ]
  },
  {
   "attachments": {},
   "cell_type": "markdown",
   "metadata": {},
   "source": [
    "We now need to send these Polar dataframes to the server to get back our RemoteLazyFrame instances. In a real-life scenario, it may well be the data owner that sends over the dataframes and a data scientist who connects with authentication and retrieves these RemoteLazyFrame instances.\n",
    "\n",
    "We normally would use the default or a safe customized policy to ensure that anyone who works with our datasets from now on will not be able to run queries that compromise the privacy our data. However, in this tutorial we are going to specify a policy which will allow us full access to the data, simply so we can easily print out the datasets in full without needing to request access for illustrative purposes. To do this, we set the `unsafe_zone` parameter to `TrueRule()` to allow all requests. In this case, the `unsafe_handling` parameter can be anything (as there are no unsafe requests), we set it to `Log()` in the following example.\n",
    "\n",
    ">*Important note - This unsafe policy is not suited for production.*\n",
    "\n",
    "We now send our three dataframes to the server, using our custom policy and get back three RemoteLazyFrame instances."
   ]
  },
  {
   "cell_type": "code",
   "execution_count": 5,
   "metadata": {},
   "outputs": [],
   "source": [
    "from bastionlab.polars.policy import Policy, TrueRule, Log\n",
    "\n",
    "policy = Policy(safe_zone=TrueRule(), unsafe_handling=Log())\n",
    "\n",
    "rdf1 = client.polars.send_df(df1, policy=policy)\n",
    "rdf2 = client.polars.send_df(df2, policy=policy)\n",
    "rdf3 = client.polars.send_df(df3, policy=policy)"
   ]
  },
  {
   "attachments": {},
   "cell_type": "markdown",
   "metadata": {},
   "source": [
    "## Appending datasets\n",
    "\n",
    "We can now move onto exploring how to append RemoteLazyFrames using vstack. Vstack can be used to append any RemoteLazyFrame to another where the column names and types match. \n",
    "\n",
    ">*You can learn about dataset preparation, including changing column types, names and adding and removing columns, in our [Data cleaning tutorial](https://bastionlab.readthedocs.io/en/latest/docs/tutorials/data_cleaning/)*\n",
    "\n",
    "We call the vstack method on the first RemoteLazyFrame and then give the RemoteLazyFrame we want to append to it as an argument. Vstack returns the resulting combined RemoteLazyFrame.\n",
    "\n",
    "Here, for example, rdf2, containing Platinum and Palladium, is appended to rdf1, containing Copper, Silver and Gold. We set rdf1 to equal combined RemoteLazyFrame returned by vstack, and so when we .collect().fetch() rdf1, we see the resulting combined dataset."
   ]
  },
  {
   "cell_type": "code",
   "execution_count": 6,
   "metadata": {},
   "outputs": [
    {
     "data": {
      "text/html": [
       "<div>\n",
       "<style scoped>\n",
       "    .dataframe tbody tr th:only-of-type {\n",
       "        vertical-align: middle;\n",
       "    }\n",
       "\n",
       "    .dataframe tbody tr th {\n",
       "        vertical-align: top;\n",
       "    }\n",
       "\n",
       "    .dataframe thead th {\n",
       "        text-align: right;\n",
       "    }\n",
       "\n",
       "    .dataframe td {\n",
       "        white-space: pre;\n",
       "    }\n",
       "\n",
       "    .dataframe td {\n",
       "        padding-top: 0;\n",
       "    }\n",
       "\n",
       "    .dataframe td {\n",
       "        padding-bottom: 0;\n",
       "    }\n",
       "</style>\n",
       "<table border=\"1\" class=\"dataframe\" >\n",
       "<small>shape: (5, 2)</small>\n",
       "<thead>\n",
       "<tr>\n",
       "<th>\n",
       "Element\n",
       "</th>\n",
       "<th>\n",
       "Melting Point (K)\n",
       "</th>\n",
       "</tr>\n",
       "<tr>\n",
       "<td>\n",
       "str\n",
       "</td>\n",
       "<td>\n",
       "f64\n",
       "</td>\n",
       "</tr>\n",
       "</thead>\n",
       "<tbody>\n",
       "<tr>\n",
       "<td>\n",
       "&quot;Copper&quot;\n",
       "</td>\n",
       "<td>\n",
       "1357.77\n",
       "</td>\n",
       "</tr>\n",
       "<tr>\n",
       "<td>\n",
       "&quot;Silver&quot;\n",
       "</td>\n",
       "<td>\n",
       "1234.93\n",
       "</td>\n",
       "</tr>\n",
       "<tr>\n",
       "<td>\n",
       "&quot;Gold&quot;\n",
       "</td>\n",
       "<td>\n",
       "1337.33\n",
       "</td>\n",
       "</tr>\n",
       "<tr>\n",
       "<td>\n",
       "&quot;Platinum&quot;\n",
       "</td>\n",
       "<td>\n",
       "2041.4\n",
       "</td>\n",
       "</tr>\n",
       "<tr>\n",
       "<td>\n",
       "&quot;Palladium&quot;\n",
       "</td>\n",
       "<td>\n",
       "1828.05\n",
       "</td>\n",
       "</tr>\n",
       "</tbody>\n",
       "</table>\n",
       "</div>"
      ],
      "text/plain": [
       "shape: (5, 2)\n",
       "┌───────────┬───────────────────┐\n",
       "│ Element   ┆ Melting Point (K) │\n",
       "│ ---       ┆ ---               │\n",
       "│ str       ┆ f64               │\n",
       "╞═══════════╪═══════════════════╡\n",
       "│ Copper    ┆ 1357.77           │\n",
       "├╌╌╌╌╌╌╌╌╌╌╌┼╌╌╌╌╌╌╌╌╌╌╌╌╌╌╌╌╌╌╌┤\n",
       "│ Silver    ┆ 1234.93           │\n",
       "├╌╌╌╌╌╌╌╌╌╌╌┼╌╌╌╌╌╌╌╌╌╌╌╌╌╌╌╌╌╌╌┤\n",
       "│ Gold      ┆ 1337.33           │\n",
       "├╌╌╌╌╌╌╌╌╌╌╌┼╌╌╌╌╌╌╌╌╌╌╌╌╌╌╌╌╌╌╌┤\n",
       "│ Platinum  ┆ 2041.4            │\n",
       "├╌╌╌╌╌╌╌╌╌╌╌┼╌╌╌╌╌╌╌╌╌╌╌╌╌╌╌╌╌╌╌┤\n",
       "│ Palladium ┆ 1828.05           │\n",
       "└───────────┴───────────────────┘"
      ]
     },
     "execution_count": 6,
     "metadata": {},
     "output_type": "execute_result"
    }
   ],
   "source": [
    "rdf1 = rdf1.vstack(rdf2)\n",
    "rdf1.collect().fetch()"
   ]
  },
  {
   "cell_type": "markdown",
   "metadata": {},
   "source": [
    "Next we will add our third RemoteLazyFrame containing Titanium to rdf1, two times!\n",
    "\n",
    "As you can see, we now have all the previous elements, plus two lots of Titanium at the end."
   ]
  },
  {
   "cell_type": "code",
   "execution_count": 7,
   "metadata": {},
   "outputs": [
    {
     "data": {
      "text/html": [
       "<div>\n",
       "<style scoped>\n",
       "    .dataframe tbody tr th:only-of-type {\n",
       "        vertical-align: middle;\n",
       "    }\n",
       "\n",
       "    .dataframe tbody tr th {\n",
       "        vertical-align: top;\n",
       "    }\n",
       "\n",
       "    .dataframe thead th {\n",
       "        text-align: right;\n",
       "    }\n",
       "\n",
       "    .dataframe td {\n",
       "        white-space: pre;\n",
       "    }\n",
       "\n",
       "    .dataframe td {\n",
       "        padding-top: 0;\n",
       "    }\n",
       "\n",
       "    .dataframe td {\n",
       "        padding-bottom: 0;\n",
       "    }\n",
       "</style>\n",
       "<table border=\"1\" class=\"dataframe\" >\n",
       "<small>shape: (7, 2)</small>\n",
       "<thead>\n",
       "<tr>\n",
       "<th>\n",
       "Element\n",
       "</th>\n",
       "<th>\n",
       "Melting Point (K)\n",
       "</th>\n",
       "</tr>\n",
       "<tr>\n",
       "<td>\n",
       "str\n",
       "</td>\n",
       "<td>\n",
       "f64\n",
       "</td>\n",
       "</tr>\n",
       "</thead>\n",
       "<tbody>\n",
       "<tr>\n",
       "<td>\n",
       "&quot;Copper&quot;\n",
       "</td>\n",
       "<td>\n",
       "1357.77\n",
       "</td>\n",
       "</tr>\n",
       "<tr>\n",
       "<td>\n",
       "&quot;Silver&quot;\n",
       "</td>\n",
       "<td>\n",
       "1234.93\n",
       "</td>\n",
       "</tr>\n",
       "<tr>\n",
       "<td>\n",
       "&quot;Gold&quot;\n",
       "</td>\n",
       "<td>\n",
       "1337.33\n",
       "</td>\n",
       "</tr>\n",
       "<tr>\n",
       "<td>\n",
       "&quot;Platinum&quot;\n",
       "</td>\n",
       "<td>\n",
       "2041.4\n",
       "</td>\n",
       "</tr>\n",
       "<tr>\n",
       "<td>\n",
       "&quot;Palladium&quot;\n",
       "</td>\n",
       "<td>\n",
       "1828.05\n",
       "</td>\n",
       "</tr>\n",
       "<tr>\n",
       "<td>\n",
       "&quot;Titanium&quot;\n",
       "</td>\n",
       "<td>\n",
       "1945.0\n",
       "</td>\n",
       "</tr>\n",
       "<tr>\n",
       "<td>\n",
       "&quot;Titanium&quot;\n",
       "</td>\n",
       "<td>\n",
       "1945.0\n",
       "</td>\n",
       "</tr>\n",
       "</tbody>\n",
       "</table>\n",
       "</div>"
      ],
      "text/plain": [
       "shape: (7, 2)\n",
       "┌───────────┬───────────────────┐\n",
       "│ Element   ┆ Melting Point (K) │\n",
       "│ ---       ┆ ---               │\n",
       "│ str       ┆ f64               │\n",
       "╞═══════════╪═══════════════════╡\n",
       "│ Copper    ┆ 1357.77           │\n",
       "├╌╌╌╌╌╌╌╌╌╌╌┼╌╌╌╌╌╌╌╌╌╌╌╌╌╌╌╌╌╌╌┤\n",
       "│ Silver    ┆ 1234.93           │\n",
       "├╌╌╌╌╌╌╌╌╌╌╌┼╌╌╌╌╌╌╌╌╌╌╌╌╌╌╌╌╌╌╌┤\n",
       "│ Gold      ┆ 1337.33           │\n",
       "├╌╌╌╌╌╌╌╌╌╌╌┼╌╌╌╌╌╌╌╌╌╌╌╌╌╌╌╌╌╌╌┤\n",
       "│ Platinum  ┆ 2041.4            │\n",
       "├╌╌╌╌╌╌╌╌╌╌╌┼╌╌╌╌╌╌╌╌╌╌╌╌╌╌╌╌╌╌╌┤\n",
       "│ Palladium ┆ 1828.05           │\n",
       "├╌╌╌╌╌╌╌╌╌╌╌┼╌╌╌╌╌╌╌╌╌╌╌╌╌╌╌╌╌╌╌┤\n",
       "│ Titanium  ┆ 1945.0            │\n",
       "├╌╌╌╌╌╌╌╌╌╌╌┼╌╌╌╌╌╌╌╌╌╌╌╌╌╌╌╌╌╌╌┤\n",
       "│ Titanium  ┆ 1945.0            │\n",
       "└───────────┴───────────────────┘"
      ]
     },
     "execution_count": 7,
     "metadata": {},
     "output_type": "execute_result"
    }
   ],
   "source": [
    "rdf1 = rdf1.vstack(rdf3)\n",
    "rdf1 = rdf1.vstack(rdf3)\n",
    "rdf1.collect().fetch()"
   ]
  },
  {
   "cell_type": "markdown",
   "metadata": {},
   "source": [
    "And that's it for this tutorial. Finally, we will now simply close the connection."
   ]
  },
  {
   "cell_type": "code",
   "execution_count": 8,
   "metadata": {},
   "outputs": [],
   "source": [
    "connection.close()"
   ]
  }
 ],
 "metadata": {
  "kernelspec": {
   "display_name": "Python 3.9.13 ('.venv': venv)",
   "language": "python",
   "name": "python3"
  },
  "language_info": {
   "codemirror_mode": {
    "name": "ipython",
    "version": 3
   },
   "file_extension": ".py",
   "mimetype": "text/x-python",
   "name": "python",
   "nbconvert_exporter": "python",
   "pygments_lexer": "ipython3",
   "version": "3.9.13"
  },
  "orig_nbformat": 4,
  "vscode": {
   "interpreter": {
    "hash": "ecc9e348b2453baa0e4208f38ec7a9ed567024199131dbd6d415ec8001506678"
   }
  }
 },
 "nbformat": 4,
 "nbformat_minor": 2
}
