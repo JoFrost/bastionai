{
 "cells": [
  {
   "attachments": {},
   "cell_type": "markdown",
   "metadata": {},
   "source": [
    "# Combining datasets\n",
    "______________________________________________________\n",
    "\n",
    "***#More context =) I think you basically should start with this idea and maybe explain a bit more (This can be particularly useful if you want to query or train models on a combination of datasets from different parties. ) and then go to the technical intro. 5/7 lines***\n",
    "\n",
    "In this tutorial, we are going to see how to use BastionLab's `vstack()` function to join RemoteLazyFrames vertically.\n",
    "\n",
    "***#Is \"vertically\" a technical one that everyone will know, or can we avoid using the term and just use simple words for the same result? Also I think in the intro part we should stay with non technical details as much as possible and explain what we'll teach in 'easy' words.*** \n",
    "\n",
    "This can be particularly useful if you want to query or train models on a combination of datasets from different parties. \n",
    "\n",
    "***#this info should come later I think, when you explain the particulars of the vstack() function*** \n",
    "\n",
    "The only requirement is that datasets must have the same column names/types. \n",
    "\n",
    ">You can learn about dataset preparation, including changing column types, names and adding and removing columns, in our [Data cleaning tutorial](https://bastionlab.readthedocs.io/en/latest/docs/tutorials/data_cleaning/).\n",
    "\n",
    "## Pre-requisites\n",
    "___________________________________\n",
    "\n",
    "### Technical Requirements\n",
    "\n",
    "To start this tutorial, ensure the following are already installed in your system:\n",
    "- Python3.7 or greater (get the latest version of Python at https://www.python.org/downloads/ or with your operating system’s package manager)\n",
    "- [Python Pip](https://pypi.org/project/pip/) (PyPi), the package manager\n",
    "- [Docker](https://www.docker.com/) \n",
    "\n",
    "*Here's the [Docker official tutorial](https://docker-curriculum.com/) to set it up on your computer.*\n",
    "\n",
    "### Pip packages and dataset\n",
    "\n",
    "In order to run this notebook, you will also need to install Polars, Bastionlab by running the following code block."
   ]
  },
  {
   "cell_type": "code",
   "execution_count": 1,
   "metadata": {},
   "outputs": [],
   "source": [
    "!pip install bastionlab"
   ]
  },
  {
   "attachments": {},
   "cell_type": "markdown",
   "metadata": {},
   "source": [
    "\n",
    "\n",
    "Firstly, we will run the server via BastionLab's official Docker image."
   ]
  },
  {
   "cell_type": "code",
   "execution_count": null,
   "metadata": {},
   "outputs": [],
   "source": [
    "!docker run -it -p 50056:50056 -d mithrilsecuritysas/bastionlab:latest"
   ]
  },
  {
   "attachments": {},
   "cell_type": "markdown",
   "metadata": {},
   "source": [
    "Then, we will connect to the server using the `Connection()` method."
   ]
  },
  {
   "cell_type": "code",
   "execution_count": null,
   "metadata": {},
   "outputs": [],
   "source": [
    "from bastionlab import Connection\n",
    "\n",
    "connection = Connection(\"localhost\")\n",
    "client = connection.client"
   ]
  },
  {
   "attachments": {},
   "cell_type": "markdown",
   "metadata": {},
   "source": [
    "***#This is way too dry haha Take the person by the hand: why are they here, why are you explaining this? It doesn't need to be long - but you're skipping a bit too ahead. You need to explain that you're making a short dataset for the purpose of this tutorial and that it will contain columns with metals and their corresponding melting point. ^^ Also we do not use the word 'simple' =)***\n",
    "\n",
    "Now we will create three Polars dataframes with \"Element\" and \"Melting Point (K)\" columns."
   ]
  },
  {
   "cell_type": "code",
   "execution_count": 4,
   "metadata": {},
   "outputs": [],
   "source": [
    "import polars as pl\n",
    "\n",
    "df1 = pl.DataFrame(\n",
    "    {\n",
    "        \"Element\": [\"Copper\", \"Silver\", \"Gold\"],\n",
    "        \"Melting Point (K)\": [1357.77, 1234.93, 1337.33],\n",
    "    }\n",
    ")\n",
    "\n",
    "df2 = pl.DataFrame(\n",
    "    {\"Element\": [\"Platinum\", \"Palladium\"], \"Melting Point (K)\": [2041.4, 1828.05]}\n",
    ")\n",
    "\n",
    "df3 = pl.DataFrame({\"Element\": [\"Titanium\"], \"Melting Point (K)\": [1945.0]})"
   ]
  },
  {
   "attachments": {},
   "cell_type": "markdown",
   "metadata": {},
   "source": [
    "### Upload the dataset to the server\n",
    "\n",
    "Now, let's send the Polar's DataFrame instance to the server. We'll use Bastionlab's `polars.send_df()` method which will return a `RemoteLazyFrame` instance, a reference to the DataFrame uploaded. We will be working with it throughout this tutorial.\n",
    "\n",
    "For the sake of this tutorial, we specify an **unsafe policy which disables all checks**. We set the `unsafe_zone` parameter to `TrueRule()` to allow all requests. In this case, the `unsafe_handling` parameter can be anything (as there are no unsafe requests), so we set it to `Log()` in the following example.\n",
    "\n",
    ">**Important note** - This unsafe policy is used so that we can focus on demonstrating data cleaning in BastionLab, without having to worry about approving any data access requests. However this policy is **not** suited for production.\n"
   ]
  },
  {
   "cell_type": "code",
   "execution_count": 5,
   "metadata": {},
   "outputs": [],
   "source": [
    "from bastionlab.polars.policy import Policy, TrueRule, Log\n",
    "\n",
    "policy = Policy(safe_zone=TrueRule(), unsafe_handling=Log())\n",
    "\n",
    "rdf1 = client.polars.send_df(df1, policy=policy)\n",
    "rdf2 = client.polars.send_df(df2, policy=policy)\n",
    "rdf3 = client.polars.send_df(df3, policy=policy)"
   ]
  },
  {
   "attachments": {},
   "cell_type": "markdown",
   "metadata": {},
   "source": [
    "## Append datasets ***#or something like that?***\n",
    "____________________________________________\n",
    "\n",
    "***#There's not enough explaining here as well. Why are we here and what will we be doing - not in technical terms. Then introduce that you'll use vstack() to do that and explain what is vstack - what does it do, how does it work, what arguments does it take? Imagine it's the first time you're mentionning it because I think it will be removed from the top of the document ^^***\n",
    "\n",
    "***#It will help to have an overall narration if you add Titles because you'll know what you want to say and where you're going with all this.***\n",
    "\n",
    "***#Also, I cannot highlight it enough. No 'simply', no 'simple' haha. If it's really simple, people will realise that as they do it ^^***\n",
    "\n",
    "So now we will test out `vstack()` by adding the second dataframe, with the Platinum and Palladium elements, to our first one, that has Copper, Silver and Gold. \n",
    "\n",
    "***#Here you're just saying what people can already read in the code. You won't have this problem if you explain instead the argument vstack() takes first***\n",
    "We change rdf1 to equal the RemoteLazyFrame returned by our vstack function.\n",
    "\n",
    "Now, when we `.collect().fetch()` our RemoteLazyFrame, the second dataframe has been appended at the bottom of the first one!"
   ]
  },
  {
   "cell_type": "code",
   "execution_count": 6,
   "metadata": {},
   "outputs": [
    {
     "data": {
      "text/html": [
       "<div>\n",
       "<style scoped>\n",
       "    .dataframe tbody tr th:only-of-type {\n",
       "        vertical-align: middle;\n",
       "    }\n",
       "\n",
       "    .dataframe tbody tr th {\n",
       "        vertical-align: top;\n",
       "    }\n",
       "\n",
       "    .dataframe thead th {\n",
       "        text-align: right;\n",
       "    }\n",
       "\n",
       "    .dataframe td {\n",
       "        white-space: pre;\n",
       "    }\n",
       "\n",
       "    .dataframe td {\n",
       "        padding-top: 0;\n",
       "    }\n",
       "\n",
       "    .dataframe td {\n",
       "        padding-bottom: 0;\n",
       "    }\n",
       "</style>\n",
       "<table border=\"1\" class=\"dataframe\" >\n",
       "<small>shape: (5, 2)</small>\n",
       "<thead>\n",
       "<tr>\n",
       "<th>\n",
       "Element\n",
       "</th>\n",
       "<th>\n",
       "Melting Point (K)\n",
       "</th>\n",
       "</tr>\n",
       "<tr>\n",
       "<td>\n",
       "str\n",
       "</td>\n",
       "<td>\n",
       "f64\n",
       "</td>\n",
       "</tr>\n",
       "</thead>\n",
       "<tbody>\n",
       "<tr>\n",
       "<td>\n",
       "&quot;Copper&quot;\n",
       "</td>\n",
       "<td>\n",
       "1357.77\n",
       "</td>\n",
       "</tr>\n",
       "<tr>\n",
       "<td>\n",
       "&quot;Silver&quot;\n",
       "</td>\n",
       "<td>\n",
       "1234.93\n",
       "</td>\n",
       "</tr>\n",
       "<tr>\n",
       "<td>\n",
       "&quot;Gold&quot;\n",
       "</td>\n",
       "<td>\n",
       "1337.33\n",
       "</td>\n",
       "</tr>\n",
       "<tr>\n",
       "<td>\n",
       "&quot;Platinum&quot;\n",
       "</td>\n",
       "<td>\n",
       "2041.4\n",
       "</td>\n",
       "</tr>\n",
       "<tr>\n",
       "<td>\n",
       "&quot;Palladium&quot;\n",
       "</td>\n",
       "<td>\n",
       "1828.05\n",
       "</td>\n",
       "</tr>\n",
       "</tbody>\n",
       "</table>\n",
       "</div>"
      ],
      "text/plain": [
       "shape: (5, 2)\n",
       "┌───────────┬───────────────────┐\n",
       "│ Element   ┆ Melting Point (K) │\n",
       "│ ---       ┆ ---               │\n",
       "│ str       ┆ f64               │\n",
       "╞═══════════╪═══════════════════╡\n",
       "│ Copper    ┆ 1357.77           │\n",
       "├╌╌╌╌╌╌╌╌╌╌╌┼╌╌╌╌╌╌╌╌╌╌╌╌╌╌╌╌╌╌╌┤\n",
       "│ Silver    ┆ 1234.93           │\n",
       "├╌╌╌╌╌╌╌╌╌╌╌┼╌╌╌╌╌╌╌╌╌╌╌╌╌╌╌╌╌╌╌┤\n",
       "│ Gold      ┆ 1337.33           │\n",
       "├╌╌╌╌╌╌╌╌╌╌╌┼╌╌╌╌╌╌╌╌╌╌╌╌╌╌╌╌╌╌╌┤\n",
       "│ Platinum  ┆ 2041.4            │\n",
       "├╌╌╌╌╌╌╌╌╌╌╌┼╌╌╌╌╌╌╌╌╌╌╌╌╌╌╌╌╌╌╌┤\n",
       "│ Palladium ┆ 1828.05           │\n",
       "└───────────┴───────────────────┘"
      ]
     },
     "execution_count": 6,
     "metadata": {},
     "output_type": "execute_result"
    }
   ],
   "source": [
    "rdf1 = rdf1.vstack(rdf2)\n",
    "rdf1.collect().fetch()"
   ]
  },
  {
   "attachments": {},
   "cell_type": "markdown",
   "metadata": {},
   "source": [
    "You can do this as many time as you want. For example, let's add our third RemoteLazyFrame containing Titanium to our first RemoteDataFrame, twice.\n",
    "\n",
    "As you can see, `rdf1` now has all the previous elements, plus two lots of Titanium at the end."
   ]
  },
  {
   "cell_type": "code",
   "execution_count": 7,
   "metadata": {},
   "outputs": [
    {
     "data": {
      "text/html": [
       "<div>\n",
       "<style scoped>\n",
       "    .dataframe tbody tr th:only-of-type {\n",
       "        vertical-align: middle;\n",
       "    }\n",
       "\n",
       "    .dataframe tbody tr th {\n",
       "        vertical-align: top;\n",
       "    }\n",
       "\n",
       "    .dataframe thead th {\n",
       "        text-align: right;\n",
       "    }\n",
       "\n",
       "    .dataframe td {\n",
       "        white-space: pre;\n",
       "    }\n",
       "\n",
       "    .dataframe td {\n",
       "        padding-top: 0;\n",
       "    }\n",
       "\n",
       "    .dataframe td {\n",
       "        padding-bottom: 0;\n",
       "    }\n",
       "</style>\n",
       "<table border=\"1\" class=\"dataframe\" >\n",
       "<small>shape: (7, 2)</small>\n",
       "<thead>\n",
       "<tr>\n",
       "<th>\n",
       "Element\n",
       "</th>\n",
       "<th>\n",
       "Melting Point (K)\n",
       "</th>\n",
       "</tr>\n",
       "<tr>\n",
       "<td>\n",
       "str\n",
       "</td>\n",
       "<td>\n",
       "f64\n",
       "</td>\n",
       "</tr>\n",
       "</thead>\n",
       "<tbody>\n",
       "<tr>\n",
       "<td>\n",
       "&quot;Copper&quot;\n",
       "</td>\n",
       "<td>\n",
       "1357.77\n",
       "</td>\n",
       "</tr>\n",
       "<tr>\n",
       "<td>\n",
       "&quot;Silver&quot;\n",
       "</td>\n",
       "<td>\n",
       "1234.93\n",
       "</td>\n",
       "</tr>\n",
       "<tr>\n",
       "<td>\n",
       "&quot;Gold&quot;\n",
       "</td>\n",
       "<td>\n",
       "1337.33\n",
       "</td>\n",
       "</tr>\n",
       "<tr>\n",
       "<td>\n",
       "&quot;Platinum&quot;\n",
       "</td>\n",
       "<td>\n",
       "2041.4\n",
       "</td>\n",
       "</tr>\n",
       "<tr>\n",
       "<td>\n",
       "&quot;Palladium&quot;\n",
       "</td>\n",
       "<td>\n",
       "1828.05\n",
       "</td>\n",
       "</tr>\n",
       "<tr>\n",
       "<td>\n",
       "&quot;Titanium&quot;\n",
       "</td>\n",
       "<td>\n",
       "1945.0\n",
       "</td>\n",
       "</tr>\n",
       "<tr>\n",
       "<td>\n",
       "&quot;Titanium&quot;\n",
       "</td>\n",
       "<td>\n",
       "1945.0\n",
       "</td>\n",
       "</tr>\n",
       "</tbody>\n",
       "</table>\n",
       "</div>"
      ],
      "text/plain": [
       "shape: (7, 2)\n",
       "┌───────────┬───────────────────┐\n",
       "│ Element   ┆ Melting Point (K) │\n",
       "│ ---       ┆ ---               │\n",
       "│ str       ┆ f64               │\n",
       "╞═══════════╪═══════════════════╡\n",
       "│ Copper    ┆ 1357.77           │\n",
       "├╌╌╌╌╌╌╌╌╌╌╌┼╌╌╌╌╌╌╌╌╌╌╌╌╌╌╌╌╌╌╌┤\n",
       "│ Silver    ┆ 1234.93           │\n",
       "├╌╌╌╌╌╌╌╌╌╌╌┼╌╌╌╌╌╌╌╌╌╌╌╌╌╌╌╌╌╌╌┤\n",
       "│ Gold      ┆ 1337.33           │\n",
       "├╌╌╌╌╌╌╌╌╌╌╌┼╌╌╌╌╌╌╌╌╌╌╌╌╌╌╌╌╌╌╌┤\n",
       "│ Platinum  ┆ 2041.4            │\n",
       "├╌╌╌╌╌╌╌╌╌╌╌┼╌╌╌╌╌╌╌╌╌╌╌╌╌╌╌╌╌╌╌┤\n",
       "│ Palladium ┆ 1828.05           │\n",
       "├╌╌╌╌╌╌╌╌╌╌╌┼╌╌╌╌╌╌╌╌╌╌╌╌╌╌╌╌╌╌╌┤\n",
       "│ Titanium  ┆ 1945.0            │\n",
       "├╌╌╌╌╌╌╌╌╌╌╌┼╌╌╌╌╌╌╌╌╌╌╌╌╌╌╌╌╌╌╌┤\n",
       "│ Titanium  ┆ 1945.0            │\n",
       "└───────────┴───────────────────┘"
      ]
     },
     "execution_count": 7,
     "metadata": {},
     "output_type": "execute_result"
    }
   ],
   "source": [
    "rdf1 = rdf1.vstack(rdf3)\n",
    "rdf1 = rdf1.vstack(rdf3)\n",
    "rdf1.collect().fetch()"
   ]
  },
  {
   "attachments": {},
   "cell_type": "markdown",
   "metadata": {},
   "source": [
    "And that's it for this tutorial, you now know **how to combine multiple datasets using BastionLab**. We can now close the connection."
   ]
  },
  {
   "cell_type": "code",
   "execution_count": 8,
   "metadata": {},
   "outputs": [],
   "source": [
    "connection.close()"
   ]
  }
 ],
 "metadata": {
  "kernelspec": {
   "display_name": "Python 3",
   "language": "python",
   "name": "python3"
  },
  "language_info": {
   "codemirror_mode": {
    "name": "ipython",
    "version": 3
   },
   "file_extension": ".py",
   "mimetype": "text/x-python",
   "name": "python",
   "nbconvert_exporter": "python",
   "pygments_lexer": "ipython3",
   "version": "3.8.10 (default, Jun 22 2022, 20:18:18) \n[GCC 9.4.0]"
  },
  "orig_nbformat": 4,
  "vscode": {
   "interpreter": {
    "hash": "916dbcbb3f70747c44a77c7bcd40155683ae19c65e1c03b4aa3499c5328201f1"
   }
  }
 },
 "nbformat": 4,
 "nbformat_minor": 2
}
