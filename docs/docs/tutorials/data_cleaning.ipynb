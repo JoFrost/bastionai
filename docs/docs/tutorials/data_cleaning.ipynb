{
 "cells": [
  {
   "cell_type": "markdown",
   "metadata": {},
   "source": [
    "# Data Cleaning with BastionLab\n",
    "\n",
    "In this tutorial, we are going to see how to remove unwanted columns, clean null values and duplicates, and replace values in our dataset.\n",
    "\n",
    "## Pre-requisites\n",
    "\n",
    "### Technical Requirements\n",
    "\n",
    "To start this tutorial, ensure the following are already installed in your system:\n",
    "- Python3.7 or greater (get the latest version of Python at https://www.python.org/downloads/ or with your operating system’s package manager)\n",
    "- [Python Pip](https://pypi.org/project/pip/) (PyPi), the package manager\n",
    "- [Docker](https://www.docker.com/) \n",
    "\n",
    "*Here's the [Docker official tutorial](https://docker-curriculum.com/) to set it up on your computer.*\n",
    "\n",
    "## Pip packages and dataset\n",
    "\n",
    "In order to run this notebook, you will also need to install Polars, Bastionlab and download the dataset we will be using in this tutorial. You can download all of these by running the following code block, or alternatively, you can download download the dataset from Kaggle by following this link: https://www.kaggle.com/competitions/titanic/data and creaing a free user account.\n",
    "\n",
    "This dataset is based on the Titanic dataset, one of the most popular datasets used for understanding machine learning which contains information relating to the passengers aboard the Titanic. However, it has been modified by data scientist XX to contain some values that need cleaning up before we can start running queries!"
   ]
  },
  {
   "cell_type": "code",
   "execution_count": 17,
   "metadata": {},
   "outputs": [
    {
     "name": "stdout",
     "output_type": "stream",
     "text": [
      "Requirement already satisfied: polars in ./.venv/lib/python3.9/site-packages (0.14.24)\n",
      "Requirement already satisfied: typing_extensions>=4.0.0 in ./.venv/lib/python3.9/site-packages (from polars) (4.4.0)\n",
      "Requirement already satisfied: bastionlab in ./.venv/lib/python3.9/site-packages (0.3.2)\n",
      "Requirement already satisfied: grpcio==1.47.0 in ./.venv/lib/python3.9/site-packages (from bastionlab) (1.47.0)\n",
      "Requirement already satisfied: polars==0.14.24 in ./.venv/lib/python3.9/site-packages (from bastionlab) (0.14.24)\n",
      "Requirement already satisfied: typing-extensions==4.4.0 in ./.venv/lib/python3.9/site-packages (from bastionlab) (4.4.0)\n",
      "Requirement already satisfied: seaborn==0.12.0 in ./.venv/lib/python3.9/site-packages (from bastionlab) (0.12.0)\n",
      "Requirement already satisfied: grpcio-tools==1.47.0 in ./.venv/lib/python3.9/site-packages (from bastionlab) (1.47.0)\n",
      "Requirement already satisfied: colorama==0.4.6 in ./.venv/lib/python3.9/site-packages (from bastionlab) (0.4.6)\n",
      "Requirement already satisfied: cryptography==38.0.3 in ./.venv/lib/python3.9/site-packages (from bastionlab) (38.0.3)\n",
      "Requirement already satisfied: torch==1.12.1 in ./.venv/lib/python3.9/site-packages (from bastionlab) (1.12.1)\n",
      "Requirement already satisfied: cffi>=1.12 in ./.venv/lib/python3.9/site-packages (from cryptography==38.0.3->bastionlab) (1.15.1)\n",
      "Requirement already satisfied: six>=1.5.2 in ./.venv/lib/python3.9/site-packages (from grpcio==1.47.0->bastionlab) (1.16.0)\n",
      "Requirement already satisfied: setuptools in ./.venv/lib/python3.9/site-packages (from grpcio-tools==1.47.0->bastionlab) (58.1.0)\n",
      "Requirement already satisfied: protobuf<4.0dev,>=3.12.0 in ./.venv/lib/python3.9/site-packages (from grpcio-tools==1.47.0->bastionlab) (3.20.3)\n",
      "Requirement already satisfied: matplotlib>=3.1 in ./.venv/lib/python3.9/site-packages (from seaborn==0.12.0->bastionlab) (3.6.2)\n",
      "Requirement already satisfied: numpy>=1.17 in ./.venv/lib/python3.9/site-packages (from seaborn==0.12.0->bastionlab) (1.23.5)\n",
      "Requirement already satisfied: pandas>=0.25 in ./.venv/lib/python3.9/site-packages (from seaborn==0.12.0->bastionlab) (1.5.2)\n",
      "Requirement already satisfied: pycparser in ./.venv/lib/python3.9/site-packages (from cffi>=1.12->cryptography==38.0.3->bastionlab) (2.21)\n",
      "Requirement already satisfied: packaging>=20.0 in ./.venv/lib/python3.9/site-packages (from matplotlib>=3.1->seaborn==0.12.0->bastionlab) (21.3)\n",
      "Requirement already satisfied: pillow>=6.2.0 in ./.venv/lib/python3.9/site-packages (from matplotlib>=3.1->seaborn==0.12.0->bastionlab) (9.3.0)\n",
      "Requirement already satisfied: contourpy>=1.0.1 in ./.venv/lib/python3.9/site-packages (from matplotlib>=3.1->seaborn==0.12.0->bastionlab) (1.0.6)\n",
      "Requirement already satisfied: cycler>=0.10 in ./.venv/lib/python3.9/site-packages (from matplotlib>=3.1->seaborn==0.12.0->bastionlab) (0.11.0)\n",
      "Requirement already satisfied: pyparsing>=2.2.1 in ./.venv/lib/python3.9/site-packages (from matplotlib>=3.1->seaborn==0.12.0->bastionlab) (3.0.9)\n",
      "Requirement already satisfied: fonttools>=4.22.0 in ./.venv/lib/python3.9/site-packages (from matplotlib>=3.1->seaborn==0.12.0->bastionlab) (4.38.0)\n",
      "Requirement already satisfied: kiwisolver>=1.0.1 in ./.venv/lib/python3.9/site-packages (from matplotlib>=3.1->seaborn==0.12.0->bastionlab) (1.4.4)\n",
      "Requirement already satisfied: python-dateutil>=2.7 in ./.venv/lib/python3.9/site-packages (from matplotlib>=3.1->seaborn==0.12.0->bastionlab) (2.8.2)\n",
      "Requirement already satisfied: pytz>=2020.1 in ./.venv/lib/python3.9/site-packages (from pandas>=0.25->seaborn==0.12.0->bastionlab) (2022.6)\n",
      "--2022-11-25 23:22:03--  https://raw.githubusercontent.com/chingjunetao/medium-article/blob/master/simple-guide-to-data-cleaning/modified_titanic_data.csv\n",
      "Resolving raw.githubusercontent.com (raw.githubusercontent.com)... 2606:50c0:8002::154, 2606:50c0:8003::154, 2606:50c0:8001::154, ...\n",
      "Connecting to raw.githubusercontent.com (raw.githubusercontent.com)|2606:50c0:8002::154|:443... connected.\n",
      "HTTP request sent, awaiting response... 404 Not Found\n",
      "2022-11-25 23:22:03 ERROR 404: Not Found.\n",
      "\n"
     ]
    }
   ],
   "source": [
    "! pip install polars\n",
    "! pip install bastionlab\n",
    "!wget 'https://raw.githubusercontent.com/chingjunetao/medium-article/blob/master/simple-guide-to-data-cleaning/modified_titanic_data.csv'"
   ]
  },
  {
   "cell_type": "markdown",
   "metadata": {},
   "source": [
    "## Getting set-up\n",
    "First we need to create a key which will be used for authentication purposes. This code block will generate a private and public key and store them in the relevant directory: pubkey or privkey."
   ]
  },
  {
   "cell_type": "code",
   "execution_count": 18,
   "metadata": {},
   "outputs": [],
   "source": [
    "from bastionlab import SigningKey\n",
    "\n",
    "!mkdir -p pubkey\n",
    "!mkdir -p privkey\n",
    "\n",
    "data_owner_key = SigningKey.from_pem_or_generate(\"./privkey/data_owner.key.pem\")\n",
    "data_owner_pubkey = data_owner_key.pubkey.save_pem(\"./pubkey/data_owner.pem\")"
   ]
  },
  {
   "cell_type": "markdown",
   "metadata": {},
   "source": [
    "The next step is to launch the server using Docker. We will run the docker image in interactive mode so that we can accept any query requests that do not automitically pass our default privacy policy.\n",
    "\n",
    "## !Important:\n",
    "Please run the following command in a separate terminal so that you can respond to requests interactively whilst running the rest of the code in the notebook:"
   ]
  },
  {
   "cell_type": "code",
   "execution_count": 19,
   "metadata": {},
   "outputs": [],
   "source": [
    "#!Important: Run in separate terminal:\n",
    "# docker run -it -p 50056:50056 --mount type=bind,source=$(pwd)/pubkey,target=/app/bin/keys mithrilsecuritysas/bastionlab:latest"
   ]
  },
  {
   "cell_type": "markdown",
   "metadata": {},
   "source": [
    "The final stage to get set-up (I promise!) is to connect to our sever using our private key and send our dataset to the server. We will do this in three key steps:\n",
    "1 - Reading in the dataset using Polar's read_csv() function, which returns a Polar's DataFrame instance containing the dataset.\n",
    "2 - Connecting to the server using Bastionlab's Connection() method.\n",
    "3 - Sending the Polar's DataFrame instance to the server using Bastionlab's send_df() method which will return a RemoteLazyFrame instance, which is a reference to the DataFrame uploaded."
   ]
  },
  {
   "cell_type": "code",
   "execution_count": 20,
   "metadata": {},
   "outputs": [
    {
     "data": {
      "text/plain": [
       "FetchableLazyFrame(identifier=64fc37cb-456b-4564-a312-a92ea805b825)"
      ]
     },
     "execution_count": 20,
     "metadata": {},
     "output_type": "execute_result"
    }
   ],
   "source": [
    "from bastionlab import Connection\n",
    "import polars as pl\n",
    "\n",
    "df = pl.read_csv(\"modified_titanic_data.csv\")\n",
    "\n",
    "connection = Connection(\"localhost\", 50056, signing_key=data_owner_key)\n",
    "client = connection.client\n",
    "\n",
    "rdf = client.send_df(df, blacklist=\"Name\")\n",
    "\n",
    "rdf"
   ]
  },
  {
   "cell_type": "markdown",
   "metadata": {},
   "source": [
    "We can now see the list of column names in the dataset by using RemoteDataFrame's columns() method."
   ]
  },
  {
   "cell_type": "code",
   "execution_count": 21,
   "metadata": {},
   "outputs": [
    {
     "data": {
      "text/plain": [
       "['PassengerId',\n",
       " 'Survived',\n",
       " 'Pclass',\n",
       " 'Name',\n",
       " 'Sex',\n",
       " 'Age',\n",
       " 'SibSp',\n",
       " 'Parch',\n",
       " 'Ticket',\n",
       " 'Fare',\n",
       " 'Cabin',\n",
       " 'Embarked',\n",
       " 'OnboardTime']"
      ]
     },
     "execution_count": 21,
     "metadata": {},
     "output_type": "execute_result"
    }
   ],
   "source": [
    "rdf.columns"
   ]
  },
  {
   "cell_type": "markdown",
   "metadata": {},
   "source": [
    "## Dropping columns\n",
    "\n",
    "Let's imagine that we don't need the column \"Fare\". We could simply drop the column by using RemoteLazyFrame's drop method, which takes the name of a column or a list of column names as a parameter and returns a Lazy Data Frame which no longer includes this/those columns."
   ]
  },
  {
   "cell_type": "code",
   "execution_count": 22,
   "metadata": {},
   "outputs": [
    {
     "data": {
      "text/plain": [
       "['PassengerId',\n",
       " 'Survived',\n",
       " 'Pclass',\n",
       " 'Name',\n",
       " 'Sex',\n",
       " 'Age',\n",
       " 'SibSp',\n",
       " 'Parch',\n",
       " 'Ticket',\n",
       " 'Cabin',\n",
       " 'Embarked',\n",
       " 'OnboardTime']"
      ]
     },
     "execution_count": 22,
     "metadata": {},
     "output_type": "execute_result"
    }
   ],
   "source": [
    "rdf = rdf.drop(\"Fare\")\n",
    "rdf.columns"
   ]
  },
  {
   "cell_type": "markdown",
   "metadata": {},
   "source": [
    "As you can see, this fare is now longer in our rdf RemoteDataFrame instance.\n",
    "\n",
    "## Cleaning null values\n",
    "\n",
    "The next problem we want to address is null values in the database. First of all, let's see how many null values we have in the \"Age\". We can do this by selecting the column 'Age' and using the is_null() method. This will output a RemoteLazyFrame with each original cell in the 'Age' column that was null now replaced by the value 1 and each original cell that was not null replacing by the value 0. Therefore, we can simply use sum() to count up all these 1 values, and therefore, give us the total null values in the 'Age' column.\n",
    "\n",
    "Note that to access and show the data in this RemoteDataFrame, we always need to use the collect() and fetch() methods. In this case, this will trigger a request for the data owner's approval- please respond to this request by inputting 'y' in your terminal running the docker image to accept this request."
   ]
  },
  {
   "cell_type": "code",
   "execution_count": 23,
   "metadata": {},
   "outputs": [
    {
     "name": "stdout",
     "output_type": "stream",
     "text": [
      "\u001b[33mWarning: non privacy-preserving queries necessitate data owner's approval.\n",
      "Reason: Only 1 subrules matched but at least 2 are required.\n",
      "Failed sub rules are:\n",
      "Rule #1: Cannot fetch a DataFrame that does not aggregate at least 10 rows of the initial dataframe uploaded by the data owner.\n",
      "\n",
      "A notification has been sent to the data owner. The request will be pending until the data owner accepts or denies it or until timeout seconds elapse.\u001b[37m\n",
      "\u001b[32mThe query has been accepted by the data owner.\u001b[37m\n"
     ]
    },
    {
     "data": {
      "text/html": [
       "<div>\n",
       "<style scoped>\n",
       "    .dataframe tbody tr th:only-of-type {\n",
       "        vertical-align: middle;\n",
       "    }\n",
       "\n",
       "    .dataframe tbody tr th {\n",
       "        vertical-align: top;\n",
       "    }\n",
       "\n",
       "    .dataframe thead th {\n",
       "        text-align: right;\n",
       "    }\n",
       "\n",
       "    .dataframe td {\n",
       "        white-space: pre;\n",
       "    }\n",
       "\n",
       "    .dataframe td {\n",
       "        padding-top: 0;\n",
       "    }\n",
       "\n",
       "    .dataframe td {\n",
       "        padding-bottom: 0;\n",
       "    }\n",
       "</style>\n",
       "<table border=\"1\" class=\"dataframe\" >\n",
       "<small>shape: (1, 1)</small>\n",
       "<thead>\n",
       "<tr>\n",
       "<th>\n",
       "Age\n",
       "</th>\n",
       "</tr>\n",
       "<tr>\n",
       "<td>\n",
       "u32\n",
       "</td>\n",
       "</tr>\n",
       "</thead>\n",
       "<tbody>\n",
       "<tr>\n",
       "<td>\n",
       "178\n",
       "</td>\n",
       "</tr>\n",
       "</tbody>\n",
       "</table>\n",
       "</div>"
      ],
      "text/plain": [
       "shape: (1, 1)\n",
       "┌─────┐\n",
       "│ Age │\n",
       "│ --- │\n",
       "│ u32 │\n",
       "╞═════╡\n",
       "│ 178 │\n",
       "└─────┘"
      ]
     },
     "execution_count": 23,
     "metadata": {},
     "output_type": "execute_result"
    }
   ],
   "source": [
    "total_nulls = rdf.select(pl.col(\"Age\").is_null().sum())\n",
    "\n",
    "total_nulls.collect().fetch()"
   ]
  },
  {
   "cell_type": "markdown",
   "metadata": {},
   "source": [
    "##Replacing null values\n",
    "\n",
    "So now we know that there are 178 null values in the 'Age' column, the next question is what do we want to do with them? One method to deal with null values would be to replace them with another value. Here, I will use the fill_null function to replace all null Age cells with the value 100.\n",
    "\n",
    "We can now verify that this has worked by checking how many null values we have in our new RemoteLazyFrame instance called swap."
   ]
  },
  {
   "cell_type": "code",
   "execution_count": 24,
   "metadata": {},
   "outputs": [
    {
     "name": "stdout",
     "output_type": "stream",
     "text": [
      "\u001b[33mWarning: non privacy-preserving queries necessitate data owner's approval.\n",
      "Reason: Only 1 subrules matched but at least 2 are required.\n",
      "Failed sub rules are:\n",
      "Rule #1: Cannot fetch a DataFrame that does not aggregate at least 10 rows of the initial dataframe uploaded by the data owner.\n",
      "\n",
      "A notification has been sent to the data owner. The request will be pending until the data owner accepts or denies it or until timeout seconds elapse.\u001b[37m\n",
      "\u001b[32mThe query has been accepted by the data owner.\u001b[37m\n"
     ]
    },
    {
     "data": {
      "text/html": [
       "<div>\n",
       "<style scoped>\n",
       "    .dataframe tbody tr th:only-of-type {\n",
       "        vertical-align: middle;\n",
       "    }\n",
       "\n",
       "    .dataframe tbody tr th {\n",
       "        vertical-align: top;\n",
       "    }\n",
       "\n",
       "    .dataframe thead th {\n",
       "        text-align: right;\n",
       "    }\n",
       "\n",
       "    .dataframe td {\n",
       "        white-space: pre;\n",
       "    }\n",
       "\n",
       "    .dataframe td {\n",
       "        padding-top: 0;\n",
       "    }\n",
       "\n",
       "    .dataframe td {\n",
       "        padding-bottom: 0;\n",
       "    }\n",
       "</style>\n",
       "<table border=\"1\" class=\"dataframe\" >\n",
       "<small>shape: (1, 1)</small>\n",
       "<thead>\n",
       "<tr>\n",
       "<th>\n",
       "Age\n",
       "</th>\n",
       "</tr>\n",
       "<tr>\n",
       "<td>\n",
       "u32\n",
       "</td>\n",
       "</tr>\n",
       "</thead>\n",
       "<tbody>\n",
       "<tr>\n",
       "<td>\n",
       "0\n",
       "</td>\n",
       "</tr>\n",
       "</tbody>\n",
       "</table>\n",
       "</div>"
      ],
      "text/plain": [
       "shape: (1, 1)\n",
       "┌─────┐\n",
       "│ Age │\n",
       "│ --- │\n",
       "│ u32 │\n",
       "╞═════╡\n",
       "│ 0   │\n",
       "└─────┘"
      ]
     },
     "execution_count": 24,
     "metadata": {},
     "output_type": "execute_result"
    }
   ],
   "source": [
    "swap = rdf.fill_null(\"100\")\n",
    "total_nulls = swap.select(pl.col(\"Age\").is_null().sum())\n",
    "\n",
    "total_nulls.collect().fetch()"
   ]
  },
  {
   "cell_type": "markdown",
   "metadata": {},
   "source": [
    "Let's also check how many cells contain 100! We can do this by filtering the values in 'Age' down to those equal to 100 and then counting all the cells in that column. The output is of course now 178!"
   ]
  },
  {
   "cell_type": "code",
   "execution_count": 25,
   "metadata": {},
   "outputs": [
    {
     "name": "stdout",
     "output_type": "stream",
     "text": [
      "\u001b[33mWarning: non privacy-preserving queries necessitate data owner's approval.\n",
      "Reason: Only 1 subrules matched but at least 2 are required.\n",
      "Failed sub rules are:\n",
      "Rule #1: Cannot fetch a DataFrame that does not aggregate at least 10 rows of the initial dataframe uploaded by the data owner.\n",
      "\n",
      "A notification has been sent to the data owner. The request will be pending until the data owner accepts or denies it or until timeout seconds elapse.\u001b[37m\n",
      "\u001b[32mThe query has been accepted by the data owner.\u001b[37m\n"
     ]
    },
    {
     "data": {
      "text/html": [
       "<div>\n",
       "<style scoped>\n",
       "    .dataframe tbody tr th:only-of-type {\n",
       "        vertical-align: middle;\n",
       "    }\n",
       "\n",
       "    .dataframe tbody tr th {\n",
       "        vertical-align: top;\n",
       "    }\n",
       "\n",
       "    .dataframe thead th {\n",
       "        text-align: right;\n",
       "    }\n",
       "\n",
       "    .dataframe td {\n",
       "        white-space: pre;\n",
       "    }\n",
       "\n",
       "    .dataframe td {\n",
       "        padding-top: 0;\n",
       "    }\n",
       "\n",
       "    .dataframe td {\n",
       "        padding-bottom: 0;\n",
       "    }\n",
       "</style>\n",
       "<table border=\"1\" class=\"dataframe\" >\n",
       "<small>shape: (1, 1)</small>\n",
       "<thead>\n",
       "<tr>\n",
       "<th>\n",
       "Age\n",
       "</th>\n",
       "</tr>\n",
       "<tr>\n",
       "<td>\n",
       "u32\n",
       "</td>\n",
       "</tr>\n",
       "</thead>\n",
       "<tbody>\n",
       "<tr>\n",
       "<td>\n",
       "178\n",
       "</td>\n",
       "</tr>\n",
       "</tbody>\n",
       "</table>\n",
       "</div>"
      ],
      "text/plain": [
       "shape: (1, 1)\n",
       "┌─────┐\n",
       "│ Age │\n",
       "│ --- │\n",
       "│ u32 │\n",
       "╞═════╡\n",
       "│ 178 │\n",
       "└─────┘"
      ]
     },
     "execution_count": 25,
     "metadata": {},
     "output_type": "execute_result"
    }
   ],
   "source": [
    "total_100s = swap.filter(pl.col(\"Age\") == \"100\").select(pl.col(\"Age\").count())\n",
    "\n",
    "total_100s.collect().fetch()"
   ]
  },
  {
   "cell_type": "markdown",
   "metadata": {},
   "source": [
    "## Converting column types\n",
    "\n",
    "As you may have noticed, our \"Age\" column contains strings not integers. If we wanted to change that, we could use the .cast() method with strict set to False to convert out string values to numerical ones!"
   ]
  },
  {
   "cell_type": "code",
   "execution_count": 26,
   "metadata": {},
   "outputs": [
    {
     "name": "stdout",
     "output_type": "stream",
     "text": [
      "\u001b[33mWarning: non privacy-preserving queries necessitate data owner's approval.\n",
      "Reason: Only 1 subrules matched but at least 2 are required.\n",
      "Failed sub rules are:\n",
      "Rule #1: Cannot fetch a DataFrame that does not aggregate at least 10 rows of the initial dataframe uploaded by the data owner.\n",
      "\n",
      "A notification has been sent to the data owner. The request will be pending until the data owner accepts or denies it or until timeout seconds elapse.\u001b[37m\n",
      "\u001b[32mThe query has been accepted by the data owner.\u001b[37m\n"
     ]
    },
    {
     "data": {
      "text/html": [
       "<div>\n",
       "<style scoped>\n",
       "    .dataframe tbody tr th:only-of-type {\n",
       "        vertical-align: middle;\n",
       "    }\n",
       "\n",
       "    .dataframe tbody tr th {\n",
       "        vertical-align: top;\n",
       "    }\n",
       "\n",
       "    .dataframe thead th {\n",
       "        text-align: right;\n",
       "    }\n",
       "\n",
       "    .dataframe td {\n",
       "        white-space: pre;\n",
       "    }\n",
       "\n",
       "    .dataframe td {\n",
       "        padding-top: 0;\n",
       "    }\n",
       "\n",
       "    .dataframe td {\n",
       "        padding-bottom: 0;\n",
       "    }\n",
       "</style>\n",
       "<table border=\"1\" class=\"dataframe\" >\n",
       "<small>shape: (1, 1)</small>\n",
       "<thead>\n",
       "<tr>\n",
       "<th>\n",
       "Age\n",
       "</th>\n",
       "</tr>\n",
       "<tr>\n",
       "<td>\n",
       "u32\n",
       "</td>\n",
       "</tr>\n",
       "</thead>\n",
       "<tbody>\n",
       "<tr>\n",
       "<td>\n",
       "178\n",
       "</td>\n",
       "</tr>\n",
       "</tbody>\n",
       "</table>\n",
       "</div>"
      ],
      "text/plain": [
       "shape: (1, 1)\n",
       "┌─────┐\n",
       "│ Age │\n",
       "│ --- │\n",
       "│ u32 │\n",
       "╞═════╡\n",
       "│ 178 │\n",
       "└─────┘"
      ]
     },
     "execution_count": 26,
     "metadata": {},
     "output_type": "execute_result"
    }
   ],
   "source": [
    "swap = swap.with_column(pl.col(\"Age\").cast(pl.Int64, strict=False))\n",
    "\n",
    "total_num_100s = swap.filter(pl.col(\"Age\") == 100).select(pl.col(\"Age\").count())\n",
    "\n",
    "total_num_100s.collect().fetch()"
   ]
  },
  {
   "cell_type": "markdown",
   "metadata": {},
   "source": [
    "## Deleting null values\n",
    "\n",
    "Another method for handling null values is simply to delete them. We can do this by using RemoteLazyFrame's drop_nulls method.\n",
    "\n",
    "As you can see our drop instance of the original rdf RemoteLazyFrame now also has zero null values."
   ]
  },
  {
   "cell_type": "code",
   "execution_count": 27,
   "metadata": {},
   "outputs": [
    {
     "name": "stdout",
     "output_type": "stream",
     "text": [
      "\u001b[33mWarning: non privacy-preserving queries necessitate data owner's approval.\n",
      "Reason: Only 1 subrules matched but at least 2 are required.\n",
      "Failed sub rules are:\n",
      "Rule #1: Cannot fetch a DataFrame that does not aggregate at least 10 rows of the initial dataframe uploaded by the data owner.\n",
      "\n",
      "A notification has been sent to the data owner. The request will be pending until the data owner accepts or denies it or until timeout seconds elapse.\u001b[37m\n",
      "\u001b[32mThe query has been accepted by the data owner.\u001b[37m\n"
     ]
    },
    {
     "data": {
      "text/html": [
       "<div>\n",
       "<style scoped>\n",
       "    .dataframe tbody tr th:only-of-type {\n",
       "        vertical-align: middle;\n",
       "    }\n",
       "\n",
       "    .dataframe tbody tr th {\n",
       "        vertical-align: top;\n",
       "    }\n",
       "\n",
       "    .dataframe thead th {\n",
       "        text-align: right;\n",
       "    }\n",
       "\n",
       "    .dataframe td {\n",
       "        white-space: pre;\n",
       "    }\n",
       "\n",
       "    .dataframe td {\n",
       "        padding-top: 0;\n",
       "    }\n",
       "\n",
       "    .dataframe td {\n",
       "        padding-bottom: 0;\n",
       "    }\n",
       "</style>\n",
       "<table border=\"1\" class=\"dataframe\" >\n",
       "<small>shape: (1, 1)</small>\n",
       "<thead>\n",
       "<tr>\n",
       "<th>\n",
       "Age\n",
       "</th>\n",
       "</tr>\n",
       "<tr>\n",
       "<td>\n",
       "u32\n",
       "</td>\n",
       "</tr>\n",
       "</thead>\n",
       "<tbody>\n",
       "<tr>\n",
       "<td>\n",
       "0\n",
       "</td>\n",
       "</tr>\n",
       "</tbody>\n",
       "</table>\n",
       "</div>"
      ],
      "text/plain": [
       "shape: (1, 1)\n",
       "┌─────┐\n",
       "│ Age │\n",
       "│ --- │\n",
       "│ u32 │\n",
       "╞═════╡\n",
       "│ 0   │\n",
       "└─────┘"
      ]
     },
     "execution_count": 27,
     "metadata": {},
     "output_type": "execute_result"
    }
   ],
   "source": [
    "drop = rdf.drop_nulls()\n",
    "\n",
    "total_nulls = drop.select(pl.col(\"Age\").is_null().sum())\n",
    "\n",
    "total_nulls.collect().fetch()"
   ]
  },
  {
   "cell_type": "markdown",
   "metadata": {},
   "source": [
    "# Cleaning duplicates\n",
    "\n",
    "The next area of data cleaning with BastionLab we will look at is duplicates. We can easily filter down a column or whole dataset to contain only unique cells by using the unique() method.\n",
    "\n",
    "Let's start by checking how many values there currently are in rdf's 'Sex' column."
   ]
  },
  {
   "cell_type": "code",
   "execution_count": 28,
   "metadata": {},
   "outputs": [
    {
     "name": "stdout",
     "output_type": "stream",
     "text": [
      "\u001b[33mWarning: non privacy-preserving queries necessitate data owner's approval.\n",
      "Reason: Only 1 subrules matched but at least 2 are required.\n",
      "Failed sub rules are:\n",
      "Rule #1: Cannot fetch a DataFrame that does not aggregate at least 10 rows of the initial dataframe uploaded by the data owner.\n",
      "\n",
      "A notification has been sent to the data owner. The request will be pending until the data owner accepts or denies it or until timeout seconds elapse.\u001b[37m\n",
      "\u001b[32mThe query has been accepted by the data owner.\u001b[37m\n"
     ]
    }
   ],
   "source": [
    "count = rdf.select(pl.col(\"Sex\").count()).collect().fetch()"
   ]
  },
  {
   "cell_type": "markdown",
   "metadata": {},
   "source": [
    "Now, let's use unique() to remove all duplicate values in the dataset. We now see unique vaulues only."
   ]
  },
  {
   "cell_type": "code",
   "execution_count": 29,
   "metadata": {},
   "outputs": [
    {
     "name": "stdout",
     "output_type": "stream",
     "text": [
      "\u001b[33mWarning: non privacy-preserving queries necessitate data owner's approval.\n",
      "Reason: Only 1 subrules matched but at least 2 are required.\n",
      "Failed sub rules are:\n",
      "Rule #1: Cannot fetch a DataFrame that does not aggregate at least 10 rows of the initial dataframe uploaded by the data owner.\n",
      "\n",
      "A notification has been sent to the data owner. The request will be pending until the data owner accepts or denies it or until timeout seconds elapse.\u001b[37m\n",
      "\u001b[32mThe query has been accepted by the data owner.\u001b[37m\n"
     ]
    },
    {
     "data": {
      "text/html": [
       "<div>\n",
       "<style scoped>\n",
       "    .dataframe tbody tr th:only-of-type {\n",
       "        vertical-align: middle;\n",
       "    }\n",
       "\n",
       "    .dataframe tbody tr th {\n",
       "        vertical-align: top;\n",
       "    }\n",
       "\n",
       "    .dataframe thead th {\n",
       "        text-align: right;\n",
       "    }\n",
       "\n",
       "    .dataframe td {\n",
       "        white-space: pre;\n",
       "    }\n",
       "\n",
       "    .dataframe td {\n",
       "        padding-top: 0;\n",
       "    }\n",
       "\n",
       "    .dataframe td {\n",
       "        padding-bottom: 0;\n",
       "    }\n",
       "</style>\n",
       "<table border=\"1\" class=\"dataframe\" >\n",
       "<small>shape: (7, 1)</small>\n",
       "<thead>\n",
       "<tr>\n",
       "<th>\n",
       "Sex\n",
       "</th>\n",
       "</tr>\n",
       "<tr>\n",
       "<td>\n",
       "str\n",
       "</td>\n",
       "</tr>\n",
       "</thead>\n",
       "<tbody>\n",
       "<tr>\n",
       "<td>\n",
       "&quot;male&quot;\n",
       "</td>\n",
       "</tr>\n",
       "<tr>\n",
       "<td>\n",
       "&quot;female&quot;\n",
       "</td>\n",
       "</tr>\n",
       "<tr>\n",
       "<td>\n",
       "&quot;m&quot;\n",
       "</td>\n",
       "</tr>\n",
       "<tr>\n",
       "<td>\n",
       "&quot;m &quot;\n",
       "</td>\n",
       "</tr>\n",
       "<tr>\n",
       "<td>\n",
       "&quot;M&quot;\n",
       "</td>\n",
       "</tr>\n",
       "<tr>\n",
       "<td>\n",
       "&quot;F&quot;\n",
       "</td>\n",
       "</tr>\n",
       "<tr>\n",
       "<td>\n",
       "&quot;f&quot;\n",
       "</td>\n",
       "</tr>\n",
       "</tbody>\n",
       "</table>\n",
       "</div>"
      ],
      "text/plain": [
       "shape: (7, 1)\n",
       "┌────────┐\n",
       "│ Sex    │\n",
       "│ ---    │\n",
       "│ str    │\n",
       "╞════════╡\n",
       "│ male   │\n",
       "├╌╌╌╌╌╌╌╌┤\n",
       "│ female │\n",
       "├╌╌╌╌╌╌╌╌┤\n",
       "│ m      │\n",
       "├╌╌╌╌╌╌╌╌┤\n",
       "│ m      │\n",
       "├╌╌╌╌╌╌╌╌┤\n",
       "│ M      │\n",
       "├╌╌╌╌╌╌╌╌┤\n",
       "│ F      │\n",
       "├╌╌╌╌╌╌╌╌┤\n",
       "│ f      │\n",
       "└────────┘"
      ]
     },
     "execution_count": 29,
     "metadata": {},
     "output_type": "execute_result"
    }
   ],
   "source": [
    "df = rdf.unique()\n",
    "df.select(pl.col(\"Sex\")).collect().fetch()"
   ]
  },
  {
   "cell_type": "markdown",
   "metadata": {},
   "source": [
    "This leads us to our final cleaning topic: how to map all alternative forms for one value, i.e \"m\", \"M\" and \"male\" for male, to one same value.\n",
    "\n",
    "One way to achieve this is using a polar's \"when-then-otherwise\" statement to replace alternative forms of \"male\" with one chosen form.\n",
    "\n",
    "As you can see, we now only have \"male\" or \"female\" in our output."
   ]
  },
  {
   "cell_type": "code",
   "execution_count": 30,
   "metadata": {},
   "outputs": [
    {
     "name": "stdout",
     "output_type": "stream",
     "text": [
      "\u001b[33mWarning: non privacy-preserving queries necessitate data owner's approval.\n",
      "Reason: Only 1 subrules matched but at least 2 are required.\n",
      "Failed sub rules are:\n",
      "Rule #1: Cannot fetch a DataFrame that does not aggregate at least 10 rows of the initial dataframe uploaded by the data owner.\n",
      "\n",
      "A notification has been sent to the data owner. The request will be pending until the data owner accepts or denies it or until timeout seconds elapse.\u001b[37m\n",
      "\u001b[32mThe query has been accepted by the data owner.\u001b[37m\n"
     ]
    },
    {
     "data": {
      "text/html": [
       "<div>\n",
       "<style scoped>\n",
       "    .dataframe tbody tr th:only-of-type {\n",
       "        vertical-align: middle;\n",
       "    }\n",
       "\n",
       "    .dataframe tbody tr th {\n",
       "        vertical-align: top;\n",
       "    }\n",
       "\n",
       "    .dataframe thead th {\n",
       "        text-align: right;\n",
       "    }\n",
       "\n",
       "    .dataframe td {\n",
       "        white-space: pre;\n",
       "    }\n",
       "\n",
       "    .dataframe td {\n",
       "        padding-top: 0;\n",
       "    }\n",
       "\n",
       "    .dataframe td {\n",
       "        padding-bottom: 0;\n",
       "    }\n",
       "</style>\n",
       "<table border=\"1\" class=\"dataframe\" >\n",
       "<small>shape: (7, 1)</small>\n",
       "<thead>\n",
       "<tr>\n",
       "<th>\n",
       "literal\n",
       "</th>\n",
       "</tr>\n",
       "<tr>\n",
       "<td>\n",
       "str\n",
       "</td>\n",
       "</tr>\n",
       "</thead>\n",
       "<tbody>\n",
       "<tr>\n",
       "<td>\n",
       "&quot;male&quot;\n",
       "</td>\n",
       "</tr>\n",
       "<tr>\n",
       "<td>\n",
       "&quot;female&quot;\n",
       "</td>\n",
       "</tr>\n",
       "<tr>\n",
       "<td>\n",
       "&quot;male&quot;\n",
       "</td>\n",
       "</tr>\n",
       "<tr>\n",
       "<td>\n",
       "&quot;male&quot;\n",
       "</td>\n",
       "</tr>\n",
       "<tr>\n",
       "<td>\n",
       "&quot;male&quot;\n",
       "</td>\n",
       "</tr>\n",
       "<tr>\n",
       "<td>\n",
       "&quot;female&quot;\n",
       "</td>\n",
       "</tr>\n",
       "<tr>\n",
       "<td>\n",
       "&quot;f&quot;\n",
       "</td>\n",
       "</tr>\n",
       "</tbody>\n",
       "</table>\n",
       "</div>"
      ],
      "text/plain": [
       "shape: (7, 1)\n",
       "┌─────────┐\n",
       "│ literal │\n",
       "│ ---     │\n",
       "│ str     │\n",
       "╞═════════╡\n",
       "│ male    │\n",
       "├╌╌╌╌╌╌╌╌╌┤\n",
       "│ female  │\n",
       "├╌╌╌╌╌╌╌╌╌┤\n",
       "│ male    │\n",
       "├╌╌╌╌╌╌╌╌╌┤\n",
       "│ male    │\n",
       "├╌╌╌╌╌╌╌╌╌┤\n",
       "│ male    │\n",
       "├╌╌╌╌╌╌╌╌╌┤\n",
       "│ female  │\n",
       "├╌╌╌╌╌╌╌╌╌┤\n",
       "│ f       │\n",
       "└─────────┘"
      ]
     },
     "execution_count": 30,
     "metadata": {},
     "output_type": "execute_result"
    }
   ],
   "source": [
    "new_rdf = (\n",
    "    df.select(\n",
    "        pl.when(pl.col(\"Sex\") == \"M\")\n",
    "        .then(\"male\")\n",
    "        .when(pl.col(\"Sex\") == \"m\")\n",
    "        .then(\"male\")\n",
    "        .when(pl.col(\"Sex\") == \"m \")\n",
    "        .then(\"male\")\n",
    "        .when(pl.col(\"Sex\") == \"F\")\n",
    "        .then(\"female\")\n",
    "        .otherwise(pl.col(\"Sex\"))\n",
    "    )\n",
    "    .collect()\n",
    "    .fetch()\n",
    ")\n",
    "new_rdf"
   ]
  },
  {
   "cell_type": "markdown",
   "metadata": {},
   "source": [
    "So that concludes our data cleaning tutorial. All that's left to do now is to close your connection to the server!"
   ]
  },
  {
   "cell_type": "code",
   "execution_count": 31,
   "metadata": {},
   "outputs": [],
   "source": [
    "connection.close()"
   ]
  }
 ],
 "metadata": {
  "kernelspec": {
   "display_name": "Python 3.9.13 ('.venv': venv)",
   "language": "python",
   "name": "python3"
  },
  "language_info": {
   "codemirror_mode": {
    "name": "ipython",
    "version": 3
   },
   "file_extension": ".py",
   "mimetype": "text/x-python",
   "name": "python",
   "nbconvert_exporter": "python",
   "pygments_lexer": "ipython3",
   "version": "3.9.13"
  },
  "orig_nbformat": 4,
  "vscode": {
   "interpreter": {
    "hash": "e73bcc433a662e9293d91067cab171064db529ff543166fe82f438280030072e"
   }
  }
 },
 "nbformat": 4,
 "nbformat_minor": 2
}
