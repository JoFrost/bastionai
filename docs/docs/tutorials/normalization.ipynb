{
 "cells": [
  {
   "attachments": {},
   "cell_type": "markdown",
   "metadata": {},
   "source": [
    "<div id=\"colab_button\">\n",
    "  <h1>Normalization in BastionLab</h1>\n",
    "  <a target=\"_blank\" href=\"https://colab.research.google.com/github/mithril-security/bastionlab/blob/v0.3.7/docs/docs/tutorials/normalization.ipynb\"> \n",
    "  <img src=\"https://colab.research.google.com/assets/colab-badge.svg\" alt=\"Open In Colab\"/></a>\n",
    "</div>\n",
    "______________________________________________________\n",
    "\n",
    "Normalization is a common data pre-processing technique used prior to ML model fitting. In this tutorial, we are going to take a look at how to use our zscore_scale and min-max normalization methods to make normalization simple in BastionLab. Normalization methods are used to avoid creating a bias due to different variables being measured at different scales and thus not contributing equally to the machine learning process.\n",
    "\n",
    "BastionLab implements the two most common normalization methods for ML: min-max and z-score or standardization. So let's dive into how we can use these two methods on a RemoteLazyFrame!\n",
    "\n",
    "## Pre-requisites\n",
    "\n",
    "________________________________________________\n",
    "\n",
    "### Installation\n",
    "\n",
    "In order to run this notebook, we need to:\n",
    "- Have [Python3.7](https://www.python.org/downloads/) (or greater) and [Python Pip](https://pypi.org/project/pip/) installed\n",
    "- Install [BastionLab](https://bastionlab.readthedocs.io/en/latest/docs/getting-started/installation/)\n",
    "\n",
    "We'll do so by running the code block below. \n",
    "\n",
    ">If you are running this notebook on your machine instead of [Google Colab](https://colab.research.google.com/github/mithril-security/bastionlab/blob/v0.3.6/docs/docs/tutorials/data_cleaning.ipynb), you can see our [Installation page](https://bastionlab.readthedocs.io/en/latest/docs/getting-started/installation/) to find the installation method that best suits your needs."
   ]
  },
  {
   "cell_type": "code",
   "execution_count": 29,
   "metadata": {},
   "outputs": [],
   "source": [
    "# pip packages\n",
    "!pip install bastionlab\n",
    "!pip install bastionlab_server"
   ]
  },
  {
   "attachments": {},
   "cell_type": "markdown",
   "metadata": {},
   "source": [
    "### Launch and connect to the server"
   ]
  },
  {
   "cell_type": "code",
   "execution_count": 30,
   "metadata": {},
   "outputs": [],
   "source": [
    "# launch bastionlab_server test package\n",
    "import bastionlab_server\n",
    "\n",
    "srv = bastionlab_server.start()"
   ]
  },
  {
   "attachments": {},
   "cell_type": "markdown",
   "metadata": {},
   "source": [
    ">*Note that the bastionlab_server package we install here was created for testing purposes. You can also install BastionLab server using our Docker image or from source (especially for non-test purposes). Check out our [Installation Tutorial](../getting-started/installation.md) for more details.*"
   ]
  },
  {
   "cell_type": "code",
   "execution_count": 31,
   "metadata": {},
   "outputs": [],
   "source": [
    "# connecting to the server\n",
    "from bastionlab import Connection\n",
    "\n",
    "connection = Connection(\"localhost\")\n",
    "client = connection.client"
   ]
  },
  {
   "attachments": {},
   "cell_type": "markdown",
   "metadata": {},
   "source": [
    "### Upload the dataframe to the server"
   ]
  },
  {
   "attachments": {},
   "cell_type": "markdown",
   "metadata": {},
   "source": [
    "For this tutorial, we'll create a dataset with four columns and rows."
   ]
  },
  {
   "cell_type": "code",
   "execution_count": 32,
   "metadata": {},
   "outputs": [],
   "source": [
    "import polars as pl\n",
    "\n",
    "df1 = pl.DataFrame(\n",
    "    {\n",
    "        \"Col A\": [180000, 360000, 230000, 60000],\n",
    "        \"Col B\": [110, 905, 230, 450],\n",
    "        \"Col C\": [18.9, 23.4, 14.0, 13.5],\n",
    "        \"Col D\": [1400, 1800, 1300, 1500],\n",
    "    }\n",
    ")"
   ]
  },
  {
   "attachments": {},
   "cell_type": "markdown",
   "metadata": {},
   "source": [
    "\n",
    "We'll quickly upload the dataset to the server with an open safety policy, since setting up BastionLab is not the focus of this tutorial. It will allows us to demonstrate features without having to approve any data access requests. You can check out how to define a safe privacy policy [here](https://bastionlab.readthedocs.io/en/latest/docs/tutorials/defining_policy_privacy/)."
   ]
  },
  {
   "cell_type": "code",
   "execution_count": 33,
   "metadata": {},
   "outputs": [
    {
     "data": {
      "text/html": [
       "<div>\n",
       "<style scoped>\n",
       "    .dataframe tbody tr th:only-of-type {\n",
       "        vertical-align: middle;\n",
       "    }\n",
       "\n",
       "    .dataframe tbody tr th {\n",
       "        vertical-align: top;\n",
       "    }\n",
       "\n",
       "    .dataframe thead th {\n",
       "        text-align: right;\n",
       "    }\n",
       "\n",
       "    .dataframe td {\n",
       "        white-space: pre;\n",
       "    }\n",
       "\n",
       "    .dataframe td {\n",
       "        padding-top: 0;\n",
       "    }\n",
       "\n",
       "    .dataframe td {\n",
       "        padding-bottom: 0;\n",
       "    }\n",
       "</style>\n",
       "<table border=\"1\" class=\"dataframe\" >\n",
       "<small>shape: (4, 4)</small>\n",
       "<thead>\n",
       "<tr>\n",
       "<th>\n",
       "Col A\n",
       "</th>\n",
       "<th>\n",
       "Col B\n",
       "</th>\n",
       "<th>\n",
       "Col C\n",
       "</th>\n",
       "<th>\n",
       "Col D\n",
       "</th>\n",
       "</tr>\n",
       "<tr>\n",
       "<td>\n",
       "i64\n",
       "</td>\n",
       "<td>\n",
       "i64\n",
       "</td>\n",
       "<td>\n",
       "f64\n",
       "</td>\n",
       "<td>\n",
       "i64\n",
       "</td>\n",
       "</tr>\n",
       "</thead>\n",
       "<tbody>\n",
       "<tr>\n",
       "<td>\n",
       "180000\n",
       "</td>\n",
       "<td>\n",
       "110\n",
       "</td>\n",
       "<td>\n",
       "18.9\n",
       "</td>\n",
       "<td>\n",
       "1400\n",
       "</td>\n",
       "</tr>\n",
       "<tr>\n",
       "<td>\n",
       "360000\n",
       "</td>\n",
       "<td>\n",
       "905\n",
       "</td>\n",
       "<td>\n",
       "23.4\n",
       "</td>\n",
       "<td>\n",
       "1800\n",
       "</td>\n",
       "</tr>\n",
       "<tr>\n",
       "<td>\n",
       "230000\n",
       "</td>\n",
       "<td>\n",
       "230\n",
       "</td>\n",
       "<td>\n",
       "14.0\n",
       "</td>\n",
       "<td>\n",
       "1300\n",
       "</td>\n",
       "</tr>\n",
       "<tr>\n",
       "<td>\n",
       "60000\n",
       "</td>\n",
       "<td>\n",
       "450\n",
       "</td>\n",
       "<td>\n",
       "13.5\n",
       "</td>\n",
       "<td>\n",
       "1500\n",
       "</td>\n",
       "</tr>\n",
       "</tbody>\n",
       "</table>\n",
       "</div>"
      ],
      "text/plain": [
       "shape: (4, 4)\n",
       "┌────────┬───────┬───────┬───────┐\n",
       "│ Col A  ┆ Col B ┆ Col C ┆ Col D │\n",
       "│ ---    ┆ ---   ┆ ---   ┆ ---   │\n",
       "│ i64    ┆ i64   ┆ f64   ┆ i64   │\n",
       "╞════════╪═══════╪═══════╪═══════╡\n",
       "│ 180000 ┆ 110   ┆ 18.9  ┆ 1400  │\n",
       "├╌╌╌╌╌╌╌╌┼╌╌╌╌╌╌╌┼╌╌╌╌╌╌╌┼╌╌╌╌╌╌╌┤\n",
       "│ 360000 ┆ 905   ┆ 23.4  ┆ 1800  │\n",
       "├╌╌╌╌╌╌╌╌┼╌╌╌╌╌╌╌┼╌╌╌╌╌╌╌┼╌╌╌╌╌╌╌┤\n",
       "│ 230000 ┆ 230   ┆ 14.0  ┆ 1300  │\n",
       "├╌╌╌╌╌╌╌╌┼╌╌╌╌╌╌╌┼╌╌╌╌╌╌╌┼╌╌╌╌╌╌╌┤\n",
       "│ 60000  ┆ 450   ┆ 13.5  ┆ 1500  │\n",
       "└────────┴───────┴───────┴───────┘"
      ]
     },
     "execution_count": 33,
     "metadata": {},
     "output_type": "execute_result"
    }
   ],
   "source": [
    "from bastionlab.polars.policy import Policy, TrueRule, Log\n",
    "\n",
    "policy = Policy(safe_zone=TrueRule(), unsafe_handling=Log(), savable=True)\n",
    "\n",
    "rdf = client.polars.send_df(df1, policy=policy)\n",
    "rdf.collect().fetch()"
   ]
  },
  {
   "attachments": {},
   "cell_type": "markdown",
   "metadata": {},
   "source": [
    "<div class=\"warning\">\n",
    "<b>This policy is not suitable for production.</b> Please note that we <i>only</i> use it for demonstration purposes, to avoid having to approve any data access requests in the tutorial. <br></div> "
   ]
  },
  {
   "attachments": {},
   "cell_type": "markdown",
   "metadata": {},
   "source": [
    "## Normalization strategies\n",
    "__________________________________________________________\n",
    "\n",
    "### Min-max normalization\n",
    "\n",
    "The min-max approach (often called normalization) rescales the feature to a hard and fast range of [0,1] by subtracting the minimum value of the feature then dividing by the range.\n",
    "\n",
    "We can apply min-max normalization to one or multiple columns by calling the `minmax` method on our `RemoteLazyFrame` with either the string name of one column or a list of string names of multiple columns."
   ]
  },
  {
   "cell_type": "code",
   "execution_count": 34,
   "metadata": {},
   "outputs": [
    {
     "data": {
      "text/html": [
       "<div>\n",
       "<style scoped>\n",
       "    .dataframe tbody tr th:only-of-type {\n",
       "        vertical-align: middle;\n",
       "    }\n",
       "\n",
       "    .dataframe tbody tr th {\n",
       "        vertical-align: top;\n",
       "    }\n",
       "\n",
       "    .dataframe thead th {\n",
       "        text-align: right;\n",
       "    }\n",
       "\n",
       "    .dataframe td {\n",
       "        white-space: pre;\n",
       "    }\n",
       "\n",
       "    .dataframe td {\n",
       "        padding-top: 0;\n",
       "    }\n",
       "\n",
       "    .dataframe td {\n",
       "        padding-bottom: 0;\n",
       "    }\n",
       "</style>\n",
       "<table border=\"1\" class=\"dataframe\" >\n",
       "<small>shape: (4, 4)</small>\n",
       "<thead>\n",
       "<tr>\n",
       "<th>\n",
       "Col A\n",
       "</th>\n",
       "<th>\n",
       "Col B\n",
       "</th>\n",
       "<th>\n",
       "Col C\n",
       "</th>\n",
       "<th>\n",
       "Col D\n",
       "</th>\n",
       "</tr>\n",
       "<tr>\n",
       "<td>\n",
       "f64\n",
       "</td>\n",
       "<td>\n",
       "f64\n",
       "</td>\n",
       "<td>\n",
       "f64\n",
       "</td>\n",
       "<td>\n",
       "f64\n",
       "</td>\n",
       "</tr>\n",
       "</thead>\n",
       "<tbody>\n",
       "<tr>\n",
       "<td>\n",
       "0.4\n",
       "</td>\n",
       "<td>\n",
       "0.0\n",
       "</td>\n",
       "<td>\n",
       "0.545455\n",
       "</td>\n",
       "<td>\n",
       "0.2\n",
       "</td>\n",
       "</tr>\n",
       "<tr>\n",
       "<td>\n",
       "1.0\n",
       "</td>\n",
       "<td>\n",
       "1.0\n",
       "</td>\n",
       "<td>\n",
       "1.0\n",
       "</td>\n",
       "<td>\n",
       "1.0\n",
       "</td>\n",
       "</tr>\n",
       "<tr>\n",
       "<td>\n",
       "0.566667\n",
       "</td>\n",
       "<td>\n",
       "0.150943\n",
       "</td>\n",
       "<td>\n",
       "0.050505\n",
       "</td>\n",
       "<td>\n",
       "0.0\n",
       "</td>\n",
       "</tr>\n",
       "<tr>\n",
       "<td>\n",
       "0.0\n",
       "</td>\n",
       "<td>\n",
       "0.427673\n",
       "</td>\n",
       "<td>\n",
       "0.0\n",
       "</td>\n",
       "<td>\n",
       "0.4\n",
       "</td>\n",
       "</tr>\n",
       "</tbody>\n",
       "</table>\n",
       "</div>"
      ],
      "text/plain": [
       "shape: (4, 4)\n",
       "┌──────────┬──────────┬──────────┬───────┐\n",
       "│ Col A    ┆ Col B    ┆ Col C    ┆ Col D │\n",
       "│ ---      ┆ ---      ┆ ---      ┆ ---   │\n",
       "│ f64      ┆ f64      ┆ f64      ┆ f64   │\n",
       "╞══════════╪══════════╪══════════╪═══════╡\n",
       "│ 0.4      ┆ 0.0      ┆ 0.545455 ┆ 0.2   │\n",
       "├╌╌╌╌╌╌╌╌╌╌┼╌╌╌╌╌╌╌╌╌╌┼╌╌╌╌╌╌╌╌╌╌┼╌╌╌╌╌╌╌┤\n",
       "│ 1.0      ┆ 1.0      ┆ 1.0      ┆ 1.0   │\n",
       "├╌╌╌╌╌╌╌╌╌╌┼╌╌╌╌╌╌╌╌╌╌┼╌╌╌╌╌╌╌╌╌╌┼╌╌╌╌╌╌╌┤\n",
       "│ 0.566667 ┆ 0.150943 ┆ 0.050505 ┆ 0.0   │\n",
       "├╌╌╌╌╌╌╌╌╌╌┼╌╌╌╌╌╌╌╌╌╌┼╌╌╌╌╌╌╌╌╌╌┼╌╌╌╌╌╌╌┤\n",
       "│ 0.0      ┆ 0.427673 ┆ 0.0      ┆ 0.4   │\n",
       "└──────────┴──────────┴──────────┴───────┘"
      ]
     },
     "execution_count": 34,
     "metadata": {},
     "output_type": "execute_result"
    }
   ],
   "source": [
    "columns = [\"Col A\", \"Col B\", \"Col C\", \"Col D\"]\n",
    "mm = rdf.minmax_scale(columns).collect().fetch()\n",
    "mm"
   ]
  },
  {
   "attachments": {},
   "cell_type": "markdown",
   "metadata": {},
   "source": [
    "The z-score method (often called standardization) transforms the info into distribution with a mean of 0 and a typical deviation of 1. \n",
    "Each standardized value is computed by subtracting the mean of the corresponding feature then dividing by the quality deviation.\n",
    "\n",
    "We can use the z-score method in BastionLab by using the `zscore_scale` RemoteLazyFrame method. "
   ]
  },
  {
   "cell_type": "code",
   "execution_count": 35,
   "metadata": {},
   "outputs": [
    {
     "data": {
      "text/plain": [
       "<AxesSubplot: >"
      ]
     },
     "execution_count": 35,
     "metadata": {},
     "output_type": "execute_result"
    },
    {
     "data": {
      "image/png": "[encoded data removed]",
      "text/plain": [
       "<Figure size 640x480 with 1 Axes>"
      ]
     },
     "metadata": {},
     "output_type": "display_data"
    }
   ],
   "source": [
    "import matplotlib.pyplot as plt\n",
    "\n",
    "mm.to_pandas().plot(kind=\"bar\")"
   ]
  },
  {
   "cell_type": "code",
   "execution_count": 36,
   "metadata": {},
   "outputs": [
    {
     "data": {
      "text/html": [
       "<div>\n",
       "<style scoped>\n",
       "    .dataframe tbody tr th:only-of-type {\n",
       "        vertical-align: middle;\n",
       "    }\n",
       "\n",
       "    .dataframe tbody tr th {\n",
       "        vertical-align: top;\n",
       "    }\n",
       "\n",
       "    .dataframe thead th {\n",
       "        text-align: right;\n",
       "    }\n",
       "\n",
       "    .dataframe td {\n",
       "        white-space: pre;\n",
       "    }\n",
       "\n",
       "    .dataframe td {\n",
       "        padding-top: 0;\n",
       "    }\n",
       "\n",
       "    .dataframe td {\n",
       "        padding-bottom: 0;\n",
       "    }\n",
       "</style>\n",
       "<table border=\"1\" class=\"dataframe\" >\n",
       "<small>shape: (4, 4)</small>\n",
       "<thead>\n",
       "<tr>\n",
       "<th>\n",
       "Col A\n",
       "</th>\n",
       "<th>\n",
       "Col B\n",
       "</th>\n",
       "<th>\n",
       "Col C\n",
       "</th>\n",
       "<th>\n",
       "Col D\n",
       "</th>\n",
       "</tr>\n",
       "<tr>\n",
       "<td>\n",
       "f64\n",
       "</td>\n",
       "<td>\n",
       "f64\n",
       "</td>\n",
       "<td>\n",
       "f64\n",
       "</td>\n",
       "<td>\n",
       "f64\n",
       "</td>\n",
       "</tr>\n",
       "</thead>\n",
       "<tbody>\n",
       "<tr>\n",
       "<td>\n",
       "-0.221422\n",
       "</td>\n",
       "<td>\n",
       "-0.895492\n",
       "</td>\n",
       "<td>\n",
       "0.311486\n",
       "</td>\n",
       "<td>\n",
       "-0.46291\n",
       "</td>\n",
       "</tr>\n",
       "<tr>\n",
       "<td>\n",
       "1.227884\n",
       "</td>\n",
       "<td>\n",
       "1.373564\n",
       "</td>\n",
       "<td>\n",
       "1.278167\n",
       "</td>\n",
       "<td>\n",
       "1.38873\n",
       "</td>\n",
       "</tr>\n",
       "<tr>\n",
       "<td>\n",
       "0.181163\n",
       "</td>\n",
       "<td>\n",
       "-0.552993\n",
       "</td>\n",
       "<td>\n",
       "-0.741122\n",
       "</td>\n",
       "<td>\n",
       "-0.92582\n",
       "</td>\n",
       "</tr>\n",
       "<tr>\n",
       "<td>\n",
       "-1.187625\n",
       "</td>\n",
       "<td>\n",
       "0.074922\n",
       "</td>\n",
       "<td>\n",
       "-0.848531\n",
       "</td>\n",
       "<td>\n",
       "0.0\n",
       "</td>\n",
       "</tr>\n",
       "</tbody>\n",
       "</table>\n",
       "</div>"
      ],
      "text/plain": [
       "shape: (4, 4)\n",
       "┌───────────┬───────────┬───────────┬──────────┐\n",
       "│ Col A     ┆ Col B     ┆ Col C     ┆ Col D    │\n",
       "│ ---       ┆ ---       ┆ ---       ┆ ---      │\n",
       "│ f64       ┆ f64       ┆ f64       ┆ f64      │\n",
       "╞═══════════╪═══════════╪═══════════╪══════════╡\n",
       "│ -0.221422 ┆ -0.895492 ┆ 0.311486  ┆ -0.46291 │\n",
       "├╌╌╌╌╌╌╌╌╌╌╌┼╌╌╌╌╌╌╌╌╌╌╌┼╌╌╌╌╌╌╌╌╌╌╌┼╌╌╌╌╌╌╌╌╌╌┤\n",
       "│ 1.227884  ┆ 1.373564  ┆ 1.278167  ┆ 1.38873  │\n",
       "├╌╌╌╌╌╌╌╌╌╌╌┼╌╌╌╌╌╌╌╌╌╌╌┼╌╌╌╌╌╌╌╌╌╌╌┼╌╌╌╌╌╌╌╌╌╌┤\n",
       "│ 0.181163  ┆ -0.552993 ┆ -0.741122 ┆ -0.92582 │\n",
       "├╌╌╌╌╌╌╌╌╌╌╌┼╌╌╌╌╌╌╌╌╌╌╌┼╌╌╌╌╌╌╌╌╌╌╌┼╌╌╌╌╌╌╌╌╌╌┤\n",
       "│ -1.187625 ┆ 0.074922  ┆ -0.848531 ┆ 0.0      │\n",
       "└───────────┴───────────┴───────────┴──────────┘"
      ]
     },
     "execution_count": 36,
     "metadata": {},
     "output_type": "execute_result"
    }
   ],
   "source": [
    "z = rdf.zscore_scale(columns).collect().fetch()\n",
    "z"
   ]
  },
  {
   "cell_type": "code",
   "execution_count": 37,
   "metadata": {},
   "outputs": [
    {
     "data": {
      "text/plain": [
       "<AxesSubplot: >"
      ]
     },
     "execution_count": 37,
     "metadata": {},
     "output_type": "execute_result"
    },
    {
     "data": {
      "image/png": "[encoded data removed]",
      "text/plain": [
       "<Figure size 640x480 with 1 Axes>"
      ]
     },
     "metadata": {},
     "output_type": "display_data"
    }
   ],
   "source": [
    "z.to_pandas().plot(kind=\"bar\")"
   ]
  },
  {
   "cell_type": "code",
   "execution_count": 38,
   "metadata": {},
   "outputs": [
    {
     "name": "stdout",
     "output_type": "stream",
     "text": [
      "BastionLab's server already stopped\n"
     ]
    },
    {
     "data": {
      "text/plain": [
       "False"
      ]
     },
     "execution_count": 38,
     "metadata": {},
     "output_type": "execute_result"
    }
   ],
   "source": [
    "connection.close()\n",
    "bastionlab_server.stop(srv)"
   ]
  }
 ],
 "metadata": {
  "kernelspec": {
   "display_name": ".venv",
   "language": "python",
   "name": "python3"
  },
  "language_info": {
   "codemirror_mode": {
    "name": "ipython",
    "version": 3
   },
   "file_extension": ".py",
   "mimetype": "text/x-python",
   "name": "python",
   "nbconvert_exporter": "python",
   "pygments_lexer": "ipython3",
   "version": "3.9.13"
  },
  "orig_nbformat": 4,
  "vscode": {
   "interpreter": {
    "hash": "ecc9e348b2453baa0e4208f38ec7a9ed567024199131dbd6d415ec8001506678"
   }
  }
 },
 "nbformat": 4,
 "nbformat_minor": 2
}
