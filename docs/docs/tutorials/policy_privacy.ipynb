{
 "cells": [
  {
   "attachments": {},
   "cell_type": "markdown",
   "metadata": {},
   "source": [
    "# Data access policy\n",
    "____________________________________\n",
    "\n",
    "In this tutorial, we are going to present the various options available to a data owner to set up a policy for their data.\n",
    "\n",
    "Privacy policies define the kind of operations that can be run on a dataframe. \n",
    "\n",
    "These are useful to ensure that data scientists are unable to fetch individial rows or do any operation that leaks information from the dataset. The policy must be set based on the sensitivity of the dataset.\n",
    "\n",
    "We also cover sanitization of columns in this tutorial. Sanitization allows the data owner to specify columns which should not be returned as a result of any query. \n",
    "\n",
    "If the result of a query contains a sanitized column, the entire column will be replaced with 'nulls' before bering be returned to the data scientist.\n",
    "\n",
    "## Pre-requisites\n",
    "\n",
    "____________________________________\n",
    "\n",
    "### Technical requirements\n",
    "\n",
    "To start this tutorial, ensure the following are already installed in your system:\n",
    "- Python3.7 or greater (get the latest version of Python at https://www.python.org/downloads/ or with your operating system’s package manager)\n",
    "- [Python Pip](https://pypi.org/project/pip/) (PyPi), the package manager\n",
    "- [Docker](https://www.docker.com/) \n",
    "\n",
    "*Here's the [Docker official tutorial](https://docker-curriculum.com/) to set it up on your computer.*\n",
    "\n",
    "In order to run this notebook, you will also need to install Polars, BastionLab and our easy-install bastionlab_server pip package. You can download all of these by running the following code block."
   ]
  },
  {
   "cell_type": "code",
   "execution_count": null,
   "metadata": {},
   "outputs": [],
   "source": [
    "! pip install polars\n",
    "! pip install bastionlab\n",
    "! pip install bationlab_server"
   ]
  },
  {
   "attachments": {},
   "cell_type": "markdown",
   "metadata": {},
   "source": [
    "Then we run the server:"
   ]
  },
  {
   "cell_type": "code",
   "execution_count": 29,
   "metadata": {},
   "outputs": [
    {
     "name": "stdout",
     "output_type": "stream",
     "text": [
      "BastionLab server (version 0.3.5) already installed\n",
      "Libtorch (version 1.12.1) already installed\n",
      "TLS certificates already generated\n",
      "Bastionlab server is now running on port 50056\n"
     ]
    },
    {
     "name": "stderr",
     "output_type": "stream",
     "text": [
      "[2022-12-16T15:55:15Z INFO  bastionlab] Authentication is disabled.\n",
      "[2022-12-16T15:55:15Z INFO  bastionlab] Telemetry is enabled.\n",
      "[2022-12-16T15:55:15Z INFO  bastionlab] BastionLab server listening on 0.0.0.0:50056.\n",
      "[2022-12-16T15:55:15Z INFO  bastionlab] Server ready to take requests\n"
     ]
    }
   ],
   "source": [
    "import bastionlab_server\n",
    "\n",
    "srv = bastionlab_server.start()"
   ]
  },
  {
   "attachments": {},
   "cell_type": "markdown",
   "metadata": {},
   "source": [
    "## Privacy policy options\n",
    "_______________________________"
   ]
  },
  {
   "attachments": {},
   "cell_type": "markdown",
   "metadata": {},
   "source": [
    "A Privacy policy is a set of rules describing the kind of operations that can be run on your data. \n",
    "\n",
    "They are defined at the remote object level (BastionLab's main object: the RemoteDataFrame), and outputs of computations (resulting dataframes) inherit their policies from the inputs. When there is more than one input, the new policy is a combination of all the input policies using the AND combinator.\n",
    "\n",
    "A policy has two sections:\n",
    "\n",
    "- `safe_zone`: it contains the rules specifying whether the result of a query is safe to return to a data-scientist.\n",
    "\n",
    "- `unsafe_handling`: this parameter specifies the type of action that must be taken if a query breaks the rules of the safe zone. \n",
    "\n",
    "Now, let's import all the elements we'll demonstrate in this tutorial."
   ]
  },
  {
   "cell_type": "code",
   "execution_count": 30,
   "metadata": {},
   "outputs": [],
   "source": [
    "from bastionlab import Identity, Connection\n",
    "from bastionlab.polars.policy import (\n",
    "    Policy,\n",
    "    AtLeastNof,\n",
    "    Aggregation,\n",
    "    UserId,\n",
    "    Log,\n",
    "    Review,\n",
    "    Reject,\n",
    ")"
   ]
  },
  {
   "attachments": {},
   "cell_type": "markdown",
   "metadata": {},
   "source": [
    "### `safe-zone`\n",
    "\n",
    "The safe zone contains the rules specifying whether the result of a query is safe to return to a user. Ignore the unsafe_handling part for the moment, we'll explain that next.\n",
    "\n",
    "#### `Aggregation()`\n",
    "The `Aggregation()` rule ensures that the returned dataframe aggregates, at minimum, the specified number of rows from the orginial dataset.\n",
    "\n",
    "In the following example if the result of a query does not aggregate at least 10 rows, it will violate the safe zone."
   ]
  },
  {
   "cell_type": "code",
   "execution_count": 31,
   "metadata": {},
   "outputs": [],
   "source": [
    "policy = Policy(safe_zone=Aggregation(min_agg_size=10), unsafe_handling=Log())"
   ]
  },
  {
   "attachments": {},
   "cell_type": "markdown",
   "metadata": {},
   "source": [
    "#### `UserId()`\n",
    "The `UserId()` rule lets a data owner grant access to a dataframe, to one particular user. The `user_id` is the hash of the public key of the user.\n",
    "\n",
    "The following code block demonstrates how a user can obtain their user_id. \n",
    "\n",
    " The user should share their user id with the data owner who may add it in the safe zone as follows. \n",
    "\n",
    "The data_scientist.pubkey returns the public-key from the Identity.\n",
    "The hash returns the hash of the public-key, and the hex() converts the hash to a hexadecimal string.\n",
    "\n",
    " > *Note - We explain what `Identities` are and how they work in our [Authentication tutorial](https://github.com/mithril-security/bastionlab/blob/master/docs/docs/tutorials/authentication.ipynb).* "
   ]
  },
  {
   "cell_type": "code",
   "execution_count": 32,
   "metadata": {},
   "outputs": [],
   "source": [
    "data_scientist = Identity.create(\"./data_scientist.pem\")\n",
    "\n",
    "user_id = data_scientist.pubkey.hash.hex()\n",
    "\n",
    "policy = Policy(safe_zone=UserId(user_id), unsafe_handling=Log())"
   ]
  },
  {
   "attachments": {},
   "cell_type": "markdown",
   "metadata": {},
   "source": [
    "> ***Important** - `UserId()` will only work if authentication is enabled on the server.*"
   ]
  },
  {
   "attachments": {},
   "cell_type": "markdown",
   "metadata": {},
   "source": [
    "#### `AtLeastNof()`\n",
    "\n",
    "`AtLeastNof()` is a collection of rules which ensures that the result of a query must pass at least `n` rules of the total number of rules.\n",
    "\n",
    "You can use this to specify, for example, different rules for different users. \n",
    "\n",
    "A possible scenario would be:\n",
    "\n",
    "- User 1 (data_scientist) is trusted by the data owner. They can run any query they want on the dataset and retrieve the results.\n",
    "- Other users are untrusted by the data owner. They must aggregate a minimum of 20 rows in the resulting dataframe.\n",
    "\n",
    "When a query is run on the dataframe with this policy. The AtLeastNof rule will check that atleast 'n' of the rules listed in 'of' are matched.\n",
    "\n",
    "Here the 'n' is 1. The 'of' parameter is a list containing 2 rules.\n",
    "\n",
    "If the query matches at least 1 of the 2 rules mentioned, the query will execute and return successfully.\n",
    "\n",
    "i.e, if the data_scientist runs a query, they will match the UserId rule set in the policy and successfully execute their query.\n",
    "\n",
    "If another user runs a query, the result of the query must aggregate a minimum of 20 rows to be considered safe and be returned."
   ]
  },
  {
   "cell_type": "code",
   "execution_count": 33,
   "metadata": {},
   "outputs": [],
   "source": [
    "data_scientist = Identity.create(\"./data_scientist.pem\")\n",
    "\n",
    "data_scientist_id = data_scientist.pubkey.hash.hex()\n",
    "\n",
    "policy = Policy(\n",
    "    safe_zone=AtLeastNof(n=1, of=[UserId(data_scientist_id), Aggregation(min_agg_size=20)]),\n",
    "    unsafe_handling=Log(),\n",
    ")"
   ]
  },
  {
   "attachments": {},
   "cell_type": "markdown",
   "metadata": {},
   "source": [
    "If you changed `n` to 2 in the code above, the Policy would enforce that both rules match. In this case, access is only allowed for the `data_scientist` and no other user. The queries run by the `data_scientist` would also need to aggregate a minimum of 20 rows."
   ]
  },
  {
   "attachments": {},
   "cell_type": "markdown",
   "metadata": {},
   "source": [
    "### `unsafe_handling`\n",
    "\n",
    "The `unsafe_handling` parameter is where the data owner specifies the action that must be taken when a query violates the safe zone.\n",
    "\n",
    "#### `Log()`\n",
    "The `Log()` action logs every query that violates the safe zone. It is the *default* action.\n",
    "\n",
    "For example, if the following policy (which requires a minimum of 10 aggregated rows) is violated because an operation only aggregates 5 rows, the server will log that query.\n",
    "\n",
    "> **Important - This action is unsafe!** It is only suitable for development and testing. The server will return the dataframe that violates the safe zone to the user."
   ]
  },
  {
   "cell_type": "code",
   "execution_count": 7,
   "metadata": {},
   "outputs": [],
   "source": [
    "policy = Policy(safe_zone=Aggregation(10), unsafe_handling=Log())"
   ]
  },
  {
   "attachments": {},
   "cell_type": "markdown",
   "metadata": {},
   "source": [
    "#### `Review()`\n",
    "The `Review()` action will require the data owner's approval to return any dataframes that violate the safe zone. The data owner can, then, review the operation and either accept or reject the query.\n",
    "\n",
    "If approved, the dataframe is returned to the user.\n",
    "\n",
    "If rejected, the user will be notified that the data owner has rejected their query.\n"
   ]
  },
  {
   "cell_type": "code",
   "execution_count": 8,
   "metadata": {},
   "outputs": [],
   "source": [
    "policy = Policy(safe_zone=Aggregation(10), unsafe_handling=Review())"
   ]
  },
  {
   "attachments": {},
   "cell_type": "markdown",
   "metadata": {},
   "source": [
    "#### `Reject()`\n",
    "\n",
    "The `Reject()` action will automatically reject any query that violates the safe zone."
   ]
  },
  {
   "cell_type": "code",
   "execution_count": 9,
   "metadata": {},
   "outputs": [],
   "source": [
    "policy = Policy(safe_zone=Aggregation(10), unsafe_handling=Reject())"
   ]
  },
  {
   "attachments": {},
   "cell_type": "markdown",
   "metadata": {},
   "source": [
    "## Set-up a privacy policy\n",
    "___________________________________\n",
    "\n",
    "Now that we know how all the rules work, let's play with an example. We'll use the [Titanic dataset](https://www.kaggle.com/competitions/titanic/data), which contains information relating to the passengers aboard the Titanic. We can download it by running the code block below. "
   ]
  },
  {
   "cell_type": "code",
   "execution_count": 10,
   "metadata": {},
   "outputs": [
    {
     "name": "stdout",
     "output_type": "stream",
     "text": [
      "--2022-12-16 15:25:42--  https://raw.githubusercontent.com/datasciencedojo/datasets/master/titanic.csv\n",
      "Resolving raw.githubusercontent.com (raw.githubusercontent.com)... 185.199.108.133, 185.199.109.133, 185.199.110.133, ...\n",
      "Connecting to raw.githubusercontent.com (raw.githubusercontent.com)|185.199.108.133|:443... connected.\n",
      "HTTP request sent, awaiting response... 200 OK\n",
      "Length: 60302 (59K) [text/plain]\n",
      "Saving to: ‘titanic.csv’\n",
      "\n",
      "titanic.csv         100%[===================>]  58.89K  --.-KB/s    in 0.004s  \n",
      "\n",
      "2022-12-16 15:25:42 (14.2 MB/s) - ‘titanic.csv’ saved [60302/60302]\n",
      "\n"
     ]
    }
   ],
   "source": [
    "!wget 'https://raw.githubusercontent.com/datasciencedojo/datasets/master/titanic.csv'"
   ]
  },
  {
   "attachments": {},
   "cell_type": "markdown",
   "metadata": {},
   "source": [
    "We'll set up a minimum of 10 aggregated row for any query and reject the ones that don't follow this rule. "
   ]
  },
  {
   "cell_type": "code",
   "execution_count": 34,
   "metadata": {},
   "outputs": [
    {
     "name": "stdout",
     "output_type": "stream",
     "text": [
      "{\"safe_zone\":{\"Aggregation\":10},\"unsafe_handling\":\"Reject\"}\n"
     ]
    },
    {
     "name": "stderr",
     "output_type": "stream",
     "text": [
      "[2022-12-16T15:55:34Z INFO  bastionlab_polars] Succesfully sent dataframe c802e0d5-32c7-4da4-8d4a-b8d21868e07f to server\n"
     ]
    }
   ],
   "source": [
    "import polars as pl\n",
    "\n",
    "connection = Connection(\"localhost\", 50056)\n",
    "\n",
    "df = pl.read_csv(\"titanic.csv\")\n",
    "\n",
    "policy = Policy(safe_zone=Aggregation(10), unsafe_handling=Reject())\n",
    "\n",
    "rdf = connection.client.polars.send_df(df, policy=policy)"
   ]
  },
  {
   "attachments": {},
   "cell_type": "markdown",
   "metadata": {},
   "source": [
    "To test it, let's run a safe query that aggregates at least 10 rows:"
   ]
  },
  {
   "cell_type": "code",
   "execution_count": 35,
   "metadata": {},
   "outputs": [
    {
     "name": "stdout",
     "output_type": "stream",
     "text": [
      "shape: (3, 2)\n",
      "┌────────┬──────────┐\n",
      "│ Pclass ┆ Survived │\n",
      "│ ---    ┆ ---      │\n",
      "│ i64    ┆ f64      │\n",
      "╞════════╪══════════╡\n",
      "│ 1      ┆ 0.62963  │\n",
      "├╌╌╌╌╌╌╌╌┼╌╌╌╌╌╌╌╌╌╌┤\n",
      "│ 2      ┆ 0.472826 │\n",
      "├╌╌╌╌╌╌╌╌┼╌╌╌╌╌╌╌╌╌╌┤\n",
      "│ 3      ┆ 0.242363 │\n",
      "└────────┴──────────┘\n"
     ]
    },
    {
     "name": "stderr",
     "output_type": "stream",
     "text": [
      "[2022-12-16T15:55:42Z INFO  bastionlab_polars] Succesfully ran query on 5d4b2d0c-c948-49f2-948b-bab7d6e82518\n"
     ]
    }
   ],
   "source": [
    "per_class_rates = (\n",
    "    rdf.select([pl.col(\"Pclass\"), pl.col(\"Survived\")])\n",
    "    .groupby(pl.col(\"Pclass\"))\n",
    "    .agg(pl.col(\"Survived\").mean())\n",
    "    .sort(\"Survived\", reverse=True)\n",
    "    .collect()\n",
    "    .fetch()\n",
    ")\n",
    "\n",
    "print(per_class_rates)"
   ]
  },
  {
   "attachments": {},
   "cell_type": "markdown",
   "metadata": {},
   "source": [
    "Let's now try an unsafe query that doesn't aggregate the minimum number of rows."
   ]
  },
  {
   "cell_type": "code",
   "execution_count": 36,
   "metadata": {},
   "outputs": [
    {
     "name": "stdout",
     "output_type": "stream",
     "text": [
      "Safe zone violation: a DataFrame has been non-privately fetched.\n",
      "Reason: Only 1 subrules matched but at least 2 are required.\n",
      "Failed sub rules are:\n",
      "Rule #1: Cannot fetch a DataFrame that does not aggregate at least 10 rows of the initial dataframe uploaded by the data owner.\n",
      "\u001b[31mThe query has been rejected by the data owner.\u001b[37m\n",
      "None\n"
     ]
    },
    {
     "name": "stderr",
     "output_type": "stream",
     "text": [
      "[2022-12-16T15:55:46Z INFO  bastionlab_polars] Succesfully ran query on b8efd1d9-6a18-400f-a86d-c7273028b255\n"
     ]
    }
   ],
   "source": [
    "unsafe_df = (\n",
    "    rdf.select([pl.col(\"Age\"), pl.col(\"Survived\")])\n",
    "    .groupby(pl.col(\"Age\"))\n",
    "    .agg(pl.col(\"Survived\").mean())\n",
    "    .sort(\"Survived\", reverse=True)\n",
    "    .collect()\n",
    "    .fetch()\n",
    ")\n",
    "\n",
    "print(unsafe_df)"
   ]
  },
  {
   "attachments": {},
   "cell_type": "markdown",
   "metadata": {},
   "source": [
    "### Sanitization of columns\n",
    "\n",
    "We're now handling aggregated queries, but some columns are never safe to expose - for example, a column of names. We want to make sure those are removed from the dataframe when the dataframe is fetched. \n",
    "\n",
    "We can do this by using the `sanitized_columns` parameter in the `send_df()` call:"
   ]
  },
  {
   "cell_type": "code",
   "execution_count": 37,
   "metadata": {},
   "outputs": [
    {
     "name": "stdout",
     "output_type": "stream",
     "text": [
      "{\"safe_zone\":{\"Aggregation\":10},\"unsafe_handling\":\"Log\"}\n",
      "Safe zone violation: a DataFrame has been non-privately fetched.\n",
      "Reason: Only 1 subrules matched but at least 2 are required.\n",
      "Failed sub rules are:\n",
      "Rule #1: Cannot fetch a DataFrame that does not aggregate at least 10 rows of the initial dataframe uploaded by the data owner.\n",
      "\u001b[33mWarning: non privacy-preserving query.\n",
      "Reason: Only 1 subrules matched but at least 2 are required.\n",
      "Failed sub rules are:\n",
      "Rule #1: Cannot fetch a DataFrame that does not aggregate at least 10 rows of the initial dataframe uploaded by the data owner.\n",
      "\n",
      "This incident will be reported to the data owner.\u001b[37m\n"
     ]
    },
    {
     "name": "stderr",
     "output_type": "stream",
     "text": [
      "[2022-12-16T15:55:48Z INFO  bastionlab_polars] Succesfully sent dataframe 65082778-f3cf-4b9a-a862-d7b0537f7d85 to server\n",
      "[2022-12-16T15:55:48Z INFO  bastionlab_polars] Succesfully ran query on 92629d27-7b63-4a24-9a08-e077fa982012\n"
     ]
    },
    {
     "data": {
      "text/html": [
       "<div>\n",
       "<style scoped>\n",
       "    .dataframe tbody tr th:only-of-type {\n",
       "        vertical-align: middle;\n",
       "    }\n",
       "\n",
       "    .dataframe tbody tr th {\n",
       "        vertical-align: top;\n",
       "    }\n",
       "\n",
       "    .dataframe thead th {\n",
       "        text-align: right;\n",
       "    }\n",
       "\n",
       "    .dataframe td {\n",
       "        white-space: pre;\n",
       "    }\n",
       "\n",
       "    .dataframe td {\n",
       "        padding-top: 0;\n",
       "    }\n",
       "\n",
       "    .dataframe td {\n",
       "        padding-bottom: 0;\n",
       "    }\n",
       "</style>\n",
       "<table border=\"1\" class=\"dataframe\" >\n",
       "<small>shape: (5, 12)</small>\n",
       "<thead>\n",
       "<tr>\n",
       "<th>\n",
       "PassengerId\n",
       "</th>\n",
       "<th>\n",
       "Survived\n",
       "</th>\n",
       "<th>\n",
       "Pclass\n",
       "</th>\n",
       "<th>\n",
       "Name\n",
       "</th>\n",
       "<th>\n",
       "Sex\n",
       "</th>\n",
       "<th>\n",
       "Age\n",
       "</th>\n",
       "<th>\n",
       "SibSp\n",
       "</th>\n",
       "<th>\n",
       "Parch\n",
       "</th>\n",
       "<th>\n",
       "Ticket\n",
       "</th>\n",
       "<th>\n",
       "Fare\n",
       "</th>\n",
       "<th>\n",
       "Cabin\n",
       "</th>\n",
       "<th>\n",
       "Embarked\n",
       "</th>\n",
       "</tr>\n",
       "<tr>\n",
       "<td>\n",
       "i64\n",
       "</td>\n",
       "<td>\n",
       "i64\n",
       "</td>\n",
       "<td>\n",
       "i64\n",
       "</td>\n",
       "<td>\n",
       "str\n",
       "</td>\n",
       "<td>\n",
       "str\n",
       "</td>\n",
       "<td>\n",
       "f64\n",
       "</td>\n",
       "<td>\n",
       "i64\n",
       "</td>\n",
       "<td>\n",
       "i64\n",
       "</td>\n",
       "<td>\n",
       "str\n",
       "</td>\n",
       "<td>\n",
       "f64\n",
       "</td>\n",
       "<td>\n",
       "str\n",
       "</td>\n",
       "<td>\n",
       "str\n",
       "</td>\n",
       "</tr>\n",
       "</thead>\n",
       "<tbody>\n",
       "<tr>\n",
       "<td>\n",
       "1\n",
       "</td>\n",
       "<td>\n",
       "0\n",
       "</td>\n",
       "<td>\n",
       "3\n",
       "</td>\n",
       "<td>\n",
       "null\n",
       "</td>\n",
       "<td>\n",
       "&quot;male&quot;\n",
       "</td>\n",
       "<td>\n",
       "22.0\n",
       "</td>\n",
       "<td>\n",
       "1\n",
       "</td>\n",
       "<td>\n",
       "0\n",
       "</td>\n",
       "<td>\n",
       "&quot;A/5 21171&quot;\n",
       "</td>\n",
       "<td>\n",
       "7.25\n",
       "</td>\n",
       "<td>\n",
       "null\n",
       "</td>\n",
       "<td>\n",
       "&quot;S&quot;\n",
       "</td>\n",
       "</tr>\n",
       "<tr>\n",
       "<td>\n",
       "2\n",
       "</td>\n",
       "<td>\n",
       "1\n",
       "</td>\n",
       "<td>\n",
       "1\n",
       "</td>\n",
       "<td>\n",
       "null\n",
       "</td>\n",
       "<td>\n",
       "&quot;female&quot;\n",
       "</td>\n",
       "<td>\n",
       "38.0\n",
       "</td>\n",
       "<td>\n",
       "1\n",
       "</td>\n",
       "<td>\n",
       "0\n",
       "</td>\n",
       "<td>\n",
       "&quot;PC 17599&quot;\n",
       "</td>\n",
       "<td>\n",
       "71.2833\n",
       "</td>\n",
       "<td>\n",
       "&quot;C85&quot;\n",
       "</td>\n",
       "<td>\n",
       "&quot;C&quot;\n",
       "</td>\n",
       "</tr>\n",
       "<tr>\n",
       "<td>\n",
       "3\n",
       "</td>\n",
       "<td>\n",
       "1\n",
       "</td>\n",
       "<td>\n",
       "3\n",
       "</td>\n",
       "<td>\n",
       "null\n",
       "</td>\n",
       "<td>\n",
       "&quot;female&quot;\n",
       "</td>\n",
       "<td>\n",
       "26.0\n",
       "</td>\n",
       "<td>\n",
       "0\n",
       "</td>\n",
       "<td>\n",
       "0\n",
       "</td>\n",
       "<td>\n",
       "&quot;STON/O2. 31012...\n",
       "</td>\n",
       "<td>\n",
       "7.925\n",
       "</td>\n",
       "<td>\n",
       "null\n",
       "</td>\n",
       "<td>\n",
       "&quot;S&quot;\n",
       "</td>\n",
       "</tr>\n",
       "<tr>\n",
       "<td>\n",
       "4\n",
       "</td>\n",
       "<td>\n",
       "1\n",
       "</td>\n",
       "<td>\n",
       "1\n",
       "</td>\n",
       "<td>\n",
       "null\n",
       "</td>\n",
       "<td>\n",
       "&quot;female&quot;\n",
       "</td>\n",
       "<td>\n",
       "35.0\n",
       "</td>\n",
       "<td>\n",
       "1\n",
       "</td>\n",
       "<td>\n",
       "0\n",
       "</td>\n",
       "<td>\n",
       "&quot;113803&quot;\n",
       "</td>\n",
       "<td>\n",
       "53.1\n",
       "</td>\n",
       "<td>\n",
       "&quot;C123&quot;\n",
       "</td>\n",
       "<td>\n",
       "&quot;S&quot;\n",
       "</td>\n",
       "</tr>\n",
       "<tr>\n",
       "<td>\n",
       "5\n",
       "</td>\n",
       "<td>\n",
       "0\n",
       "</td>\n",
       "<td>\n",
       "3\n",
       "</td>\n",
       "<td>\n",
       "null\n",
       "</td>\n",
       "<td>\n",
       "&quot;male&quot;\n",
       "</td>\n",
       "<td>\n",
       "35.0\n",
       "</td>\n",
       "<td>\n",
       "0\n",
       "</td>\n",
       "<td>\n",
       "0\n",
       "</td>\n",
       "<td>\n",
       "&quot;373450&quot;\n",
       "</td>\n",
       "<td>\n",
       "8.05\n",
       "</td>\n",
       "<td>\n",
       "null\n",
       "</td>\n",
       "<td>\n",
       "&quot;S&quot;\n",
       "</td>\n",
       "</tr>\n",
       "</tbody>\n",
       "</table>\n",
       "</div>"
      ],
      "text/plain": [
       "shape: (5, 12)\n",
       "┌─────────────┬──────────┬────────┬──────┬─────┬──────────────────┬─────────┬───────┬──────────┐\n",
       "│ PassengerId ┆ Survived ┆ Pclass ┆ Name ┆ ... ┆ Ticket           ┆ Fare    ┆ Cabin ┆ Embarked │\n",
       "│ ---         ┆ ---      ┆ ---    ┆ ---  ┆     ┆ ---              ┆ ---     ┆ ---   ┆ ---      │\n",
       "│ i64         ┆ i64      ┆ i64    ┆ str  ┆     ┆ str              ┆ f64     ┆ str   ┆ str      │\n",
       "╞═════════════╪══════════╪════════╪══════╪═════╪══════════════════╪═════════╪═══════╪══════════╡\n",
       "│ 1           ┆ 0        ┆ 3      ┆ null ┆ ... ┆ A/5 21171        ┆ 7.25    ┆ null  ┆ S        │\n",
       "├╌╌╌╌╌╌╌╌╌╌╌╌╌┼╌╌╌╌╌╌╌╌╌╌┼╌╌╌╌╌╌╌╌┼╌╌╌╌╌╌┼╌╌╌╌╌┼╌╌╌╌╌╌╌╌╌╌╌╌╌╌╌╌╌╌┼╌╌╌╌╌╌╌╌╌┼╌╌╌╌╌╌╌┼╌╌╌╌╌╌╌╌╌╌┤\n",
       "│ 2           ┆ 1        ┆ 1      ┆ null ┆ ... ┆ PC 17599         ┆ 71.2833 ┆ C85   ┆ C        │\n",
       "├╌╌╌╌╌╌╌╌╌╌╌╌╌┼╌╌╌╌╌╌╌╌╌╌┼╌╌╌╌╌╌╌╌┼╌╌╌╌╌╌┼╌╌╌╌╌┼╌╌╌╌╌╌╌╌╌╌╌╌╌╌╌╌╌╌┼╌╌╌╌╌╌╌╌╌┼╌╌╌╌╌╌╌┼╌╌╌╌╌╌╌╌╌╌┤\n",
       "│ 3           ┆ 1        ┆ 3      ┆ null ┆ ... ┆ STON/O2. 3101282 ┆ 7.925   ┆ null  ┆ S        │\n",
       "├╌╌╌╌╌╌╌╌╌╌╌╌╌┼╌╌╌╌╌╌╌╌╌╌┼╌╌╌╌╌╌╌╌┼╌╌╌╌╌╌┼╌╌╌╌╌┼╌╌╌╌╌╌╌╌╌╌╌╌╌╌╌╌╌╌┼╌╌╌╌╌╌╌╌╌┼╌╌╌╌╌╌╌┼╌╌╌╌╌╌╌╌╌╌┤\n",
       "│ 4           ┆ 1        ┆ 1      ┆ null ┆ ... ┆ 113803           ┆ 53.1    ┆ C123  ┆ S        │\n",
       "├╌╌╌╌╌╌╌╌╌╌╌╌╌┼╌╌╌╌╌╌╌╌╌╌┼╌╌╌╌╌╌╌╌┼╌╌╌╌╌╌┼╌╌╌╌╌┼╌╌╌╌╌╌╌╌╌╌╌╌╌╌╌╌╌╌┼╌╌╌╌╌╌╌╌╌┼╌╌╌╌╌╌╌┼╌╌╌╌╌╌╌╌╌╌┤\n",
       "│ 5           ┆ 0        ┆ 3      ┆ null ┆ ... ┆ 373450           ┆ 8.05    ┆ null  ┆ S        │\n",
       "└─────────────┴──────────┴────────┴──────┴─────┴──────────────────┴─────────┴───────┴──────────┘"
      ]
     },
     "execution_count": 37,
     "metadata": {},
     "output_type": "execute_result"
    }
   ],
   "source": [
    "policy = Policy(safe_zone=Aggregation(10), unsafe_handling=Log())\n",
    "\n",
    "rdf = connection.client.polars.send_df(df, policy=policy, sanitized_columns=[\"Name\"])\n",
    "\n",
    "rdf.head(5).collect().fetch()"
   ]
  },
  {
   "attachments": {},
   "cell_type": "markdown",
   "metadata": {},
   "source": [
    "When we print the first five rows of the dataset, the `'Name'` column has been replaced by `null` values!\n",
    "\n",
    "We have successfully set up a privacy policy. Now let's terminate the connection and stop the server:"
   ]
  },
  {
   "cell_type": "code",
   "execution_count": 28,
   "metadata": {},
   "outputs": [
    {
     "name": "stdout",
     "output_type": "stream",
     "text": [
      "Stopping BastionLab's server...\n"
     ]
    },
    {
     "data": {
      "text/plain": [
       "True"
      ]
     },
     "execution_count": 28,
     "metadata": {},
     "output_type": "execute_result"
    }
   ],
   "source": [
    "connection.close()\n",
    "bastionlab_server.stop(srv)"
   ]
  }
 ],
 "metadata": {
  "kernelspec": {
   "display_name": "Python 3",
   "language": "python",
   "name": "python3"
  },
  "language_info": {
   "codemirror_mode": {
    "name": "ipython",
    "version": 3
   },
   "file_extension": ".py",
   "mimetype": "text/x-python",
   "name": "python",
   "nbconvert_exporter": "python",
   "pygments_lexer": "ipython3",
   "version": "3.8.10 (default, Jun 22 2022, 20:18:18) \n[GCC 9.4.0]"
  },
  "orig_nbformat": 4,
  "vscode": {
   "interpreter": {
    "hash": "916dbcbb3f70747c44a77c7bcd40155683ae19c65e1c03b4aa3499c5328201f1"
   }
  }
 },
 "nbformat": 4,
 "nbformat_minor": 2
}
