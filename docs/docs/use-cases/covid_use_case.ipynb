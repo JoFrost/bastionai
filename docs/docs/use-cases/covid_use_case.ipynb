{
 "cells": [
  {
   "attachments": {},
   "cell_type": "markdown",
   "metadata": {},
   "source": [
    "# Covid-19 Analysis with BastionLab\n",
    "\n",
    "In this tutorial, we are going to explore how we can use BastionLab to explore a Covid-19 dataset.\n",
    "\n",
    "## Pre-requisites\n",
    "\n",
    "### Technical Requirements\n",
    "\n",
    "To start this tutorial, ensure the following are already installed in your system:\n",
    "- Python3.7 or greater (get the latest version of Python at https://www.python.org/downloads/ or with your operating system’s package manager)\n",
    "- [Python Pip](https://pypi.org/project/pip/) (PyPi), the package manager\n",
    "- [Docker](https://www.docker.com/) \n",
    "\n",
    "*Here's the [Docker official tutorial](https://docker-curriculum.com/) to set it up on your computer.*\n",
    "\n",
    "## Pip packages and dataset\n",
    "\n",
    "In order to run this notebook, you will also need to install Polars, Bastionlab which you can do by running the code block below. Finally, you will need to download the dataset we will be using in this tutorial from Kaggle by following this link: https://www.kaggle.com/datasets/sudalairajkumar/novel-corona-virus-2019-dataset and creating a free user account. You then need to move the \"covid_19_data.csv\" file into this folder. This dataset is a WHO dataset, compiling worldwide statitics related to cases of Covid-19 around the globe."
   ]
  },
  {
   "cell_type": "code",
   "execution_count": 36,
   "metadata": {},
   "outputs": [],
   "source": [
    "! pip install polars\n",
    "! pip install bastionlab"
   ]
  },
  {
   "attachments": {},
   "cell_type": "markdown",
   "metadata": {},
   "source": [
    "## Getting set-up\n"
   ]
  },
  {
   "attachments": {},
   "cell_type": "markdown",
   "metadata": {},
   "source": [
    "Next, we'll install and launch the server. For testing purposes, BastionLab server has been packaged as a pip wheel. In this tutorial, we will use this package to quickly set up a test server."
   ]
  },
  {
   "cell_type": "code",
   "execution_count": 37,
   "metadata": {},
   "outputs": [],
   "source": [
    "!pip install bastionlab_server"
   ]
  },
  {
   "attachments": {},
   "cell_type": "markdown",
   "metadata": {},
   "source": [
    "The server exposes port 50056 for gRPC communication with clients and uses a default configuration (no authentication, default settings). For the purpose of this Tour, these settings are sufficient and we won't change them.\n",
    "\n",
    "To run the server, we use the utility function provided by the bastionlab_server package."
   ]
  },
  {
   "cell_type": "code",
   "execution_count": null,
   "metadata": {},
   "outputs": [],
   "source": [
    "import bastionlab_server\n",
    "\n",
    "srv = bastionlab_server.start()"
   ]
  },
  {
   "attachments": {},
   "cell_type": "markdown",
   "metadata": {},
   "source": [
    "Now that's all done, we can finally connect to our server, send over our CSV file and start analysing our data!\n",
    "\n",
    "Firstly, we read in the dataset using Polar's read_csv() function, which returns a Polar's DataFrame instance containing the dataset.\n",
    "Secondly, we connect to the server using Bastionlab's Connection() method."
   ]
  },
  {
   "cell_type": "code",
   "execution_count": 38,
   "metadata": {},
   "outputs": [],
   "source": [
    "from bastionlab import Connection\n",
    "import polars as pl\n",
    "\n",
    "df = pl.read_csv(\"covid_19_data.csv\")\n",
    "\n",
    "connection = Connection(\"localhost\", 50056)"
   ]
  },
  {
   "attachments": {},
   "cell_type": "markdown",
   "metadata": {},
   "source": [
    "Finally, we send the Polar's DataFrame instance to the server using Bastionlab's send_df() method which will return a RemoteLazyFrame instance, a reference to the DataFrame uploaded which we will be working with throughout this tutorial. For the sake of this tutorial, we specify an unsafe policy which disables the need for the data owner to approve any requests that don't pass our data safety rules. This is purely done so that we can focus on demonstrating data cleaning and analysis in BastionLab without having to worry about approving any data access requests.\n",
    "\n",
    "We then create a custom policy which disables all data request/query checks. We do this creating a policy where the `safe_zone` parameter to `TrueRule()` to allow all requests. In this case, the `unsafe_handling` parameter can be anything (as there are no unsafe requests), we set it to `Log()` in the following example. Note that this is purely done so that we can focus on demonstrating our visualization functions in this tutorial, but this policy is not suited for production."
   ]
  },
  {
   "cell_type": "code",
   "execution_count": 39,
   "metadata": {},
   "outputs": [],
   "source": [
    "from bastionlab.polars.policy import Policy, TrueRule, Log\n",
    "\n",
    "policy = Policy(safe_zone=TrueRule(), unsafe_handling=Log())\n",
    "rdf = connection.client.polars.send_df(df, policy=policy)"
   ]
  },
  {
   "cell_type": "markdown",
   "metadata": {},
   "source": [
    "We can now see the list of column names in the dataset by using RemoteDataFrame's columns() method."
   ]
  },
  {
   "cell_type": "code",
   "execution_count": 40,
   "metadata": {},
   "outputs": [
    {
     "data": {
      "text/plain": [
       "['SNo',\n",
       " 'ObservationDate',\n",
       " 'Province/State',\n",
       " 'Country/Region',\n",
       " 'Last Update',\n",
       " 'Confirmed',\n",
       " 'Deaths',\n",
       " 'Recovered']"
      ]
     },
     "execution_count": 40,
     "metadata": {},
     "output_type": "execute_result"
    }
   ],
   "source": [
    "rdf.columns"
   ]
  },
  {
   "attachments": {},
   "cell_type": "markdown",
   "metadata": {},
   "source": [
    "# Data cleaning: Null values\n",
    "\n",
    "Firstly, we want to see where we might have problems with missing values in our dataset, so we will calculate what percentage of values are missing from each column by taking the sum of is_null() values in each column, multiplying them by 100 and dividing them by the total rows of that same column.\n",
    "\n",
    "In order to make this tutorial easier to follow, we will print out the results of our query using the .collect() and .fetch() methods necessary to transform the RemoteLazyFrame instance to a readable dataset. This would ordinarily require the request to be confirmed by the dataset owner, but in this case, we have disabled the data access approval feature."
   ]
  },
  {
   "cell_type": "code",
   "execution_count": 41,
   "metadata": {},
   "outputs": [
    {
     "data": {
      "text/html": [
       "<div>\n",
       "<style scoped>\n",
       "    .dataframe tbody tr th:only-of-type {\n",
       "        vertical-align: middle;\n",
       "    }\n",
       "\n",
       "    .dataframe tbody tr th {\n",
       "        vertical-align: top;\n",
       "    }\n",
       "\n",
       "    .dataframe thead th {\n",
       "        text-align: right;\n",
       "    }\n",
       "\n",
       "    .dataframe td {\n",
       "        white-space: pre;\n",
       "    }\n",
       "\n",
       "    .dataframe td {\n",
       "        padding-top: 0;\n",
       "    }\n",
       "\n",
       "    .dataframe td {\n",
       "        padding-bottom: 0;\n",
       "    }\n",
       "</style>\n",
       "<table border=\"1\" class=\"dataframe\" >\n",
       "<small>shape: (1, 8)</small>\n",
       "<thead>\n",
       "<tr>\n",
       "<th>\n",
       "SNo\n",
       "</th>\n",
       "<th>\n",
       "ObservationDate\n",
       "</th>\n",
       "<th>\n",
       "Province/State\n",
       "</th>\n",
       "<th>\n",
       "Country/Region\n",
       "</th>\n",
       "<th>\n",
       "Last Update\n",
       "</th>\n",
       "<th>\n",
       "Confirmed\n",
       "</th>\n",
       "<th>\n",
       "Deaths\n",
       "</th>\n",
       "<th>\n",
       "Recovered\n",
       "</th>\n",
       "</tr>\n",
       "<tr>\n",
       "<td>\n",
       "f64\n",
       "</td>\n",
       "<td>\n",
       "f64\n",
       "</td>\n",
       "<td>\n",
       "f64\n",
       "</td>\n",
       "<td>\n",
       "f64\n",
       "</td>\n",
       "<td>\n",
       "f64\n",
       "</td>\n",
       "<td>\n",
       "f64\n",
       "</td>\n",
       "<td>\n",
       "f64\n",
       "</td>\n",
       "<td>\n",
       "f64\n",
       "</td>\n",
       "</tr>\n",
       "</thead>\n",
       "<tbody>\n",
       "<tr>\n",
       "<td>\n",
       "0.0\n",
       "</td>\n",
       "<td>\n",
       "0.0\n",
       "</td>\n",
       "<td>\n",
       "25.487144\n",
       "</td>\n",
       "<td>\n",
       "0.0\n",
       "</td>\n",
       "<td>\n",
       "0.0\n",
       "</td>\n",
       "<td>\n",
       "0.0\n",
       "</td>\n",
       "<td>\n",
       "0.0\n",
       "</td>\n",
       "<td>\n",
       "0.0\n",
       "</td>\n",
       "</tr>\n",
       "</tbody>\n",
       "</table>\n",
       "</div>"
      ],
      "text/plain": [
       "shape: (1, 8)\n",
       "┌─────┬───────────────┬──────────────┬──────────────┬─────────────┬───────────┬────────┬───────────┐\n",
       "│ SNo ┆ ObservationDa ┆ Province/Sta ┆ Country/Regi ┆ Last Update ┆ Confirmed ┆ Deaths ┆ Recovered │\n",
       "│ --- ┆ te            ┆ te           ┆ on           ┆ ---         ┆ ---       ┆ ---    ┆ ---       │\n",
       "│ f64 ┆ ---           ┆ ---          ┆ ---          ┆ f64         ┆ f64       ┆ f64    ┆ f64       │\n",
       "│     ┆ f64           ┆ f64          ┆ f64          ┆             ┆           ┆        ┆           │\n",
       "╞═════╪═══════════════╪══════════════╪══════════════╪═════════════╪═══════════╪════════╪═══════════╡\n",
       "│ 0.0 ┆ 0.0           ┆ 25.487144    ┆ 0.0          ┆ 0.0         ┆ 0.0       ┆ 0.0    ┆ 0.0       │\n",
       "└─────┴───────────────┴──────────────┴──────────────┴─────────────┴───────────┴────────┴───────────┘"
      ]
     },
     "execution_count": 41,
     "metadata": {},
     "output_type": "execute_result"
    }
   ],
   "source": [
    "percent_missing = rdf.select(\n",
    "    pl.col(x).is_null().sum() * 100 / pl.col(x).count() for x in rdf.columns\n",
    ")\n",
    "percent_missing.collect().fetch()"
   ]
  },
  {
   "attachments": {},
   "cell_type": "markdown",
   "metadata": {},
   "source": [
    "We can see that there are quite a lot of null values in the Province/State column. Let's change these null values to \"Uknown\" by selecting the column 'Province/State' and using the fill_null() method to fill null values with a value of our choice- \"Unknown\" in this case.\n",
    "\n",
    "To check this has worked, we can output the total sum of null values in the 'Province/State' column- we can see this is now 0."
   ]
  },
  {
   "cell_type": "code",
   "execution_count": 42,
   "metadata": {},
   "outputs": [
    {
     "data": {
      "text/html": [
       "<div>\n",
       "<style scoped>\n",
       "    .dataframe tbody tr th:only-of-type {\n",
       "        vertical-align: middle;\n",
       "    }\n",
       "\n",
       "    .dataframe tbody tr th {\n",
       "        vertical-align: top;\n",
       "    }\n",
       "\n",
       "    .dataframe thead th {\n",
       "        text-align: right;\n",
       "    }\n",
       "\n",
       "    .dataframe td {\n",
       "        white-space: pre;\n",
       "    }\n",
       "\n",
       "    .dataframe td {\n",
       "        padding-top: 0;\n",
       "    }\n",
       "\n",
       "    .dataframe td {\n",
       "        padding-bottom: 0;\n",
       "    }\n",
       "</style>\n",
       "<table border=\"1\" class=\"dataframe\" >\n",
       "<small>shape: (1, 1)</small>\n",
       "<thead>\n",
       "<tr>\n",
       "<th>\n",
       "Province/State\n",
       "</th>\n",
       "</tr>\n",
       "<tr>\n",
       "<td>\n",
       "u32\n",
       "</td>\n",
       "</tr>\n",
       "</thead>\n",
       "<tbody>\n",
       "<tr>\n",
       "<td>\n",
       "0\n",
       "</td>\n",
       "</tr>\n",
       "</tbody>\n",
       "</table>\n",
       "</div>"
      ],
      "text/plain": [
       "shape: (1, 1)\n",
       "┌────────────────┐\n",
       "│ Province/State │\n",
       "│ ---            │\n",
       "│ u32            │\n",
       "╞════════════════╡\n",
       "│ 0              │\n",
       "└────────────────┘"
      ]
     },
     "execution_count": 42,
     "metadata": {},
     "output_type": "execute_result"
    }
   ],
   "source": [
    "rdf = rdf.with_column(pl.col(\"Province/State\")).fill_null(\"Unknown\")\n",
    "total_nulls = rdf.select(pl.col(\"Province/State\").is_null().sum())\n",
    "total_nulls.collect().fetch()"
   ]
  },
  {
   "attachments": {},
   "cell_type": "markdown",
   "metadata": {},
   "source": [
    "# Data cleaning: Column dtypes\n",
    "Next, we want to check if the column dtypes are the best fit for our dataset. We can list the dtypes by printing out the schema attribute on our RemoteLazyFrame which outputs all column names and dtypes. "
   ]
  },
  {
   "cell_type": "code",
   "execution_count": 43,
   "metadata": {},
   "outputs": [
    {
     "data": {
      "text/plain": [
       "{'SNo': polars.datatypes.Int64,\n",
       " 'ObservationDate': polars.datatypes.Utf8,\n",
       " 'Province/State': polars.datatypes.Utf8,\n",
       " 'Country/Region': polars.datatypes.Utf8,\n",
       " 'Last Update': polars.datatypes.Utf8,\n",
       " 'Confirmed': polars.datatypes.Float64,\n",
       " 'Deaths': polars.datatypes.Float64,\n",
       " 'Recovered': polars.datatypes.Float64}"
      ]
     },
     "execution_count": 43,
     "metadata": {},
     "output_type": "execute_result"
    }
   ],
   "source": [
    "rdf.schema"
   ]
  },
  {
   "attachments": {},
   "cell_type": "markdown",
   "metadata": {},
   "source": [
    "We can see that the dtype of the 'Confirmed', 'Deaths' and 'Recovered' columns is f64. We can change this to Int64 using the .cast(pl.Int64) method as we should only have integer values in these columns. We combine this with the with_columns() method to place these new columns into our RemoteLazyFrame, effectively replacing the old ones.\n",
    "\n",
    "We will also convert the 'ObservationDate' column to a pl.Date type so that we can more easily run queries against the months, days and years within the date. To do this, I need to specify the format the dates are written in. This will therefore not work if you have dates in mixed formats, in which case, you would need to clean up the data before calling this function.\n",
    "\n",
    "Finally, we will drop the 'Last Update' column as we won't be needing it for the purposes of this tutorial and because this column contains a mix of date formats which can take time to clean and our beyong the scope of this tutorial. However, feel free to get in touch and let us know if you'd like to see a tutorial on this topic, or any other, via our Discord community!"
   ]
  },
  {
   "cell_type": "code",
   "execution_count": 44,
   "metadata": {},
   "outputs": [
    {
     "data": {
      "text/plain": [
       "{'SNo': polars.datatypes.Int64,\n",
       " 'ObservationDate': polars.datatypes.Date,\n",
       " 'Province/State': polars.datatypes.Utf8,\n",
       " 'Country/Region': polars.datatypes.Utf8,\n",
       " 'Confirmed': polars.datatypes.Int64,\n",
       " 'Deaths': polars.datatypes.Int64,\n",
       " 'Recovered': polars.datatypes.Int64}"
      ]
     },
     "execution_count": 44,
     "metadata": {},
     "output_type": "execute_result"
    }
   ],
   "source": [
    "rdf = rdf.with_columns(\n",
    "    pl.col(x).cast(pl.Int64, strict=True) for x in [\"Confirmed\", \"Deaths\", \"Recovered\"]\n",
    ")\n",
    "rdf = rdf.with_column(\n",
    "    pl.col(\"ObservationDate\").str.strptime(pl.Date, fmt=\"%m/%d/%Y\", strict=False)\n",
    ")\n",
    "rdf = rdf.drop(\"Last Update\")\n",
    "rdf.schema"
   ]
  },
  {
   "cell_type": "markdown",
   "metadata": {},
   "source": [
    "As you can see our changes have been taken into account as expected."
   ]
  },
  {
   "attachments": {},
   "cell_type": "markdown",
   "metadata": {},
   "source": [
    "## Replacing alternative labels with one unique label\n",
    "\n",
    "By quickly looking over the .csv file, we can also see that we have both \"China\" and \"Mainland China\" values in the Country/Region column. We want to group all these values under one label, \"China\". We can do this using the .when.then.otherwise() methods.\n",
    "\n",
    "To check this has worked, we can print out the sum of unique values in the Country/region column before and after this change. We can see it reduces by one after we replace \"Mainland China\" values with \"China\"."
   ]
  },
  {
   "cell_type": "code",
   "execution_count": 45,
   "metadata": {},
   "outputs": [
    {
     "name": "stdout",
     "output_type": "stream",
     "text": [
      "shape: (1, 1)\n",
      "┌────────────────┐\n",
      "│ Country/Region │\n",
      "│ ---            │\n",
      "│ u32            │\n",
      "╞════════════════╡\n",
      "│ 229            │\n",
      "└────────────────┘\n",
      "shape: (1, 1)\n",
      "┌────────────────┐\n",
      "│ Country/Region │\n",
      "│ ---            │\n",
      "│ u32            │\n",
      "╞════════════════╡\n",
      "│ 228            │\n",
      "└────────────────┘\n"
     ]
    }
   ],
   "source": [
    "test = (\n",
    "    rdf.select(pl.col(\"Country/Region\"))\n",
    "    .unique()\n",
    "    .select(pl.col(\"Country/Region\").count())\n",
    ")\n",
    "print(test.collect().fetch())\n",
    "\n",
    "rdf = rdf.with_column(\n",
    "    pl.when(pl.col(\"Country/Region\") == \"Mainland China\")\n",
    "    .then(\"China\")\n",
    "    .otherwise(pl.col(\"Country/Region\"))\n",
    "    .alias(\"Country/Region\")\n",
    ")\n",
    "\n",
    "test = (\n",
    "    rdf.select(pl.col(\"Country/Region\"))\n",
    "    .unique()\n",
    "    .select(pl.col(\"Country/Region\").count())\n",
    ")\n",
    "print(test.collect().fetch())"
   ]
  },
  {
   "attachments": {},
   "cell_type": "markdown",
   "metadata": {},
   "source": [
    "## Adding new columns\n",
    "\n",
    "We also want to add a new column \"Active_cases\", which will be calculated as following: Confirmed - Deaths - Recovered. We can do this, again, using the with_column method with the .when.then.otherwise() methods.\n"
   ]
  },
  {
   "cell_type": "code",
   "execution_count": 46,
   "metadata": {},
   "outputs": [
    {
     "data": {
      "text/plain": [
       "{'SNo': polars.datatypes.Int64,\n",
       " 'ObservationDate': polars.datatypes.Date,\n",
       " 'Province/State': polars.datatypes.Utf8,\n",
       " 'Country/Region': polars.datatypes.Utf8,\n",
       " 'Confirmed': polars.datatypes.Int64,\n",
       " 'Deaths': polars.datatypes.Int64,\n",
       " 'Recovered': polars.datatypes.Int64,\n",
       " 'Active_cases': polars.datatypes.Int64}"
      ]
     },
     "execution_count": 46,
     "metadata": {},
     "output_type": "execute_result"
    }
   ],
   "source": [
    "rdf = rdf.with_column(\n",
    "    (pl.col(\"Confirmed\") - pl.col(\"Deaths\") - pl.col(\"Recovered\")).alias(\"Active_cases\")\n",
    ")\n",
    "rdf.schema"
   ]
  },
  {
   "attachments": {},
   "cell_type": "markdown",
   "metadata": {},
   "source": [
    "## Data Analysis\n",
    "\n",
    "So now the dataset has been cleaned and prepared, let's start to analyse the data. let's run a query to get the total of confirmed cases, deaths, number of people recovered and active cases worldwide. For the sake of simplicity, we will only look at the latest data provided by countries on the most recent observation date. A small number of countries did not submit obersvations on this day and will therefore not be included in these results, but the data is sufficent for the sake of this tutorial.\n",
    "\n",
    "We can display the results by using the .collect() and .fetch() in combination to get a printable version of our dataframe.\n",
    "\n",
    "With default or stricter privacy policies, when you want to .collect().fetch() a RemoteLazyFrame, the query will be screened to check that data is sufficiently anonymous and if this is not the case, data access approval from the data owner will be needed.\n",
    "\n",
    "In our case, this query does not pose a data privacy risk because we are extracting the results of an aggregated query which does not reveal any specific data relating to an individual- but in any case, we have disabled this feature for this tutorial."
   ]
  },
  {
   "cell_type": "code",
   "execution_count": 47,
   "metadata": {},
   "outputs": [
    {
     "data": {
      "text/html": [
       "<div>\n",
       "<style scoped>\n",
       "    .dataframe tbody tr th:only-of-type {\n",
       "        vertical-align: middle;\n",
       "    }\n",
       "\n",
       "    .dataframe tbody tr th {\n",
       "        vertical-align: top;\n",
       "    }\n",
       "\n",
       "    .dataframe thead th {\n",
       "        text-align: right;\n",
       "    }\n",
       "\n",
       "    .dataframe td {\n",
       "        white-space: pre;\n",
       "    }\n",
       "\n",
       "    .dataframe td {\n",
       "        padding-top: 0;\n",
       "    }\n",
       "\n",
       "    .dataframe td {\n",
       "        padding-bottom: 0;\n",
       "    }\n",
       "</style>\n",
       "<table border=\"1\" class=\"dataframe\" >\n",
       "<small>shape: (1, 4)</small>\n",
       "<thead>\n",
       "<tr>\n",
       "<th>\n",
       "Deaths\n",
       "</th>\n",
       "<th>\n",
       "Confirmed\n",
       "</th>\n",
       "<th>\n",
       "Recovered\n",
       "</th>\n",
       "<th>\n",
       "Active_cases\n",
       "</th>\n",
       "</tr>\n",
       "<tr>\n",
       "<td>\n",
       "i64\n",
       "</td>\n",
       "<td>\n",
       "i64\n",
       "</td>\n",
       "<td>\n",
       "i64\n",
       "</td>\n",
       "<td>\n",
       "i64\n",
       "</td>\n",
       "</tr>\n",
       "</thead>\n",
       "<tbody>\n",
       "<tr>\n",
       "<td>\n",
       "3523117\n",
       "</td>\n",
       "<td>\n",
       "169470725\n",
       "</td>\n",
       "<td>\n",
       "106633069\n",
       "</td>\n",
       "<td>\n",
       "59314539\n",
       "</td>\n",
       "</tr>\n",
       "</tbody>\n",
       "</table>\n",
       "</div>"
      ],
      "text/plain": [
       "shape: (1, 4)\n",
       "┌─────────┬───────────┬───────────┬──────────────┐\n",
       "│ Deaths  ┆ Confirmed ┆ Recovered ┆ Active_cases │\n",
       "│ ---     ┆ ---       ┆ ---       ┆ ---          │\n",
       "│ i64     ┆ i64       ┆ i64       ┆ i64          │\n",
       "╞═════════╪═══════════╪═══════════╪══════════════╡\n",
       "│ 3523117 ┆ 169470725 ┆ 106633069 ┆ 59314539     │\n",
       "└─────────┴───────────┴───────────┴──────────────┘"
      ]
     },
     "execution_count": 47,
     "metadata": {},
     "output_type": "execute_result"
    }
   ],
   "source": [
    "from datetime import date\n",
    "\n",
    "latest_date = date(2021, 5, 28)  # create DateTime value: 2021-05-28\n",
    "cols = [\"Deaths\", \"Confirmed\", \"Recovered\", \"Active_cases\"]\n",
    "\n",
    "total = rdf.filter(\n",
    "    pl.col(\"ObservationDate\") == latest_date\n",
    ").select(  # limit to data shared on this observation date\n",
    "    [pl.col(x).sum() for x in cols]\n",
    ")  # get the sum of values shared on this date for each category in cols\n",
    "total.collect().fetch()"
   ]
  },
  {
   "attachments": {},
   "cell_type": "markdown",
   "metadata": {},
   "source": [
    "Let's now take a look at the top 10 countries in terms of confirmed Covid cases in the dataset. To do this, we can run a similar query to the previous one but will group the data by country before summing the values for each catgeory on the selected date.\n",
    "\n",
    "We then limit this dataframe to the highest ten results and collect().fetch() the results."
   ]
  },
  {
   "cell_type": "code",
   "execution_count": 48,
   "metadata": {},
   "outputs": [
    {
     "data": {
      "text/html": [
       "<div>\n",
       "<style scoped>\n",
       "    .dataframe tbody tr th:only-of-type {\n",
       "        vertical-align: middle;\n",
       "    }\n",
       "\n",
       "    .dataframe tbody tr th {\n",
       "        vertical-align: top;\n",
       "    }\n",
       "\n",
       "    .dataframe thead th {\n",
       "        text-align: right;\n",
       "    }\n",
       "\n",
       "    .dataframe td {\n",
       "        white-space: pre;\n",
       "    }\n",
       "\n",
       "    .dataframe td {\n",
       "        padding-top: 0;\n",
       "    }\n",
       "\n",
       "    .dataframe td {\n",
       "        padding-bottom: 0;\n",
       "    }\n",
       "</style>\n",
       "<table border=\"1\" class=\"dataframe\" >\n",
       "<small>shape: (10, 2)</small>\n",
       "<thead>\n",
       "<tr>\n",
       "<th>\n",
       "Country/Region\n",
       "</th>\n",
       "<th>\n",
       "Confirmed\n",
       "</th>\n",
       "</tr>\n",
       "<tr>\n",
       "<td>\n",
       "str\n",
       "</td>\n",
       "<td>\n",
       "i64\n",
       "</td>\n",
       "</tr>\n",
       "</thead>\n",
       "<tbody>\n",
       "<tr>\n",
       "<td>\n",
       "&quot;US&quot;\n",
       "</td>\n",
       "<td>\n",
       "33239963\n",
       "</td>\n",
       "</tr>\n",
       "<tr>\n",
       "<td>\n",
       "&quot;India&quot;\n",
       "</td>\n",
       "<td>\n",
       "27729247\n",
       "</td>\n",
       "</tr>\n",
       "<tr>\n",
       "<td>\n",
       "&quot;Brazil&quot;\n",
       "</td>\n",
       "<td>\n",
       "16391930\n",
       "</td>\n",
       "</tr>\n",
       "<tr>\n",
       "<td>\n",
       "&quot;France&quot;\n",
       "</td>\n",
       "<td>\n",
       "5708350\n",
       "</td>\n",
       "</tr>\n",
       "<tr>\n",
       "<td>\n",
       "&quot;Turkey&quot;\n",
       "</td>\n",
       "<td>\n",
       "5228322\n",
       "</td>\n",
       "</tr>\n",
       "<tr>\n",
       "<td>\n",
       "&quot;Russia&quot;\n",
       "</td>\n",
       "<td>\n",
       "4986458\n",
       "</td>\n",
       "</tr>\n",
       "<tr>\n",
       "<td>\n",
       "&quot;UK&quot;\n",
       "</td>\n",
       "<td>\n",
       "4493582\n",
       "</td>\n",
       "</tr>\n",
       "<tr>\n",
       "<td>\n",
       "&quot;Italy&quot;\n",
       "</td>\n",
       "<td>\n",
       "4209707\n",
       "</td>\n",
       "</tr>\n",
       "<tr>\n",
       "<td>\n",
       "&quot;Argentina&quot;\n",
       "</td>\n",
       "<td>\n",
       "3702422\n",
       "</td>\n",
       "</tr>\n",
       "<tr>\n",
       "<td>\n",
       "&quot;Germany&quot;\n",
       "</td>\n",
       "<td>\n",
       "3680159\n",
       "</td>\n",
       "</tr>\n",
       "</tbody>\n",
       "</table>\n",
       "</div>"
      ],
      "text/plain": [
       "shape: (10, 2)\n",
       "┌────────────────┬───────────┐\n",
       "│ Country/Region ┆ Confirmed │\n",
       "│ ---            ┆ ---       │\n",
       "│ str            ┆ i64       │\n",
       "╞════════════════╪═══════════╡\n",
       "│ US             ┆ 33239963  │\n",
       "├╌╌╌╌╌╌╌╌╌╌╌╌╌╌╌╌┼╌╌╌╌╌╌╌╌╌╌╌┤\n",
       "│ India          ┆ 27729247  │\n",
       "├╌╌╌╌╌╌╌╌╌╌╌╌╌╌╌╌┼╌╌╌╌╌╌╌╌╌╌╌┤\n",
       "│ Brazil         ┆ 16391930  │\n",
       "├╌╌╌╌╌╌╌╌╌╌╌╌╌╌╌╌┼╌╌╌╌╌╌╌╌╌╌╌┤\n",
       "│ France         ┆ 5708350   │\n",
       "├╌╌╌╌╌╌╌╌╌╌╌╌╌╌╌╌┼╌╌╌╌╌╌╌╌╌╌╌┤\n",
       "│ Turkey         ┆ 5228322   │\n",
       "├╌╌╌╌╌╌╌╌╌╌╌╌╌╌╌╌┼╌╌╌╌╌╌╌╌╌╌╌┤\n",
       "│ Russia         ┆ 4986458   │\n",
       "├╌╌╌╌╌╌╌╌╌╌╌╌╌╌╌╌┼╌╌╌╌╌╌╌╌╌╌╌┤\n",
       "│ UK             ┆ 4493582   │\n",
       "├╌╌╌╌╌╌╌╌╌╌╌╌╌╌╌╌┼╌╌╌╌╌╌╌╌╌╌╌┤\n",
       "│ Italy          ┆ 4209707   │\n",
       "├╌╌╌╌╌╌╌╌╌╌╌╌╌╌╌╌┼╌╌╌╌╌╌╌╌╌╌╌┤\n",
       "│ Argentina      ┆ 3702422   │\n",
       "├╌╌╌╌╌╌╌╌╌╌╌╌╌╌╌╌┼╌╌╌╌╌╌╌╌╌╌╌┤\n",
       "│ Germany        ┆ 3680159   │\n",
       "└────────────────┴───────────┘"
      ]
     },
     "execution_count": 48,
     "metadata": {},
     "output_type": "execute_result"
    }
   ],
   "source": [
    "all_cols = [\"Deaths\", \"Confirmed\", \"Recovered\", \"Active_cases\", \"Country/Region\"]\n",
    "agg_cols = [\"Deaths\", \"Confirmed\", \"Recovered\", \"Active_cases\"]\n",
    "\n",
    "by_country = (\n",
    "    rdf.filter(\n",
    "        pl.col(\"ObservationDate\") == latest_date\n",
    "    )  # limit to data shared on this observation date\n",
    "    .select([pl.col(x) for x in all_cols])  # limit data to columns in all_cols list\n",
    "    .groupby(pl.col(\"Country/Region\"))  # group data by country\n",
    "    .agg(\n",
    "        [pl.col(x).sum() for x in agg_cols]\n",
    "    )  # get the sum of values shared by each country on this date for each category in agg_cols\n",
    ")\n",
    "\n",
    "top_10 = (\n",
    "    by_country.select([pl.col(\"Country/Region\"), pl.col(\"Confirmed\")])\n",
    "    .sort(pl.col(\"Confirmed\"), reverse=True)\n",
    "    .limit(10)\n",
    ")\n",
    "top_10.collect().fetch()"
   ]
  },
  {
   "attachments": {},
   "cell_type": "markdown",
   "metadata": {},
   "source": [
    "## Barplot visualizations\n",
    "\n",
    "We can now easily visualize out top_10 RemoteLazyFrame this using the `barplot` function.\n",
    "\n",
    "We then simply supply the x and y columns as arguments to the barplot() function to get our bar chart visualization.\n",
    "\n",
    "I then use matplotlib pyplot's `xticks` function to rotate the x axes labels by 60 degrees to avoid them overlapping."
   ]
  },
  {
   "cell_type": "code",
   "execution_count": 49,
   "metadata": {},
   "outputs": [
    {
     "data": {
      "image/png": "[encoded data removed]",
      "text/plain": [
       "<Figure size 640x480 with 1 Axes>"
      ]
     },
     "metadata": {},
     "output_type": "display_data"
    }
   ],
   "source": [
    "top_10.barplot(y=\"Confirmed\", x=\"Country/Region\")\n",
    "\n",
    "import matplotlib.pyplot as plt\n",
    "\n",
    "plt.xticks(rotation=60)\n",
    "plt.show()"
   ]
  },
  {
   "attachments": {},
   "cell_type": "markdown",
   "metadata": {},
   "source": [
    "Next, we can have a look at the evolution of confirmed covid cases in a specific country over a specific time frame. Let's take the UK cases in 2020 as our example this time."
   ]
  },
  {
   "cell_type": "code",
   "execution_count": 71,
   "metadata": {},
   "outputs": [
    {
     "data": {
      "image/png": "[encoded data removed]",
      "text/plain": [
       "<Figure size 640x480 with 1 Axes>"
      ]
     },
     "metadata": {},
     "output_type": "display_data"
    }
   ],
   "source": [
    "# get UK 2020 only dataframe and group by month\n",
    "UK = (\n",
    "    rdf.filter(\n",
    "        (pl.col(\"Country/Region\") == \"UK\")\n",
    "        & (pl.col(\"ObservationDate\").dt.year() == 2020)\n",
    "    )\n",
    "    .groupby(pl.col(\"ObservationDate\").dt.month())\n",
    "    .agg(pl.col(\"Confirmed\").sum())\n",
    "    .sort(pl.col(\"ObservationDate\"))\n",
    ")\n",
    "\n",
    "UK.barplot(x=\"ObservationDate\", y=\"Confirmed\")\n",
    "# set x and y labels\n",
    "plt.ylabel(\"Confirmed cases\")\n",
    "plt.xlabel(\"Month in 2020\")\n",
    "\n",
    "# Set x axis labels and totates X-Axis labels by 90 degrees\n",
    "plt.xticks(\n",
    "    [0, 1, 2, 3, 4, 5, 6, 7, 8, 9, 10, 11],\n",
    "    [\n",
    "        \"Jan\",\n",
    "        \"Feb\",\n",
    "        \"Mar\",\n",
    "        \"Apr\",\n",
    "        \"May\",\n",
    "        \"Jun\",\n",
    "        \"Jul\",\n",
    "        \"Aug\",\n",
    "        \"Sep\",\n",
    "        \"Oct\",\n",
    "        \"Nov\",\n",
    "        \"Dec\",\n",
    "    ],\n",
    "    rotation=90,\n",
    ")\n",
    "plt.show()"
   ]
  },
  {
   "attachments": {},
   "cell_type": "markdown",
   "metadata": {},
   "source": [
    "## Pie Chart Visualizations\n",
    "\n",
    "Next, we will display patient outcomes globally as a pie chart using the `pieplot` function.\n",
    "\n",
    "However, before we call `pieplot`, we first need to do a couple of small preparation steps. Firstly, we select only deaths, recovered and active cases as these are the segments we want to include in our pie chart. And secondly, we need to flip our `total` RemoteLazyFrame from wide to long form, using Polar's `melt` function as shown below."
   ]
  },
  {
   "cell_type": "code",
   "execution_count": null,
   "metadata": {},
   "outputs": [
    {
     "data": {
      "text/html": [
       "<div>\n",
       "<style scoped>\n",
       "    .dataframe tbody tr th:only-of-type {\n",
       "        vertical-align: middle;\n",
       "    }\n",
       "\n",
       "    .dataframe tbody tr th {\n",
       "        vertical-align: top;\n",
       "    }\n",
       "\n",
       "    .dataframe thead th {\n",
       "        text-align: right;\n",
       "    }\n",
       "\n",
       "    .dataframe td {\n",
       "        white-space: pre;\n",
       "    }\n",
       "\n",
       "    .dataframe td {\n",
       "        padding-top: 0;\n",
       "    }\n",
       "\n",
       "    .dataframe td {\n",
       "        padding-bottom: 0;\n",
       "    }\n",
       "</style>\n",
       "<table border=\"1\" class=\"dataframe\" >\n",
       "<small>shape: (3, 2)</small>\n",
       "<thead>\n",
       "<tr>\n",
       "<th>\n",
       "variable\n",
       "</th>\n",
       "<th>\n",
       "value\n",
       "</th>\n",
       "</tr>\n",
       "<tr>\n",
       "<td>\n",
       "str\n",
       "</td>\n",
       "<td>\n",
       "i64\n",
       "</td>\n",
       "</tr>\n",
       "</thead>\n",
       "<tbody>\n",
       "<tr>\n",
       "<td>\n",
       "&quot;Deaths&quot;\n",
       "</td>\n",
       "<td>\n",
       "3523117\n",
       "</td>\n",
       "</tr>\n",
       "<tr>\n",
       "<td>\n",
       "&quot;Active_cases&quot;\n",
       "</td>\n",
       "<td>\n",
       "59314539\n",
       "</td>\n",
       "</tr>\n",
       "<tr>\n",
       "<td>\n",
       "&quot;Recovered&quot;\n",
       "</td>\n",
       "<td>\n",
       "106633069\n",
       "</td>\n",
       "</tr>\n",
       "</tbody>\n",
       "</table>\n",
       "</div>"
      ],
      "text/plain": [
       "shape: (3, 2)\n",
       "┌──────────────┬───────────┐\n",
       "│ variable     ┆ value     │\n",
       "│ ---          ┆ ---       │\n",
       "│ str          ┆ i64       │\n",
       "╞══════════════╪═══════════╡\n",
       "│ Deaths       ┆ 3523117   │\n",
       "├╌╌╌╌╌╌╌╌╌╌╌╌╌╌┼╌╌╌╌╌╌╌╌╌╌╌┤\n",
       "│ Active_cases ┆ 59314539  │\n",
       "├╌╌╌╌╌╌╌╌╌╌╌╌╌╌┼╌╌╌╌╌╌╌╌╌╌╌┤\n",
       "│ Recovered    ┆ 106633069 │\n",
       "└──────────────┴───────────┘"
      ]
     },
     "execution_count": 15,
     "metadata": {},
     "output_type": "execute_result"
    }
   ],
   "source": [
    "selects = [\"Deaths\", \"Active_cases\", \"Recovered\"]\n",
    "flipped = total.select(pl.col(x) for x in selects).melt()\n",
    "flipped.collect().fetch()"
   ]
  },
  {
   "attachments": {},
   "cell_type": "markdown",
   "metadata": {},
   "source": [
    "Now, that that is done, we can simply call pieplot on our `flipped` RemoteLazyFrame to get a pie chart of this data."
   ]
  },
  {
   "cell_type": "code",
   "execution_count": null,
   "metadata": {},
   "outputs": [
    {
     "data": {
      "image/png": "[encoded data removed]",
      "text/plain": [
       "<Figure size 700x400 with 1 Axes>"
      ]
     },
     "metadata": {},
     "output_type": "display_data"
    }
   ],
   "source": [
    "flipped.pieplot(\n",
    "    parts=\"value\",\n",
    "    labels=\"variable\",\n",
    "    title=\"Global Covid outcomes\",\n",
    "    key_title=\"Patient outcome\",\n",
    "    key_loc=\"lower right\",\n",
    ")"
   ]
  },
  {
   "attachments": {},
   "cell_type": "markdown",
   "metadata": {},
   "source": [
    "Now let's imagine we want to see the outcomes just for patients from France, Spain and Germany. Firstly we will filter down the by_country RemoteLazyFrame instance to only contain data relating to France, Germany and Spain and then we will collect().fetch() this dataframe."
   ]
  },
  {
   "cell_type": "code",
   "execution_count": null,
   "metadata": {},
   "outputs": [
    {
     "data": {
      "text/html": [
       "<div>\n",
       "<style scoped>\n",
       "    .dataframe tbody tr th:only-of-type {\n",
       "        vertical-align: middle;\n",
       "    }\n",
       "\n",
       "    .dataframe tbody tr th {\n",
       "        vertical-align: top;\n",
       "    }\n",
       "\n",
       "    .dataframe thead th {\n",
       "        text-align: right;\n",
       "    }\n",
       "\n",
       "    .dataframe td {\n",
       "        white-space: pre;\n",
       "    }\n",
       "\n",
       "    .dataframe td {\n",
       "        padding-top: 0;\n",
       "    }\n",
       "\n",
       "    .dataframe td {\n",
       "        padding-bottom: 0;\n",
       "    }\n",
       "</style>\n",
       "<table border=\"1\" class=\"dataframe\" >\n",
       "<small>shape: (3, 5)</small>\n",
       "<thead>\n",
       "<tr>\n",
       "<th>\n",
       "Country/Region\n",
       "</th>\n",
       "<th>\n",
       "Deaths\n",
       "</th>\n",
       "<th>\n",
       "Confirmed\n",
       "</th>\n",
       "<th>\n",
       "Recovered\n",
       "</th>\n",
       "<th>\n",
       "Active_cases\n",
       "</th>\n",
       "</tr>\n",
       "<tr>\n",
       "<td>\n",
       "str\n",
       "</td>\n",
       "<td>\n",
       "i64\n",
       "</td>\n",
       "<td>\n",
       "i64\n",
       "</td>\n",
       "<td>\n",
       "i64\n",
       "</td>\n",
       "<td>\n",
       "i64\n",
       "</td>\n",
       "</tr>\n",
       "</thead>\n",
       "<tbody>\n",
       "<tr>\n",
       "<td>\n",
       "&quot;France&quot;\n",
       "</td>\n",
       "<td>\n",
       "109452\n",
       "</td>\n",
       "<td>\n",
       "5708350\n",
       "</td>\n",
       "<td>\n",
       "390196\n",
       "</td>\n",
       "<td>\n",
       "5208702\n",
       "</td>\n",
       "</tr>\n",
       "<tr>\n",
       "<td>\n",
       "&quot;Germany&quot;\n",
       "</td>\n",
       "<td>\n",
       "88360\n",
       "</td>\n",
       "<td>\n",
       "3680159\n",
       "</td>\n",
       "<td>\n",
       "3472650\n",
       "</td>\n",
       "<td>\n",
       "119149\n",
       "</td>\n",
       "</tr>\n",
       "<tr>\n",
       "<td>\n",
       "&quot;Spain&quot;\n",
       "</td>\n",
       "<td>\n",
       "79905\n",
       "</td>\n",
       "<td>\n",
       "3668658\n",
       "</td>\n",
       "<td>\n",
       "150376\n",
       "</td>\n",
       "<td>\n",
       "3438377\n",
       "</td>\n",
       "</tr>\n",
       "</tbody>\n",
       "</table>\n",
       "</div>"
      ],
      "text/plain": [
       "shape: (3, 5)\n",
       "┌────────────────┬────────┬───────────┬───────────┬──────────────┐\n",
       "│ Country/Region ┆ Deaths ┆ Confirmed ┆ Recovered ┆ Active_cases │\n",
       "│ ---            ┆ ---    ┆ ---       ┆ ---       ┆ ---          │\n",
       "│ str            ┆ i64    ┆ i64       ┆ i64       ┆ i64          │\n",
       "╞════════════════╪════════╪═══════════╪═══════════╪══════════════╡\n",
       "│ France         ┆ 109452 ┆ 5708350   ┆ 390196    ┆ 5208702      │\n",
       "├╌╌╌╌╌╌╌╌╌╌╌╌╌╌╌╌┼╌╌╌╌╌╌╌╌┼╌╌╌╌╌╌╌╌╌╌╌┼╌╌╌╌╌╌╌╌╌╌╌┼╌╌╌╌╌╌╌╌╌╌╌╌╌╌┤\n",
       "│ Germany        ┆ 88360  ┆ 3680159   ┆ 3472650   ┆ 119149       │\n",
       "├╌╌╌╌╌╌╌╌╌╌╌╌╌╌╌╌┼╌╌╌╌╌╌╌╌┼╌╌╌╌╌╌╌╌╌╌╌┼╌╌╌╌╌╌╌╌╌╌╌┼╌╌╌╌╌╌╌╌╌╌╌╌╌╌┤\n",
       "│ Spain          ┆ 79905  ┆ 3668658   ┆ 150376    ┆ 3438377      │\n",
       "└────────────────┴────────┴───────────┴───────────┴──────────────┘"
      ]
     },
     "execution_count": 17,
     "metadata": {},
     "output_type": "execute_result"
    }
   ],
   "source": [
    "compare = by_country.filter(\n",
    "    (pl.col(\"Country/Region\") == \"France\")\n",
    "    | (pl.col(\"Country/Region\") == \"Germany\")\n",
    "    | (pl.col(\"Country/Region\") == \"Spain\")\n",
    ").sort(pl.col(\"Country/Region\"))\n",
    "compare.collect().fetch()"
   ]
  },
  {
   "attachments": {},
   "cell_type": "markdown",
   "metadata": {},
   "source": [
    "So next, we will create a figure comparing the deaths, recovered and active cases in these three countries. This example illustrates how you can work with both our pieplot function and matplotlib pyplot to modify the output you will get from this function.\n",
    "\n",
    "In this example, instead of letting the pieplot function take care of creating our axis, we create our own fig and ax variables using matplotlib pyplot's subplots function in order to create a grid with three columns, one for each of the three pieplot's we will display. \n",
    "\n",
    "We then use a for loop to iterate over each column in our grid, create the dataframe needed for each country's pie chart and send our axis indexed to the correct column to get the following output."
   ]
  },
  {
   "cell_type": "code",
   "execution_count": null,
   "metadata": {},
   "outputs": [
    {
     "data": {
      "image/png": "[encoded data removed]",
      "text/plain": [
       "<Figure size 2500x2000 with 3 Axes>"
      ]
     },
     "metadata": {},
     "output_type": "display_data"
    }
   ],
   "source": [
    "fig, ax = plt.subplots(1, 3, figsize=(25, 20))\n",
    "countries = [\"France\", \"Germany\", \"Spain\"]\n",
    "\n",
    "count = 0\n",
    "for i in range(3):\n",
    "    pie = (\n",
    "        compare.filter(pl.col(\"Country/Region\") == countries[i])\n",
    "        .select(pl.col(x) for x in [\"Deaths\", \"Recovered\", \"Active_cases\"])\n",
    "        .melt()\n",
    "    )\n",
    "    pie.pieplot(\n",
    "        parts=\"value\",\n",
    "        labels=[\"Deceased\", \"Recovered\", \"ongoing cases\"],\n",
    "        title=\"Global Covid outcomes in \" + countries[i],\n",
    "        key=False,\n",
    "        ax=ax[i],\n",
    "    )\n",
    "plt.show()"
   ]
  },
  {
   "attachments": {},
   "cell_type": "markdown",
   "metadata": {},
   "source": [
    "Let's now take a look at confirmed cases by Province/State in Belgium. We will create a fresh RemoteLazyFrame instance based on the original dataset to do this. We will first filter the data down to data released by Belgium on the latest ObservationDate and then group data this time by Province/State before collecting the sum of confirmed cases."
   ]
  },
  {
   "cell_type": "code",
   "execution_count": null,
   "metadata": {},
   "outputs": [
    {
     "data": {
      "text/html": [
       "<div>\n",
       "<style scoped>\n",
       "    .dataframe tbody tr th:only-of-type {\n",
       "        vertical-align: middle;\n",
       "    }\n",
       "\n",
       "    .dataframe tbody tr th {\n",
       "        vertical-align: top;\n",
       "    }\n",
       "\n",
       "    .dataframe thead th {\n",
       "        text-align: right;\n",
       "    }\n",
       "\n",
       "    .dataframe td {\n",
       "        white-space: pre;\n",
       "    }\n",
       "\n",
       "    .dataframe td {\n",
       "        padding-top: 0;\n",
       "    }\n",
       "\n",
       "    .dataframe td {\n",
       "        padding-bottom: 0;\n",
       "    }\n",
       "</style>\n",
       "<table border=\"1\" class=\"dataframe\" >\n",
       "<small>shape: (12, 2)</small>\n",
       "<thead>\n",
       "<tr>\n",
       "<th>\n",
       "Province/State\n",
       "</th>\n",
       "<th>\n",
       "Confirmed\n",
       "</th>\n",
       "</tr>\n",
       "<tr>\n",
       "<td>\n",
       "str\n",
       "</td>\n",
       "<td>\n",
       "i64\n",
       "</td>\n",
       "</tr>\n",
       "</thead>\n",
       "<tbody>\n",
       "<tr>\n",
       "<td>\n",
       "&quot;Flemish Braban...\n",
       "</td>\n",
       "<td>\n",
       "80513\n",
       "</td>\n",
       "</tr>\n",
       "<tr>\n",
       "<td>\n",
       "&quot;West Flanders&quot;\n",
       "</td>\n",
       "<td>\n",
       "95532\n",
       "</td>\n",
       "</tr>\n",
       "<tr>\n",
       "<td>\n",
       "&quot;East Flanders&quot;\n",
       "</td>\n",
       "<td>\n",
       "121450\n",
       "</td>\n",
       "</tr>\n",
       "<tr>\n",
       "<td>\n",
       "&quot;Hainaut&quot;\n",
       "</td>\n",
       "<td>\n",
       "156176\n",
       "</td>\n",
       "</tr>\n",
       "<tr>\n",
       "<td>\n",
       "&quot;Luxembourg&quot;\n",
       "</td>\n",
       "<td>\n",
       "30816\n",
       "</td>\n",
       "</tr>\n",
       "<tr>\n",
       "<td>\n",
       "&quot;Walloon Braban...\n",
       "</td>\n",
       "<td>\n",
       "40499\n",
       "</td>\n",
       "</tr>\n",
       "<tr>\n",
       "<td>\n",
       "&quot;Unknown&quot;\n",
       "</td>\n",
       "<td>\n",
       "20183\n",
       "</td>\n",
       "</tr>\n",
       "<tr>\n",
       "<td>\n",
       "&quot;Brussels&quot;\n",
       "</td>\n",
       "<td>\n",
       "129836\n",
       "</td>\n",
       "</tr>\n",
       "<tr>\n",
       "<td>\n",
       "&quot;Namur&quot;\n",
       "</td>\n",
       "<td>\n",
       "58466\n",
       "</td>\n",
       "</tr>\n",
       "<tr>\n",
       "<td>\n",
       "&quot;Antwerp&quot;\n",
       "</td>\n",
       "<td>\n",
       "137033\n",
       "</td>\n",
       "</tr>\n",
       "<tr>\n",
       "<td>\n",
       "&quot;Limburg&quot;\n",
       "</td>\n",
       "<td>\n",
       "59532\n",
       "</td>\n",
       "</tr>\n",
       "<tr>\n",
       "<td>\n",
       "&quot;Liege&quot;\n",
       "</td>\n",
       "<td>\n",
       "127867\n",
       "</td>\n",
       "</tr>\n",
       "</tbody>\n",
       "</table>\n",
       "</div>"
      ],
      "text/plain": [
       "shape: (12, 2)\n",
       "┌─────────────────┬───────────┐\n",
       "│ Province/State  ┆ Confirmed │\n",
       "│ ---             ┆ ---       │\n",
       "│ str             ┆ i64       │\n",
       "╞═════════════════╪═══════════╡\n",
       "│ Flemish Brabant ┆ 80513     │\n",
       "├╌╌╌╌╌╌╌╌╌╌╌╌╌╌╌╌╌┼╌╌╌╌╌╌╌╌╌╌╌┤\n",
       "│ West Flanders   ┆ 95532     │\n",
       "├╌╌╌╌╌╌╌╌╌╌╌╌╌╌╌╌╌┼╌╌╌╌╌╌╌╌╌╌╌┤\n",
       "│ East Flanders   ┆ 121450    │\n",
       "├╌╌╌╌╌╌╌╌╌╌╌╌╌╌╌╌╌┼╌╌╌╌╌╌╌╌╌╌╌┤\n",
       "│ Hainaut         ┆ 156176    │\n",
       "├╌╌╌╌╌╌╌╌╌╌╌╌╌╌╌╌╌┼╌╌╌╌╌╌╌╌╌╌╌┤\n",
       "│ Luxembourg      ┆ 30816     │\n",
       "├╌╌╌╌╌╌╌╌╌╌╌╌╌╌╌╌╌┼╌╌╌╌╌╌╌╌╌╌╌┤\n",
       "│ Walloon Brabant ┆ 40499     │\n",
       "├╌╌╌╌╌╌╌╌╌╌╌╌╌╌╌╌╌┼╌╌╌╌╌╌╌╌╌╌╌┤\n",
       "│ Unknown         ┆ 20183     │\n",
       "├╌╌╌╌╌╌╌╌╌╌╌╌╌╌╌╌╌┼╌╌╌╌╌╌╌╌╌╌╌┤\n",
       "│ Brussels        ┆ 129836    │\n",
       "├╌╌╌╌╌╌╌╌╌╌╌╌╌╌╌╌╌┼╌╌╌╌╌╌╌╌╌╌╌┤\n",
       "│ Namur           ┆ 58466     │\n",
       "├╌╌╌╌╌╌╌╌╌╌╌╌╌╌╌╌╌┼╌╌╌╌╌╌╌╌╌╌╌┤\n",
       "│ Antwerp         ┆ 137033    │\n",
       "├╌╌╌╌╌╌╌╌╌╌╌╌╌╌╌╌╌┼╌╌╌╌╌╌╌╌╌╌╌┤\n",
       "│ Limburg         ┆ 59532     │\n",
       "├╌╌╌╌╌╌╌╌╌╌╌╌╌╌╌╌╌┼╌╌╌╌╌╌╌╌╌╌╌┤\n",
       "│ Liege           ┆ 127867    │\n",
       "└─────────────────┴───────────┘"
      ]
     },
     "execution_count": 27,
     "metadata": {},
     "output_type": "execute_result"
    }
   ],
   "source": [
    "all_cols = [\"Confirmed\", \"Province/State\"]\n",
    "\n",
    "belgium = (\n",
    "    rdf.filter(\n",
    "        (pl.col(\"Country/Region\") == \"Belgium\")\n",
    "        & (pl.col(\"ObservationDate\") == latest_date)\n",
    "    )  # limit data to data shared by Spain on the latest observation date\n",
    "    .select([pl.col(x) for x in all_cols])  # limit data to columns in all_cols list\n",
    "    .groupby(pl.col(\"Province/State\"))  # group data by province/state\n",
    "    .agg(pl.col(\"Confirmed\").sum())  # get the sum of confirmed cases\n",
    ")\n",
    "belgium.collect().fetch()"
   ]
  },
  {
   "attachments": {},
   "cell_type": "markdown",
   "metadata": {},
   "source": [
    "Now we have this dataframe, we can make a donut chart displaying the percentage of cases in each region. To do this, we will simply create a pie chart using the `pieplot` function and then add a white circle over the pie chart using matplotlib's `add_artist` to create a donut effect."
   ]
  },
  {
   "cell_type": "code",
   "execution_count": null,
   "metadata": {},
   "outputs": [
    {
     "data": {
      "image/png": "[encoded data removed]",
      "text/plain": [
       "<Figure size 700x400 with 1 Axes>"
      ]
     },
     "metadata": {},
     "output_type": "display_data"
    }
   ],
   "source": [
    "belgium.pieplot(\n",
    "    parts=\"Confirmed\",\n",
    "    labels=\"Province/State\",\n",
    "    pie_labels=False,\n",
    "    title=\"Confirmed cases by region in Belgium\",\n",
    ")\n",
    "my_circle = plt.Circle((0, 0), 0.5, color=\"white\")  # create a white circle\n",
    "\n",
    "# Get current pie chart figure using gcf() function and add white circle to it\n",
    "fig = plt.gcf()\n",
    "fig.gca().add_artist(my_circle)\n",
    "\n",
    "# Display donut\n",
    "plt.show()"
   ]
  },
  {
   "cell_type": "markdown",
   "metadata": {},
   "source": [
    "So that brings our demo to an end. All that's left to do is close our connection!"
   ]
  },
  {
   "cell_type": "code",
   "execution_count": null,
   "metadata": {},
   "outputs": [],
   "source": [
    "connection.close()"
   ]
  }
 ],
 "metadata": {
  "kernelspec": {
   "display_name": "base",
   "language": "python",
   "name": "python3"
  },
  "language_info": {
   "codemirror_mode": {
    "name": "ipython",
    "version": 3
   },
   "file_extension": ".py",
   "mimetype": "text/x-python",
   "name": "python",
   "nbconvert_exporter": "python",
   "pygments_lexer": "ipython3",
   "version": "3.9.13"
  },
  "orig_nbformat": 4,
  "vscode": {
   "interpreter": {
    "hash": "d130ca42b532f14c740c9405384e6a25814bad609bad1a40b3b3f26954036080"
   }
  }
 },
 "nbformat": 4,
 "nbformat_minor": 2
}
