{
 "cells": [
  {
   "cell_type": "code",
   "execution_count": null,
   "metadata": {},
   "outputs": [],
   "source": [
    "%pip install bastionai"
   ]
  },
  {
   "cell_type": "code",
   "execution_count": 2,
   "metadata": {},
   "outputs": [
    {
     "name": "stdout",
     "output_type": "stream",
     "text": [
      "Requirement already satisfied: torch==1.12.0 in /home/dhalf/Documents/bastionai/client/venv/lib/python3.10/site-packages (1.12.0)\n",
      "Collecting torchvision\n",
      "  Using cached torchvision-0.13.1-cp310-cp310-manylinux1_x86_64.whl (19.1 MB)\n",
      "Requirement already satisfied: typing-extensions in /home/dhalf/Documents/bastionai/client/venv/lib/python3.10/site-packages (from torch==1.12.0) (4.3.0)\n",
      "Collecting pillow!=8.3.*,>=5.3.0\n",
      "  Using cached Pillow-9.2.0-cp310-cp310-manylinux_2_28_x86_64.whl (3.2 MB)\n",
      "Collecting torchvision\n",
      "  Using cached torchvision-0.13.0-cp310-cp310-manylinux1_x86_64.whl (19.1 MB)\n",
      "Requirement already satisfied: numpy in /home/dhalf/Documents/bastionai/client/venv/lib/python3.10/site-packages (from torchvision) (1.23.1)\n",
      "Requirement already satisfied: requests in /home/dhalf/Documents/bastionai/client/venv/lib/python3.10/site-packages (from torchvision) (2.28.1)\n",
      "Requirement already satisfied: urllib3<1.27,>=1.21.1 in /home/dhalf/Documents/bastionai/client/venv/lib/python3.10/site-packages (from requests->torchvision) (1.26.12)\n",
      "Requirement already satisfied: certifi>=2017.4.17 in /home/dhalf/Documents/bastionai/client/venv/lib/python3.10/site-packages (from requests->torchvision) (2022.6.15)\n",
      "Requirement already satisfied: idna<4,>=2.5 in /home/dhalf/Documents/bastionai/client/venv/lib/python3.10/site-packages (from requests->torchvision) (3.3)\n",
      "Requirement already satisfied: charset-normalizer<3,>=2 in /home/dhalf/Documents/bastionai/client/venv/lib/python3.10/site-packages (from requests->torchvision) (2.1.1)\n",
      "Installing collected packages: pillow, torchvision\n",
      "Successfully installed pillow-9.2.0 torchvision-0.13.0\n",
      "Note: you may need to restart the kernel to use updated packages.\n"
     ]
    }
   ],
   "source": [
    "%pip install torch==1.12.0 torchvision"
   ]
  },
  {
   "cell_type": "code",
   "execution_count": 1,
   "metadata": {},
   "outputs": [
    {
     "name": "stdout",
     "output_type": "stream",
     "text": [
      "Files already downloaded and verified\n",
      "Files already downloaded and verified\n"
     ]
    }
   ],
   "source": [
    "from torchvision.models import resnet50, ResNet50_Weights\n",
    "from torchvision.datasets import CIFAR100\n",
    "from torchvision.transforms import ToTensor, Normalize, Compose\n",
    "from torch.utils.data import DataLoader\n",
    "\n",
    "transform = Compose([\n",
    "    ToTensor(),\n",
    "    Normalize((0.4914, 0.4822, 0.4465), (0.2023, 0.1994, 0.2010))\n",
    "])\n",
    "\n",
    "train_dataset = CIFAR100(\"data\", train=True, transform=transform, download=True)\n",
    "test_dataset = CIFAR100(\"data\", train=False, transform=transform, download=True)\n",
    "\n",
    "train_dataloader = DataLoader(train_dataset, batch_size=64)\n",
    "test_dataloader = DataLoader(test_dataset, batch_size=64)\n",
    "\n",
    "model = resnet50(weights=ResNet50_Weights.IMAGENET1K_V2)"
   ]
  },
  {
   "cell_type": "code",
   "execution_count": 4,
   "metadata": {},
   "outputs": [
    {
     "ename": "KeyboardInterrupt",
     "evalue": "",
     "output_type": "error",
     "traceback": [
      "\u001b[0;31m---------------------------------------------------------------------------\u001b[0m",
      "\u001b[0;31mKeyboardInterrupt\u001b[0m                         Traceback (most recent call last)",
      "\u001b[1;32m/home/dhalf/Documents/bastionai/examples/resnet_example_notebook.ipynb Cell 4\u001b[0m in \u001b[0;36m<cell line: 3>\u001b[0;34m()\u001b[0m\n\u001b[1;32m      <a href='vscode-notebook-cell:/home/dhalf/Documents/bastionai/examples/resnet_example_notebook.ipynb#W3sZmlsZQ%3D%3D?line=0'>1</a>\u001b[0m \u001b[39mfrom\u001b[39;00m \u001b[39mbastionai\u001b[39;00m\u001b[39m.\u001b[39;00m\u001b[39mclient\u001b[39;00m \u001b[39mimport\u001b[39;00m Connection\n\u001b[1;32m      <a href='vscode-notebook-cell:/home/dhalf/Documents/bastionai/examples/resnet_example_notebook.ipynb#W3sZmlsZQ%3D%3D?line=2'>3</a>\u001b[0m \u001b[39mwith\u001b[39;00m Connection(\u001b[39m\"\u001b[39m\u001b[39mlocalhost\u001b[39m\u001b[39m\"\u001b[39m, \u001b[39m50051\u001b[39m) \u001b[39mas\u001b[39;00m client:\n\u001b[0;32m----> <a href='vscode-notebook-cell:/home/dhalf/Documents/bastionai/examples/resnet_example_notebook.ipynb#W3sZmlsZQ%3D%3D?line=3'>4</a>\u001b[0m     remote_dataloader \u001b[39m=\u001b[39m client\u001b[39m.\u001b[39;49mRemoteDataLoader(train_dataloader, test_dataloader, name\u001b[39m=\u001b[39;49m\u001b[39m\"\u001b[39;49m\u001b[39mSMSSpamCollection\u001b[39;49m\u001b[39m\"\u001b[39;49m)\n\u001b[1;32m      <a href='vscode-notebook-cell:/home/dhalf/Documents/bastionai/examples/resnet_example_notebook.ipynb#W3sZmlsZQ%3D%3D?line=5'>6</a>\u001b[0m     remote_learner \u001b[39m=\u001b[39m client\u001b[39m.\u001b[39mRemoteLearner(\n\u001b[1;32m      <a href='vscode-notebook-cell:/home/dhalf/Documents/bastionai/examples/resnet_example_notebook.ipynb#W3sZmlsZQ%3D%3D?line=6'>7</a>\u001b[0m         model,\n\u001b[1;32m      <a href='vscode-notebook-cell:/home/dhalf/Documents/bastionai/examples/resnet_example_notebook.ipynb#W3sZmlsZQ%3D%3D?line=7'>8</a>\u001b[0m         remote_dataloader,\n\u001b[0;32m   (...)\u001b[0m\n\u001b[1;32m     <a href='vscode-notebook-cell:/home/dhalf/Documents/bastionai/examples/resnet_example_notebook.ipynb#W3sZmlsZQ%3D%3D?line=10'>11</a>\u001b[0m         progress \u001b[39m=\u001b[39m \u001b[39mFalse\u001b[39;00m,\n\u001b[1;32m     <a href='vscode-notebook-cell:/home/dhalf/Documents/bastionai/examples/resnet_example_notebook.ipynb#W3sZmlsZQ%3D%3D?line=11'>12</a>\u001b[0m     )\n\u001b[1;32m     <a href='vscode-notebook-cell:/home/dhalf/Documents/bastionai/examples/resnet_example_notebook.ipynb#W3sZmlsZQ%3D%3D?line=13'>14</a>\u001b[0m     remote_learner\u001b[39m.\u001b[39mfit(nb_epochs\u001b[39m=\u001b[39m\u001b[39m100\u001b[39m, eps\u001b[39m=\u001b[39m\u001b[39m6.0\u001b[39m)\n",
      "File \u001b[0;32m~/Documents/bastionai/client/bastionai/client.py:225\u001b[0m, in \u001b[0;36mClient.RemoteDataLoader\u001b[0;34m(self, *args, **kwargs)\u001b[0m\n\u001b[1;32m    216\u001b[0m \u001b[39m\"\"\"Returns a RemoteDataLoader object encapsulating a training and testing dataloaders\u001b[39;00m\n\u001b[1;32m    217\u001b[0m \u001b[39mon the remote server that uses this client to communicate with the server.\u001b[39;00m\n\u001b[1;32m    218\u001b[0m \n\u001b[0;32m   (...)\u001b[0m\n\u001b[1;32m    221\u001b[0m \u001b[39m    **kwargs: all keyword arguments are forwarded to the `RemoteDataLoader` constructor.\u001b[39;00m\n\u001b[1;32m    222\u001b[0m \u001b[39m\"\"\"\u001b[39;00m\n\u001b[1;32m    223\u001b[0m \u001b[39mfrom\u001b[39;00m \u001b[39mbastionai\u001b[39;00m\u001b[39m.\u001b[39;00m\u001b[39mlearner\u001b[39;00m \u001b[39mimport\u001b[39;00m RemoteDataLoader\n\u001b[0;32m--> 225\u001b[0m \u001b[39mreturn\u001b[39;00m RemoteDataLoader(\u001b[39mself\u001b[39;49m, \u001b[39m*\u001b[39;49margs, \u001b[39m*\u001b[39;49m\u001b[39m*\u001b[39;49mkwargs)\n",
      "File \u001b[0;32m~/Documents/bastionai/client/bastionai/learner.py:42\u001b[0m, in \u001b[0;36mRemoteDataLoader.__init__\u001b[0;34m(self, client, train_dataloader, test_dataloader, privacy_limit, name, description, secret)\u001b[0m\n\u001b[1;32m     37\u001b[0m \u001b[39mif\u001b[39;00m (\n\u001b[1;32m     38\u001b[0m     test_dataloader \u001b[39mis\u001b[39;00m \u001b[39mnot\u001b[39;00m \u001b[39mNone\u001b[39;00m\n\u001b[1;32m     39\u001b[0m     \u001b[39mand\u001b[39;00m train_dataloader\u001b[39m.\u001b[39mbatch_size \u001b[39m!=\u001b[39m test_dataloader\u001b[39m.\u001b[39mbatch_size\n\u001b[1;32m     40\u001b[0m ):\n\u001b[1;32m     41\u001b[0m     \u001b[39mraise\u001b[39;00m \u001b[39mException\u001b[39;00m(\u001b[39m\"\u001b[39m\u001b[39mTrain and test dataloaders must use the same batch size.\u001b[39m\u001b[39m\"\u001b[39m)\n\u001b[0;32m---> 42\u001b[0m \u001b[39mself\u001b[39m\u001b[39m.\u001b[39mtrain_dataset_ref \u001b[39m=\u001b[39m client\u001b[39m.\u001b[39;49msend_dataset(\n\u001b[1;32m     43\u001b[0m     train_dataloader\u001b[39m.\u001b[39;49mdataset,\n\u001b[1;32m     44\u001b[0m     name\u001b[39m=\u001b[39;49mname \u001b[39mif\u001b[39;49;00m name \u001b[39mis\u001b[39;49;00m \u001b[39mnot\u001b[39;49;00m \u001b[39mNone\u001b[39;49;00m \u001b[39melse\u001b[39;49;00m \u001b[39mtype\u001b[39;49m(train_dataloader\u001b[39m.\u001b[39;49mdataset)\u001b[39m.\u001b[39;49m\u001b[39m__name__\u001b[39;49m,\n\u001b[1;32m     45\u001b[0m     description\u001b[39m=\u001b[39;49mdescription,\n\u001b[1;32m     46\u001b[0m     secret\u001b[39m=\u001b[39;49msecret,\n\u001b[1;32m     47\u001b[0m     privacy_limit\u001b[39m=\u001b[39;49mprivacy_limit,\n\u001b[1;32m     48\u001b[0m )\n\u001b[1;32m     49\u001b[0m \u001b[39mif\u001b[39;00m test_dataloader \u001b[39mis\u001b[39;00m \u001b[39mnot\u001b[39;00m \u001b[39mNone\u001b[39;00m:\n\u001b[1;32m     50\u001b[0m     \u001b[39mself\u001b[39m\u001b[39m.\u001b[39mtest_dataset_ref \u001b[39m=\u001b[39m client\u001b[39m.\u001b[39msend_dataset(\n\u001b[1;32m     51\u001b[0m         test_dataloader\u001b[39m.\u001b[39mdataset,\n\u001b[1;32m     52\u001b[0m         name\u001b[39m=\u001b[39m\u001b[39mf\u001b[39m\u001b[39m\"\u001b[39m\u001b[39m{\u001b[39;00mname\u001b[39m}\u001b[39;00m\u001b[39m (test)\u001b[39m\u001b[39m\"\u001b[39m\n\u001b[0;32m   (...)\u001b[0m\n\u001b[1;32m     57\u001b[0m         privacy_limit\u001b[39m=\u001b[39mprivacy_limit,\n\u001b[1;32m     58\u001b[0m     )\n",
      "File \u001b[0;32m~/Documents/bastionai/client/bastionai/client.py:124\u001b[0m, in \u001b[0;36mClient.send_dataset\u001b[0;34m(self, dataset, name, description, secret, privacy_limit, chunk_size, batch_size)\u001b[0m\n\u001b[1;32m     97\u001b[0m \u001b[39m\"\"\"Uploads a Pytorch Dataset to the BastionAI server.\u001b[39;00m\n\u001b[1;32m     98\u001b[0m \n\u001b[1;32m     99\u001b[0m \u001b[39mArgs:\u001b[39;00m\n\u001b[0;32m   (...)\u001b[0m\n\u001b[1;32m    110\u001b[0m \u001b[39m    BastionAI gRPC protocol's reference object.\u001b[39;00m\n\u001b[1;32m    111\u001b[0m \u001b[39m\"\"\"\u001b[39;00m\n\u001b[1;32m    112\u001b[0m \u001b[39mlist\u001b[39m(\n\u001b[1;32m    113\u001b[0m     serialize_dataset(\n\u001b[1;32m    114\u001b[0m         dataset,\n\u001b[0;32m   (...)\u001b[0m\n\u001b[1;32m    122\u001b[0m     )\n\u001b[1;32m    123\u001b[0m )\n\u001b[0;32m--> 124\u001b[0m \u001b[39mreturn\u001b[39;00m \u001b[39mself\u001b[39;49m\u001b[39m.\u001b[39;49mstub\u001b[39m.\u001b[39;49mSendDataset(\n\u001b[1;32m    125\u001b[0m     serialize_dataset(\n\u001b[1;32m    126\u001b[0m         dataset,\n\u001b[1;32m    127\u001b[0m         name\u001b[39m=\u001b[39;49mname,\n\u001b[1;32m    128\u001b[0m         description\u001b[39m=\u001b[39;49mdescription,\n\u001b[1;32m    129\u001b[0m         secret\u001b[39m=\u001b[39;49msecret \u001b[39mif\u001b[39;49;00m secret \u001b[39mis\u001b[39;49;00m \u001b[39mnot\u001b[39;49;00m \u001b[39mNone\u001b[39;49;00m \u001b[39melse\u001b[39;49;00m \u001b[39mself\u001b[39;49m\u001b[39m.\u001b[39;49mdefault_secret,\n\u001b[1;32m    130\u001b[0m         chunk_size\u001b[39m=\u001b[39;49mchunk_size,\n\u001b[1;32m    131\u001b[0m         batch_size\u001b[39m=\u001b[39;49mbatch_size,\n\u001b[1;32m    132\u001b[0m         privacy_limit\u001b[39m=\u001b[39;49mprivacy_limit,\n\u001b[1;32m    133\u001b[0m         client_info\u001b[39m=\u001b[39;49m\u001b[39mself\u001b[39;49m\u001b[39m.\u001b[39;49mclient_info,\n\u001b[1;32m    134\u001b[0m     )\n\u001b[1;32m    135\u001b[0m )\n",
      "File \u001b[0;32m~/Documents/bastionai/client/venv/lib/python3.10/site-packages/grpc/_channel.py:1129\u001b[0m, in \u001b[0;36m_StreamUnaryMultiCallable.__call__\u001b[0;34m(self, request_iterator, timeout, metadata, credentials, wait_for_ready, compression)\u001b[0m\n\u001b[1;32m   1122\u001b[0m \u001b[39mdef\u001b[39;00m \u001b[39m__call__\u001b[39m(\u001b[39mself\u001b[39m,\n\u001b[1;32m   1123\u001b[0m              request_iterator,\n\u001b[1;32m   1124\u001b[0m              timeout\u001b[39m=\u001b[39m\u001b[39mNone\u001b[39;00m,\n\u001b[0;32m   (...)\u001b[0m\n\u001b[1;32m   1127\u001b[0m              wait_for_ready\u001b[39m=\u001b[39m\u001b[39mNone\u001b[39;00m,\n\u001b[1;32m   1128\u001b[0m              compression\u001b[39m=\u001b[39m\u001b[39mNone\u001b[39;00m):\n\u001b[0;32m-> 1129\u001b[0m     state, call, \u001b[39m=\u001b[39m \u001b[39mself\u001b[39;49m\u001b[39m.\u001b[39;49m_blocking(request_iterator, timeout, metadata,\n\u001b[1;32m   1130\u001b[0m                                   credentials, wait_for_ready, compression)\n\u001b[1;32m   1131\u001b[0m     \u001b[39mreturn\u001b[39;00m _end_unary_response_blocking(state, call, \u001b[39mFalse\u001b[39;00m, \u001b[39mNone\u001b[39;00m)\n",
      "File \u001b[0;32m~/Documents/bastionai/client/venv/lib/python3.10/site-packages/grpc/_channel.py:1114\u001b[0m, in \u001b[0;36m_StreamUnaryMultiCallable._blocking\u001b[0;34m(self, request_iterator, timeout, metadata, credentials, wait_for_ready, compression)\u001b[0m\n\u001b[1;32m   1111\u001b[0m _consume_request_iterator(request_iterator, state, call,\n\u001b[1;32m   1112\u001b[0m                           \u001b[39mself\u001b[39m\u001b[39m.\u001b[39m_request_serializer, \u001b[39mNone\u001b[39;00m)\n\u001b[1;32m   1113\u001b[0m \u001b[39mwhile\u001b[39;00m \u001b[39mTrue\u001b[39;00m:\n\u001b[0;32m-> 1114\u001b[0m     event \u001b[39m=\u001b[39m call\u001b[39m.\u001b[39;49mnext_event()\n\u001b[1;32m   1115\u001b[0m     \u001b[39mwith\u001b[39;00m state\u001b[39m.\u001b[39mcondition:\n\u001b[1;32m   1116\u001b[0m         _handle_event(event, state, \u001b[39mself\u001b[39m\u001b[39m.\u001b[39m_response_deserializer)\n",
      "File \u001b[0;32msrc/python/grpcio/grpc/_cython/_cygrpc/channel.pyx.pxi:338\u001b[0m, in \u001b[0;36mgrpc._cython.cygrpc.SegregatedCall.next_event\u001b[0;34m()\u001b[0m\n",
      "File \u001b[0;32msrc/python/grpcio/grpc/_cython/_cygrpc/channel.pyx.pxi:169\u001b[0m, in \u001b[0;36mgrpc._cython.cygrpc._next_call_event\u001b[0;34m()\u001b[0m\n",
      "File \u001b[0;32msrc/python/grpcio/grpc/_cython/_cygrpc/channel.pyx.pxi:163\u001b[0m, in \u001b[0;36mgrpc._cython.cygrpc._next_call_event\u001b[0;34m()\u001b[0m\n",
      "File \u001b[0;32msrc/python/grpcio/grpc/_cython/_cygrpc/completion_queue.pyx.pxi:76\u001b[0m, in \u001b[0;36mgrpc._cython.cygrpc._latent_event\u001b[0;34m()\u001b[0m\n",
      "File \u001b[0;32msrc/python/grpcio/grpc/_cython/_cygrpc/completion_queue.pyx.pxi:59\u001b[0m, in \u001b[0;36mgrpc._cython.cygrpc._internal_latent_event\u001b[0;34m()\u001b[0m\n",
      "File \u001b[0;32msrc/python/grpcio/grpc/_cython/_cygrpc/completion_queue.pyx.pxi:40\u001b[0m, in \u001b[0;36mgrpc._cython.cygrpc._next\u001b[0;34m()\u001b[0m\n",
      "\u001b[0;31mKeyboardInterrupt\u001b[0m: "
     ]
    }
   ],
   "source": [
    "from bastionai.client import Connection\n",
    "\n",
    "with Connection(\"localhost\", 50051) as client:\n",
    "    remote_dataloader = client.RemoteDataLoader(train_dataloader, test_dataloader, name=\"SMSSpamCollection\")\n",
    "    \n",
    "    remote_learner = client.RemoteLearner(\n",
    "        model,\n",
    "        remote_dataloader,\n",
    "        loss=\"cross_entropy\",\n",
    "        model_name=\"DistilBERT\",\n",
    "        progress = False,\n",
    "    )\n",
    "\n",
    "    remote_learner.fit(nb_epochs=100, eps=6.0)\n",
    "    # remote_learner.test(metric=\"accuracy\")\n",
    "    \n",
    "    # trained_model = remote_learner.get_model()"
   ]
  },
  {
   "cell_type": "code",
   "execution_count": 6,
   "metadata": {},
   "outputs": [
    {
     "data": {
      "text/plain": [
       "[]"
      ]
     },
     "execution_count": 6,
     "metadata": {},
     "output_type": "execute_result"
    }
   ],
   "source": [
    "remote_learner.log"
   ]
  }
 ],
 "metadata": {
  "kernelspec": {
   "display_name": "Python 3.10.4 ('venv': venv)",
   "language": "python",
   "name": "python3"
  },
  "language_info": {
   "codemirror_mode": {
    "name": "ipython",
    "version": 3
   },
   "file_extension": ".py",
   "mimetype": "text/x-python",
   "name": "python",
   "nbconvert_exporter": "python",
   "pygments_lexer": "ipython3",
   "version": "3.10.4"
  },
  "orig_nbformat": 4,
  "vscode": {
   "interpreter": {
    "hash": "6993cb9073eaa1097b6e3b6529d06c5840b05bad16c8a47177ac9bf16f0b1e0e"
   }
  }
 },
 "nbformat": 4,
 "nbformat_minor": 2
}
