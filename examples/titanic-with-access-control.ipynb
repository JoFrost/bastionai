{
 "cells": [
  {
   "cell_type": "markdown",
   "metadata": {},
   "source": [
    "# BastionLab Analytics Demo\n",
    "\n",
    "BastionLab allows data scientists to run queries on data frames remotely without seeing the original data or intermediary results.\n",
    "The user uses polars' lazy API augmented with BasionLab's objects to define a *Composite Plan* which is an abstract object representing all the instructions to be run on the server in a lazy fashion. BastionLab's *Composite Plan* supports most polars operations from selects to groupbys to joins.\n",
    "\n",
    "We intentionnaly forbid map operations with user defined functions to avoid remote code execution. As a replacement, we provide the `apply_udf` method on our `RemoteLazyFrame` type that allows the user to apply a custom TorchScript compatible function on a subset of series. Internally, the provided plain python function is compiled into TorchScript and applied on the server to the matching series by casting them as libtorch tensors.\n",
    "\n",
    "## Data Loading\n",
    "\n",
    "We load the csv dataset as a plain polars dataframe, we open a connection to the server and we upload the data frame.\n",
    "The server sends back some metadata (a reference and the schema of the data frame) that are wrapped in a `FetchableLazyFrame`.\n",
    "`FetchableLazyFrame`s are a subtype of `RemoteLazyFrames` that can be used not only to define the computation graph by using polars' lazy API but also to retrieve the data (we'll add a mechanism to enforce security and privacy rules in the future)."
   ]
  },
  {
   "cell_type": "markdown",
   "metadata": {},
   "source": [
    "In order to test the implementation, we use `SigningKey` and `PublicKey` to create three keys:\n",
    "- Data owner\n",
    "- Data scientist 1\n",
    "- Data scientist 2\n",
    "\n",
    "NB: The difference between Data scientist 1 & 2 is that the public key of the Data scientist 1 is shared with the data owner who will start up the server. BastionLab server will need the keys of both the data owner and the data scientist in order for it to start."
   ]
  },
  {
   "cell_type": "code",
   "execution_count": null,
   "metadata": {},
   "outputs": [],
   "source": [
    "from bastionlab import SigningKey, PublicKey\n",
    "\n",
    "data_owner_key = SigningKey.from_pem_or_generate(\"./data_owner.key.pem\")\n",
    "data_scientist_key = SigningKey.from_pem_or_generate(\"./data_scientist.key.pem\")\n",
    "\n",
    "data_scientist_pubkey = data_scientist_key.pubkey.save_pem(\"./data_scientist.pem\")\n",
    "data_owner_pubkey = data_owner_key.pubkey.save_pem(\"./data_owner.pem\")\n",
    "\n",
    "fake_data_scientist = SigningKey.from_pem_or_generate(\"./fake_scientist.key.pem\")\n",
    "fake_scientist_pubkey = fake_data_scientist.pubkey.save_pem(\"./fake_scientist.pem\")\n"
   ]
  },
  {
   "cell_type": "code",
   "execution_count": null,
   "metadata": {},
   "outputs": [],
   "source": [
    "import polars as pl\n",
    "from bastionlab import Connection\n",
    "\n",
    "df = pl.read_csv(\"titanic_train.csv\").limit(50)\n",
    "\n",
    "connection = Connection(\"localhost\", 50056, license_key=data_owner_key)\n",
    "client = connection.client\n",
    "\n",
    "rdf = client.send_df(df)\n",
    "\n",
    "original_rdf = rdf\n"
   ]
  },
  {
   "cell_type": "markdown",
   "metadata": {},
   "source": [
    "The `RemoteLazyFrame`s (and their subtypes) can be used to query the metadata without performing any actual request to the server."
   ]
  },
  {
   "cell_type": "code",
   "execution_count": null,
   "metadata": {},
   "outputs": [],
   "source": [
    "rdf.columns\n"
   ]
  },
  {
   "cell_type": "code",
   "execution_count": null,
   "metadata": {},
   "outputs": [],
   "source": [
    "connection.close()\n"
   ]
  },
  {
   "cell_type": "markdown",
   "metadata": {},
   "source": [
    "In order to create separate view points, we close the connection initially created by the Data Owner.\n",
    "We then use the Data Scientist 1's signing key to establish a connection between the BastionLab server.\n",
    "\n",
    "The user may also invoke polars' lazy API to construct query plans.\n",
    "\n",
    "In the following cell, we compute the survival rates of the passengers of the Titanic with respect to their ticket class.\n",
    "\n",
    "Note that issuing such aggregated queries without seing the original dataset or intermediary results already provides some sense of privacy. We plan to add a budgeting mechanism such as Differential Privacy to allow the data owner to control how their data can be used."
   ]
  },
  {
   "cell_type": "markdown",
   "metadata": {},
   "source": [
    "After closing the Data Owner's connection, we lose access to the Remote DataFrame `rdf`. But we can use `list_dfs` to fetch it back.\n",
    "\n",
    "The cell below illustrates how to list all Remote Dataframes available on BastionLab and also selects the first as our `rdf`."
   ]
  },
  {
   "cell_type": "code",
   "execution_count": null,
   "metadata": {},
   "outputs": [],
   "source": [
    "connection = Connection(\"localhost\", 50056, license_key=data_scientist_key)\n",
    "client = connection.client\n",
    "\n",
    "rdfs = client.list_dfs()\n",
    "\n",
    "rdf = rdfs[0]\n"
   ]
  },
  {
   "cell_type": "code",
   "execution_count": null,
   "metadata": {},
   "outputs": [],
   "source": [
    "per_class_rates = (\n",
    "    rdf.select([pl.col(\"Pclass\"), pl.col(\"Survived\")])\n",
    "    .groupby(pl.col(\"Pclass\"))\n",
    "    .agg(pl.col(\"Survived\").mean())\n",
    "    .sort(\"Survived\", reverse=True)\n",
    "    .collect()\n",
    "    .fetch()\n",
    ")\n",
    "\n",
    "per_class_rates\n"
   ]
  },
  {
   "cell_type": "markdown",
   "metadata": {},
   "source": [
    "To prove that the authentication works successfully, we first close the connection created with Data scientist 1's signing key and then create another with Data Scientist 2's signing key.\n",
    "\n",
    "Refer to [Data Loading](#data-loading) to see the difference between both data scientists."
   ]
  },
  {
   "cell_type": "code",
   "execution_count": null,
   "metadata": {},
   "outputs": [],
   "source": [
    "# Closing Data Scientist 1's connection.\n",
    "connection.close()\n"
   ]
  },
  {
   "cell_type": "markdown",
   "metadata": {},
   "source": [
    "Again, we fetch our lists of dataframes and select the first one as our `rdf` since we loose access to it."
   ]
  },
  {
   "cell_type": "code",
   "execution_count": null,
   "metadata": {},
   "outputs": [],
   "source": [
    "# Setting up connection for Data Scientist 2\n",
    "connection = Connection(\"localhost\", 50056, license_key=fake_data_scientist)\n",
    "client = connection.client\n",
    "\n",
    "rdfs = client.list_dfs()\n",
    "\n",
    "rdf = rdfs[0]\n"
   ]
  },
  {
   "cell_type": "code",
   "execution_count": null,
   "metadata": {},
   "outputs": [],
   "source": [
    "per_class_rates = (\n",
    "    rdf.select([pl.col(\"Pclass\"), pl.col(\"Survived\")])\n",
    "    .groupby(pl.col(\"Pclass\"))\n",
    "    .agg(pl.col(\"Survived\").mean())\n",
    "    .sort(\"Survived\", reverse=True)\n",
    "    .collect()\n",
    "    .fetch()\n",
    ")\n",
    "\n",
    "per_class_rates\n",
    "\n",
    "connection.close()\n"
   ]
  },
  {
   "cell_type": "markdown",
   "metadata": {},
   "source": [
    "In order to continue with the rest of the illustration, we need to setup once more the connection but with the Data Scientist 1 (the right data scientist), and also setup `rdf` while we set up the connection.\n",
    "\n",
    "Setting up `rdf` won't be as we have done before but this time round we need to use the identifier of the Remote DataFrame to set up `rdf` by calling `get_df`."
   ]
  },
  {
   "cell_type": "code",
   "execution_count": 9,
   "metadata": {},
   "outputs": [
    {
     "ename": "GRPCException",
     "evalue": "Remote resource not found: code=StatusCode.NOT_FOUND message=Could not find dataframe: identifier=50fc551e-ee48-40b1-81f6-91477ff2265d",
     "output_type": "error",
     "traceback": [
      "\u001b[0;31m---------------------------------------------------------------------------\u001b[0m",
      "\u001b[0;31m_InactiveRpcError\u001b[0m                         Traceback (most recent call last)",
      "File \u001b[0;32m~/Projects/bastionlab/client/src/bastionlab/errors.py:45\u001b[0m, in \u001b[0;36mGRPCException.map_error\u001b[0;34m(f)\u001b[0m\n\u001b[1;32m     44\u001b[0m \u001b[39mtry\u001b[39;00m:\n\u001b[0;32m---> 45\u001b[0m     \u001b[39mreturn\u001b[39;00m f()\n\u001b[1;32m     46\u001b[0m \u001b[39mexcept\u001b[39;00m _InactiveRpcError \u001b[39mas\u001b[39;00m e:\n",
      "File \u001b[0;32m~/Projects/bastionlab/client/src/bastionlab/client.py:56\u001b[0m, in \u001b[0;36mClient.__make_grpc_call.<locals>.<lambda>\u001b[0;34m()\u001b[0m\n\u001b[1;32m     55\u001b[0m fn \u001b[39m=\u001b[39m \u001b[39mgetattr\u001b[39m(\u001b[39mself\u001b[39m\u001b[39m.\u001b[39mstub, call)\n\u001b[0;32m---> 56\u001b[0m \u001b[39mreturn\u001b[39;00m GRPCException\u001b[39m.\u001b[39mmap_error(\u001b[39mlambda\u001b[39;00m: fn(arg, metadata\u001b[39m=\u001b[39;49mmetadata))\n",
      "File \u001b[0;32m~/base/lib/python3.8/site-packages/grpc/_channel.py:946\u001b[0m, in \u001b[0;36m_UnaryUnaryMultiCallable.__call__\u001b[0;34m(self, request, timeout, metadata, credentials, wait_for_ready, compression)\u001b[0m\n\u001b[1;32m    944\u001b[0m state, call, \u001b[39m=\u001b[39m \u001b[39mself\u001b[39m\u001b[39m.\u001b[39m_blocking(request, timeout, metadata, credentials,\n\u001b[1;32m    945\u001b[0m                               wait_for_ready, compression)\n\u001b[0;32m--> 946\u001b[0m \u001b[39mreturn\u001b[39;00m _end_unary_response_blocking(state, call, \u001b[39mFalse\u001b[39;49;00m, \u001b[39mNone\u001b[39;49;00m)\n",
      "File \u001b[0;32m~/base/lib/python3.8/site-packages/grpc/_channel.py:849\u001b[0m, in \u001b[0;36m_end_unary_response_blocking\u001b[0;34m(state, call, with_call, deadline)\u001b[0m\n\u001b[1;32m    848\u001b[0m \u001b[39melse\u001b[39;00m:\n\u001b[0;32m--> 849\u001b[0m     \u001b[39mraise\u001b[39;00m _InactiveRpcError(state)\n",
      "\u001b[0;31m_InactiveRpcError\u001b[0m: <_InactiveRpcError of RPC that terminated with:\n\tstatus = StatusCode.NOT_FOUND\n\tdetails = \"Could not find dataframe: identifier=50fc551e-ee48-40b1-81f6-91477ff2265d\"\n\tdebug_error_string = \"{\"created\":\"@1668613480.005333321\",\"description\":\"Error received from peer ipv4:127.0.0.1:50056\",\"file\":\"src/core/lib/surface/call.cc\",\"file_line\":966,\"grpc_message\":\"Could not find dataframe: identifier=50fc551e-ee48-40b1-81f6-91477ff2265d\",\"grpc_status\":5}\"\n>",
      "\nDuring handling of the above exception, another exception occurred:\n",
      "\u001b[0;31mGRPCException\u001b[0m                             Traceback (most recent call last)",
      "Cell \u001b[0;32mIn [9], line 4\u001b[0m\n\u001b[1;32m      1\u001b[0m connection \u001b[39m=\u001b[39m Connection(\u001b[39m'\u001b[39m\u001b[39mlocalhost\u001b[39m\u001b[39m'\u001b[39m, \u001b[39m50056\u001b[39m, license_key\u001b[39m=\u001b[39mdata_scientist_key)\n\u001b[1;32m      2\u001b[0m client \u001b[39m=\u001b[39m connection\u001b[39m.\u001b[39mclient\n\u001b[0;32m----> 4\u001b[0m rdf \u001b[39m=\u001b[39m client\u001b[39m.\u001b[39;49mget_df(\u001b[39m\"\u001b[39;49m\u001b[39m50fc551e-ee48-40b1-81f6-91477ff2265d\u001b[39;49m\u001b[39m\"\u001b[39;49m)\n",
      "File \u001b[0;32m~/Projects/bastionlab/client/src/bastionlab/client.py:108\u001b[0m, in \u001b[0;36mClient.get_df\u001b[0;34m(self, identifier)\u001b[0m\n\u001b[1;32m    105\u001b[0m \u001b[39mdef\u001b[39;00m \u001b[39mget_df\u001b[39m(\u001b[39mself\u001b[39m, identifier: \u001b[39mstr\u001b[39m) \u001b[39m-\u001b[39m\u001b[39m>\u001b[39m \u001b[39m\"\u001b[39m\u001b[39mFetchableLazyFrame\u001b[39m\u001b[39m\"\u001b[39m:\n\u001b[1;32m    106\u001b[0m     \u001b[39mfrom\u001b[39;00m \u001b[39mbastionlab\u001b[39;00m\u001b[39m.\u001b[39;00m\u001b[39mremote_polars\u001b[39;00m \u001b[39mimport\u001b[39;00m FetchableLazyFrame\n\u001b[0;32m--> 108\u001b[0m     res \u001b[39m=\u001b[39m \u001b[39mself\u001b[39;49m\u001b[39m.\u001b[39;49m__make_grpc_call(\n\u001b[1;32m    109\u001b[0m         \u001b[39m\"\u001b[39;49m\u001b[39mGetDataFrameHeader\u001b[39;49m\u001b[39m\"\u001b[39;49m,\n\u001b[1;32m    110\u001b[0m         ReferenceRequest(identifier\u001b[39m=\u001b[39;49midentifier),\n\u001b[1;32m    111\u001b[0m         method\u001b[39m=\u001b[39;49m\u001b[39mb\u001b[39;49m\u001b[39m\"\u001b[39;49m\u001b[39mget\u001b[39;49m\u001b[39m\"\u001b[39;49m,\n\u001b[1;32m    112\u001b[0m         signing_keys\u001b[39m=\u001b[39;49m[],\n\u001b[1;32m    113\u001b[0m     )\n\u001b[1;32m    114\u001b[0m     \u001b[39mreturn\u001b[39;00m FetchableLazyFrame\u001b[39m.\u001b[39m_from_reference(\u001b[39mself\u001b[39m, res)\n",
      "File \u001b[0;32m~/Projects/bastionlab/client/src/bastionlab/client.py:56\u001b[0m, in \u001b[0;36mClient.__make_grpc_call\u001b[0;34m(self, call, arg, streaming, method, signing_keys)\u001b[0m\n\u001b[1;32m     53\u001b[0m logging\u001b[39m.\u001b[39mdebug(\u001b[39mf\u001b[39m\u001b[39m\"\u001b[39m\u001b[39mGRPC Call \u001b[39m\u001b[39m{\u001b[39;00mcall\u001b[39m}\u001b[39;00m\u001b[39m; using metadata \u001b[39m\u001b[39m{\u001b[39;00mmetadata\u001b[39m}\u001b[39;00m\u001b[39m\"\u001b[39m)\n\u001b[1;32m     55\u001b[0m fn \u001b[39m=\u001b[39m \u001b[39mgetattr\u001b[39m(\u001b[39mself\u001b[39m\u001b[39m.\u001b[39mstub, call)\n\u001b[0;32m---> 56\u001b[0m \u001b[39mreturn\u001b[39;00m GRPCException\u001b[39m.\u001b[39;49mmap_error(\u001b[39mlambda\u001b[39;49;00m: fn(arg, metadata\u001b[39m=\u001b[39;49mmetadata))\n",
      "File \u001b[0;32m~/Projects/bastionlab/client/src/bastionlab/errors.py:47\u001b[0m, in \u001b[0;36mGRPCException.map_error\u001b[0;34m(f)\u001b[0m\n\u001b[1;32m     45\u001b[0m     \u001b[39mreturn\u001b[39;00m f()\n\u001b[1;32m     46\u001b[0m \u001b[39mexcept\u001b[39;00m _InactiveRpcError \u001b[39mas\u001b[39;00m e:\n\u001b[0;32m---> 47\u001b[0m     \u001b[39mraise\u001b[39;00m GRPCException(e)\n",
      "\u001b[0;31mGRPCException\u001b[0m: Remote resource not found: code=StatusCode.NOT_FOUND message=Could not find dataframe: identifier=50fc551e-ee48-40b1-81f6-91477ff2265d"
     ]
    }
   ],
   "source": [
    "connection = Connection(\"localhost\", 50056, license_key=data_scientist_key)\n",
    "client = connection.client\n",
    "\n",
    "rdf = client.get_df(original_rdf.identifier)\n"
   ]
  },
  {
   "cell_type": "markdown",
   "metadata": {},
   "source": [
    "We can do the same with respect to the sex of the passengers."
   ]
  },
  {
   "cell_type": "code",
   "execution_count": null,
   "metadata": {},
   "outputs": [],
   "source": [
    "per_sex_rates = (\n",
    "    rdf.select([pl.col(\"Sex\"), pl.col(\"Survived\")])\n",
    "    .groupby(pl.col(\"Sex\"))\n",
    "    .agg(pl.col(\"Survived\").mean())\n",
    "    .sort(\"Survived\", reverse=True)\n",
    "    .collect()\n",
    "    .fetch()\n",
    ")\n",
    "\n",
    "per_sex_rates\n"
   ]
  },
  {
   "cell_type": "markdown",
   "metadata": {},
   "source": [
    "Aggregated queries may be used locally to make plots"
   ]
  },
  {
   "cell_type": "code",
   "execution_count": null,
   "metadata": {},
   "outputs": [],
   "source": [
    "import seaborn as sns\n",
    "import torch\n",
    "from bastionlab import RemoteLazyFrame\n",
    "\n",
    "\n",
    "def bar_plot(rdf: RemoteLazyFrame, col_x: str, col_y: str) -> RemoteLazyFrame:\n",
    "    def f(x):\n",
    "        bins = 10 * torch.ones_like(x)\n",
    "        return x // bins * bins\n",
    "\n",
    "    data = (\n",
    "        rdf.select([pl.col(col_x), pl.col(col_y)])\n",
    "        .apply_udf([col_x], f)\n",
    "        .groupby(pl.col(col_x))\n",
    "        .agg(pl.col(col_y).count())\n",
    "        .sort(col_x)\n",
    "        .collect()\n",
    "        .fetch()\n",
    "    )\n",
    "    sns.barplot(x=col_x, y=col_y, data=data.to_pandas())\n",
    "\n",
    "\n",
    "rdf = rdf.filter(pl.col(\"Age\") != None)\n",
    "bp = bar_plot(rdf, \"Age\", \"Survived\")\n"
   ]
  },
  {
   "cell_type": "markdown",
   "metadata": {},
   "source": [
    "We finally close the conection to the server."
   ]
  },
  {
   "cell_type": "code",
   "execution_count": null,
   "metadata": {},
   "outputs": [],
   "source": [
    "connection.close()\n"
   ]
  }
 ],
 "metadata": {
  "kernelspec": {
   "display_name": "Python 3.8.10 ('base')",
   "language": "python",
   "name": "python3"
  },
  "language_info": {
   "codemirror_mode": {
    "name": "ipython",
    "version": 3
   },
   "file_extension": ".py",
   "mimetype": "text/x-python",
   "name": "python",
   "nbconvert_exporter": "python",
   "pygments_lexer": "ipython3",
   "version": "3.8.10"
  },
  "orig_nbformat": 4,
  "vscode": {
   "interpreter": {
    "hash": "b02da7949da3af218e39ce2f31e32c0a1b93d864bdc2c2f7ec5cedc3569d5902"
   }
  }
 },
 "nbformat": 4,
 "nbformat_minor": 2
}
