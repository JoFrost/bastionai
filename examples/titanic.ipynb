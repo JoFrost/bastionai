{
 "cells": [
  {
   "cell_type": "code",
   "execution_count": null,
   "metadata": {},
   "outputs": [],
   "source": [
    "! pip install polars seaborn gdown"
   ]
  },
  {
   "cell_type": "code",
   "execution_count": null,
   "metadata": {},
   "outputs": [],
   "source": [
    "! rm titanic_train.csv && gdown --id 10W80Ylshf2hJGzK9u1Ita7cfxrEscjkX"
   ]
  },
  {
   "cell_type": "markdown",
   "metadata": {},
   "source": [
    "# BastionLab Analytics Demo\n",
    "\n",
    "BastionLab allows data scientists to run queries on data frames remotely without seeing the original data or intermediary results.\n",
    "The user uses polars' lazy API augmented with BasionLab's objects to define a *Composite Plan* which is an abstract object representing all the instructions to be run on the server in a lazy fashion. BastionLab's *Composite Plan* supports most polars operations from selects to groupbys to joins.\n",
    "\n",
    "We intentionnaly forbid map operations with user defined functions to avoid remote code execution. As a replacement, we provide the `apply_udf` method on our `RemoteLazyFrame` type that allows the user to apply a custom TorchScript compatible function on a subset of series. Internally, the provided plain python function is compiled into TorchScript and applied on the server to the matching series by casting them as libtorch tensors.\n",
    "\n",
    "## Data Loading\n",
    "\n",
    "We load the csv dataset as a plain polars dataframe, we open a connection to the server and we upload the data frame.\n",
    "The server sends back some metadata (a reference and the schema of the data frame) that are wrapped in a `FetchableLazyFrame`.\n",
    "`FetchableLazyFrame`s are a subtype of `RemoteLazyFrames` that can be used not only to define the computation graph by using polars' lazy API but also to retrieve the data (we'll add a mechanism to enforce security and privacy rules in the future)."
   ]
  },
  {
   "cell_type": "code",
   "execution_count": null,
   "metadata": {},
   "outputs": [],
   "source": [
    "import polars as pl\n",
    "from bastionlab import Connection\n",
    "\n",
    "df = pl.read_csv(\"titanic_train.csv\").limit(50)\n",
    "\n",
    "connection = Connection('localhost', 50056)\n",
    "client = connection.client\n",
    "\n",
    "rdf = client.send_df(df)\n",
    "\n",
    "rdf"
   ]
  },
  {
   "cell_type": "markdown",
   "metadata": {},
   "source": [
    "The `RemoteLazyFrame`s (and their subtypes) can be used to query the metadata without performing any actual request to the server."
   ]
  },
  {
   "cell_type": "code",
   "execution_count": null,
   "metadata": {},
   "outputs": [],
   "source": [
    "rdf.columns"
   ]
  },
  {
   "cell_type": "markdown",
   "metadata": {},
   "source": [
    "The user may also invoke polars' lazy API to construct query plans.\n",
    "\n",
    "In the following cell, we compute the survival rates of the passengers of the Titanic with respect to their ticket class.\n",
    "\n",
    "Note that issuing such aggregated queries without seing the original dataset or intermediary results already provides some sense of privacy. We plan to add a budgeting mechanism such as Differential Privacy to allow the data owner to control how their data can be used."
   ]
  },
  {
   "cell_type": "code",
   "execution_count": null,
   "metadata": {},
   "outputs": [],
   "source": [
    "per_class_rates = (\n",
    "        rdf.select([pl.col(\"Pclass\"), pl.col(\"Survived\")])\n",
    "        .groupby(pl.col(\"Pclass\"))\n",
    "        .agg(pl.col(\"Survived\").mean())\n",
    "        .sort(\"Survived\", reverse=True)\n",
    "        .collect()\n",
    "        .fetch()\n",
    "    )\n",
    "\n",
    "per_class_rates"
   ]
  },
  {
   "cell_type": "markdown",
   "metadata": {},
   "source": [
    "We can do the same with respect to the sex of the passengers."
   ]
  },
  {
   "cell_type": "code",
   "execution_count": null,
   "metadata": {},
   "outputs": [],
   "source": [
    "per_sex_rates = (\n",
    "        rdf.select([pl.col(\"Sex\"), pl.col(\"Survived\")])\n",
    "        .groupby(pl.col(\"Sex\"))\n",
    "        .agg(pl.col(\"Survived\").mean())\n",
    "        .sort(\"Survived\", reverse=True)\n",
    "        .collect()\n",
    "        .fetch()\n",
    "    )\n",
    "\n",
    "per_sex_rates"
   ]
  },
  {
   "cell_type": "markdown",
   "metadata": {},
   "source": [
    "Aggregated queries may be used locally to make plots"
   ]
  },
  {
   "cell_type": "code",
   "execution_count": null,
   "metadata": {},
   "outputs": [],
   "source": [
    "rdf.barplot(\"Age\", \"Survived\", bins=10, palette='bright')"
   ]
  },
  {
   "cell_type": "code",
   "execution_count": null,
   "metadata": {},
   "outputs": [],
   "source": [
    "rdf.scatterplot(\"Age\", \"Survived\", bins=2, color='orange')"
   ]
  },
  {
   "cell_type": "code",
   "execution_count": null,
   "metadata": {},
   "outputs": [],
   "source": [
    "rdf.regcurveplot(col_x=\"Age\", col_y=\"Survived\", bins=10)"
   ]
  },
  {
   "cell_type": "markdown",
   "metadata": {},
   "source": [
    "We finally close the conection to the server."
   ]
  },
  {
   "cell_type": "code",
   "execution_count": null,
   "metadata": {},
   "outputs": [],
   "source": [
    "connection.close()"
   ]
  }
 ],
 "metadata": {
  "kernelspec": {
   "display_name": "Python 3.10.6 64-bit",
   "language": "python",
   "name": "python3"
  },
  "language_info": {
   "codemirror_mode": {
    "name": "ipython",
    "version": 3
   },
   "file_extension": ".py",
   "mimetype": "text/x-python",
   "name": "python",
   "nbconvert_exporter": "python",
   "pygments_lexer": "ipython3",
   "version": "3.10.6"
  },
  "orig_nbformat": 4,
  "vscode": {
   "interpreter": {
    "hash": "916dbcbb3f70747c44a77c7bcd40155683ae19c65e1c03b4aa3499c5328201f1"
   }
  }
 },
 "nbformat": 4,
 "nbformat_minor": 2
}
