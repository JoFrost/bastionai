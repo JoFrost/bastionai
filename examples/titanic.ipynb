{
 "cells": [
  {
   "cell_type": "markdown",
   "metadata": {},
   "source": [
    "# BastionLab Analytics Demo\n",
    "\n",
    "BastionLab allows data scientists to run queries on data frames remotely without seeing the original data or intermediary results.\n",
    "The user uses polars' lazy API augmented with BasionLab's objects to define a *Composite Plan* which is an abstract object representing all the instructions to be run on the server in a lazy fashion. BastionLab's *Composite Plan* supports most polars operations from selects to groupbys to joins.\n",
    "\n",
    "We intentionnaly forbid map operations with user defined functions to avoid remote code execution. As a replacement, we provide the `apply_udf` method on our `RemoteLazyFrame` type that allows the user to apply a custom TorchScript compatible function on a subset of series. Internally, the provided plain python function is compiled into TorchScript and applied on the server to the matching series by casting them as libtorch tensors.\n",
    "\n",
    "## Data Loading\n",
    "\n",
    "!! Pre-requisite : In order to run this notebook, you will need to download the train.csv dataset from: https://www.kaggle.com/code/startupsci/titanic-data-science-solutions/data and save it in this directory. This is one of the most popular datasets used for understanding machine learning. It contains information relating to the passengers aboard the Titanic.\n",
    "\n",
    "We load the csv dataset as a plain polars dataframe, we open a connection to the server and we upload the data frame.\n",
    "The server sends back some metadata (a reference and the schema of the data frame) that are wrapped in a `FetchableLazyFrame`.\n",
    "`FetchableLazyFrame`s are a subtype of `RemoteLazyFrames` that can be used not only to define the computation graph by using polars' lazy API but also to retrieve the data (we'll add a mechanism to enforce security and privacy rules in the future)."
   ]
  },
  {
   "cell_type": "code",
   "execution_count": 59,
   "metadata": {},
   "outputs": [],
   "source": [
    "! pip install polars\n",
    "! pip install bastionlab"
   ]
  },
  {
   "cell_type": "code",
   "execution_count": 60,
   "metadata": {},
   "outputs": [
    {
     "data": {
      "text/plain": [
       "FetchableLazyFrame(identifier=5eeeabd7-d61e-4977-bae3-b4d4b2dfd7b2)"
      ]
     },
     "execution_count": 60,
     "metadata": {},
     "output_type": "execute_result"
    }
   ],
   "source": [
    "from bastionlab import Identity, Connection\n",
    "from bastionlab.polars.policy import (\n",
    "    Policy,\n",
    "    Aggregation,\n",
    "    Log,\n",
    ")\n",
    "\n",
    "import polars as pl\n",
    "from bastionlab import Connection\n",
    "\n",
    "df = pl.read_csv(\"titanic.csv\").limit(50)\n",
    "\n",
    "connection = Connection(\"localhost\", 50056)\n",
    "client = connection.client.polars\n",
    "\n",
    "policy = Policy(safe_zone=Aggregation(10), unsafe_handling=Log(), savable=False)\n",
    "rdf = client.send_df(df, policy)\n",
    "\n",
    "rdf"
   ]
  },
  {
   "cell_type": "markdown",
   "metadata": {},
   "source": [
    "The `RemoteLazyFrame`s (and their subtypes) can be used to query the metadata without performing any actual request to the server."
   ]
  },
  {
   "cell_type": "code",
   "execution_count": 61,
   "metadata": {},
   "outputs": [
    {
     "data": {
      "text/plain": [
       "['PassengerId',\n",
       " 'Survived',\n",
       " 'Pclass',\n",
       " 'Name',\n",
       " 'Sex',\n",
       " 'Age',\n",
       " 'SibSp',\n",
       " 'Parch',\n",
       " 'Ticket',\n",
       " 'Fare',\n",
       " 'Cabin',\n",
       " 'Embarked']"
      ]
     },
     "execution_count": 61,
     "metadata": {},
     "output_type": "execute_result"
    }
   ],
   "source": [
    "rdf.columns"
   ]
  },
  {
   "cell_type": "markdown",
   "metadata": {},
   "source": [
    "The user may also invoke polars' lazy API to construct query plans.\n",
    "\n",
    "In the following cell, we compute the survival rates of the passengers of the Titanic with respect to their ticket class.\n",
    "\n",
    "Note that issuing such aggregated queries without seing the original dataset or intermediary results already provides some sense of privacy. We plan to add a budgeting mechanism such as Differential Privacy to allow the data owner to control how their data can be used."
   ]
  },
  {
   "cell_type": "code",
   "execution_count": 62,
   "metadata": {},
   "outputs": [
    {
     "name": "stdout",
     "output_type": "stream",
     "text": [
      "\u001b[33mWarning: non privacy-preserving query.\n",
      "Reason: Cannot fetch a result DataFrame that does not aggregate at least 10 rows of DataFrame 5eeeabd7-d61e-4977-bae3-b4d4b2dfd7b2.\n",
      "\n",
      "This incident will be reported to the data owner.\u001b[37m\n"
     ]
    },
    {
     "data": {
      "text/html": [
       "<div>\n",
       "<style scoped>\n",
       "    .dataframe tbody tr th:only-of-type {\n",
       "        vertical-align: middle;\n",
       "    }\n",
       "\n",
       "    .dataframe tbody tr th {\n",
       "        vertical-align: top;\n",
       "    }\n",
       "\n",
       "    .dataframe thead th {\n",
       "        text-align: right;\n",
       "    }\n",
       "\n",
       "    .dataframe td {\n",
       "        white-space: pre;\n",
       "    }\n",
       "\n",
       "    .dataframe td {\n",
       "        padding-top: 0;\n",
       "    }\n",
       "\n",
       "    .dataframe td {\n",
       "        padding-bottom: 0;\n",
       "    }\n",
       "</style>\n",
       "<table border=\"1\" class=\"dataframe\" >\n",
       "<small>shape: (3, 2)</small>\n",
       "<thead>\n",
       "<tr>\n",
       "<th>\n",
       "Pclass\n",
       "</th>\n",
       "<th>\n",
       "Survived\n",
       "</th>\n",
       "</tr>\n",
       "<tr>\n",
       "<td>\n",
       "i64\n",
       "</td>\n",
       "<td>\n",
       "f64\n",
       "</td>\n",
       "</tr>\n",
       "</thead>\n",
       "<tbody>\n",
       "<tr>\n",
       "<td>\n",
       "2\n",
       "</td>\n",
       "<td>\n",
       "0.625\n",
       "</td>\n",
       "</tr>\n",
       "<tr>\n",
       "<td>\n",
       "1\n",
       "</td>\n",
       "<td>\n",
       "0.5\n",
       "</td>\n",
       "</tr>\n",
       "<tr>\n",
       "<td>\n",
       "3\n",
       "</td>\n",
       "<td>\n",
       "0.375\n",
       "</td>\n",
       "</tr>\n",
       "</tbody>\n",
       "</table>\n",
       "</div>"
      ],
      "text/plain": [
       "shape: (3, 2)\n",
       "┌────────┬──────────┐\n",
       "│ Pclass ┆ Survived │\n",
       "│ ---    ┆ ---      │\n",
       "│ i64    ┆ f64      │\n",
       "╞════════╪══════════╡\n",
       "│ 2      ┆ 0.625    │\n",
       "├╌╌╌╌╌╌╌╌┼╌╌╌╌╌╌╌╌╌╌┤\n",
       "│ 1      ┆ 0.5      │\n",
       "├╌╌╌╌╌╌╌╌┼╌╌╌╌╌╌╌╌╌╌┤\n",
       "│ 3      ┆ 0.375    │\n",
       "└────────┴──────────┘"
      ]
     },
     "execution_count": 62,
     "metadata": {},
     "output_type": "execute_result"
    }
   ],
   "source": [
    "per_class_rates = (\n",
    "    rdf.select([pl.col(\"Pclass\"), pl.col(\"Survived\")])\n",
    "    .groupby(pl.col(\"Pclass\"))\n",
    "    .agg(pl.col(\"Survived\").mean())\n",
    "    .sort(\"Survived\", reverse=True)\n",
    "    .collect()\n",
    "    .fetch()\n",
    ")\n",
    "\n",
    "per_class_rates"
   ]
  },
  {
   "cell_type": "markdown",
   "metadata": {},
   "source": [
    "We can do the same with respect to the sex of the passengers."
   ]
  },
  {
   "cell_type": "code",
   "execution_count": 63,
   "metadata": {},
   "outputs": [
    {
     "data": {
      "text/html": [
       "<div>\n",
       "<style scoped>\n",
       "    .dataframe tbody tr th:only-of-type {\n",
       "        vertical-align: middle;\n",
       "    }\n",
       "\n",
       "    .dataframe tbody tr th {\n",
       "        vertical-align: top;\n",
       "    }\n",
       "\n",
       "    .dataframe thead th {\n",
       "        text-align: right;\n",
       "    }\n",
       "\n",
       "    .dataframe td {\n",
       "        white-space: pre;\n",
       "    }\n",
       "\n",
       "    .dataframe td {\n",
       "        padding-top: 0;\n",
       "    }\n",
       "\n",
       "    .dataframe td {\n",
       "        padding-bottom: 0;\n",
       "    }\n",
       "</style>\n",
       "<table border=\"1\" class=\"dataframe\" >\n",
       "<small>shape: (2, 2)</small>\n",
       "<thead>\n",
       "<tr>\n",
       "<th>\n",
       "Sex\n",
       "</th>\n",
       "<th>\n",
       "Survived\n",
       "</th>\n",
       "</tr>\n",
       "<tr>\n",
       "<td>\n",
       "str\n",
       "</td>\n",
       "<td>\n",
       "f64\n",
       "</td>\n",
       "</tr>\n",
       "</thead>\n",
       "<tbody>\n",
       "<tr>\n",
       "<td>\n",
       "&quot;female&quot;\n",
       "</td>\n",
       "<td>\n",
       "0.72\n",
       "</td>\n",
       "</tr>\n",
       "<tr>\n",
       "<td>\n",
       "&quot;male&quot;\n",
       "</td>\n",
       "<td>\n",
       "0.16\n",
       "</td>\n",
       "</tr>\n",
       "</tbody>\n",
       "</table>\n",
       "</div>"
      ],
      "text/plain": [
       "shape: (2, 2)\n",
       "┌────────┬──────────┐\n",
       "│ Sex    ┆ Survived │\n",
       "│ ---    ┆ ---      │\n",
       "│ str    ┆ f64      │\n",
       "╞════════╪══════════╡\n",
       "│ female ┆ 0.72     │\n",
       "├╌╌╌╌╌╌╌╌┼╌╌╌╌╌╌╌╌╌╌┤\n",
       "│ male   ┆ 0.16     │\n",
       "└────────┴──────────┘"
      ]
     },
     "execution_count": 63,
     "metadata": {},
     "output_type": "execute_result"
    }
   ],
   "source": [
    "per_sex_rates = (\n",
    "    rdf.select([pl.col(\"Sex\"), pl.col(\"Survived\")])\n",
    "    .groupby(pl.col(\"Sex\"))\n",
    "    .agg(pl.col(\"Survived\").mean())\n",
    "    .sort(\"Survived\", reverse=True)\n",
    "    .collect()\n",
    "    .fetch()\n",
    ")\n",
    "\n",
    "per_sex_rates"
   ]
  },
  {
   "cell_type": "markdown",
   "metadata": {},
   "source": [
    "We can use BastionLab's visualization functions to plot the data"
   ]
  },
  {
   "cell_type": "code",
   "execution_count": 64,
   "metadata": {},
   "outputs": [
    {
     "name": "stdout",
     "output_type": "stream",
     "text": [
      "\u001b[33mWarning: non privacy-preserving query.\n",
      "Reason: Cannot fetch a result DataFrame that does not aggregate at least 10 rows of DataFrame 5eeeabd7-d61e-4977-bae3-b4d4b2dfd7b2.\n",
      "\n",
      "This incident will be reported to the data owner.\u001b[37m\n"
     ]
    },
    {
     "data": {
      "image/png": "[encoded data removed]",
      "text/plain": [
       "<Figure size 640x480 with 1 Axes>"
      ]
     },
     "metadata": {},
     "output_type": "display_data"
    }
   ],
   "source": [
    "rdf.histplot(\"Age\", bins=10, palette=\"bright\")"
   ]
  },
  {
   "cell_type": "code",
   "execution_count": 65,
   "metadata": {},
   "outputs": [
    {
     "name": "stdout",
     "output_type": "stream",
     "text": [
      "\u001b[33mWarning: non privacy-preserving query.\n",
      "Reason: Cannot fetch a result DataFrame that does not aggregate at least 10 rows of DataFrame 5eeeabd7-d61e-4977-bae3-b4d4b2dfd7b2.\n",
      "\n",
      "This incident will be reported to the data owner.\u001b[37m\n"
     ]
    },
    {
     "data": {
      "image/png": "[encoded data removed]",
      "text/plain": [
       "<Figure size 640x480 with 1 Axes>"
      ]
     },
     "metadata": {},
     "output_type": "display_data"
    }
   ],
   "source": [
    "rdf.scatterplot(\"Age\", \"Fare\", color=\"orange\")"
   ]
  },
  {
   "cell_type": "code",
   "execution_count": 66,
   "metadata": {},
   "outputs": [
    {
     "name": "stdout",
     "output_type": "stream",
     "text": [
      "\u001b[33mWarning: non privacy-preserving query.\n",
      "Reason: Cannot fetch a result DataFrame that does not aggregate at least 10 rows of DataFrame 5eeeabd7-d61e-4977-bae3-b4d4b2dfd7b2.\n",
      "\n",
      "This incident will be reported to the data owner.\u001b[37m\n"
     ]
    },
    {
     "data": {
      "image/png": "[encoded data removed]",
      "text/plain": [
       "<Figure size 640x480 with 1 Axes>"
      ]
     },
     "metadata": {},
     "output_type": "display_data"
    }
   ],
   "source": [
    "rdf.lineplot(x=\"Age\", y=\"Fare\")"
   ]
  },
  {
   "cell_type": "markdown",
   "metadata": {},
   "source": [
    "We finally close the conection to the server."
   ]
  },
  {
   "cell_type": "code",
   "execution_count": 67,
   "metadata": {},
   "outputs": [],
   "source": [
    "connection.close()"
   ]
  }
 ],
 "metadata": {
  "kernelspec": {
   "display_name": ".venv",
   "language": "python",
   "name": "python3"
  },
  "language_info": {
   "codemirror_mode": {
    "name": "ipython",
    "version": 3
   },
   "file_extension": ".py",
   "mimetype": "text/x-python",
   "name": "python",
   "nbconvert_exporter": "python",
   "pygments_lexer": "ipython3",
   "version": "3.9.13 (main, Aug 25 2022, 23:26:10) \n[GCC 11.2.0]"
  },
  "orig_nbformat": 4,
  "vscode": {
   "interpreter": {
    "hash": "ecc9e348b2453baa0e4208f38ec7a9ed567024199131dbd6d415ec8001506678"
   }
  }
 },
 "nbformat": 4,
 "nbformat_minor": 2
}
