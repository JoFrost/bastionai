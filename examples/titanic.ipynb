{
 "cells": [
  {
   "cell_type": "code",
   "execution_count": null,
   "metadata": {},
   "outputs": [],
   "source": [
    "! pip install polars seaborn gdown"
   ]
  },
  {
   "cell_type": "code",
   "execution_count": null,
   "metadata": {},
   "outputs": [],
   "source": [
    "! rm titanic_train.csv && gdown --id 10W80Ylshf2hJGzK9u1Ita7cfxrEscjkX"
   ]
  },
  {
   "cell_type": "markdown",
   "metadata": {},
   "source": [
    "# BastionLab Analytics Demo\n",
    "\n",
    "BastionLab allows data scientists to run queries on data frames remotely without seeing the original data or intermediary results.\n",
    "The user uses polars' lazy API augmented with BasionLab's objects to define a *Composite Plan* which is an abstract object representing all the instructions to be run on the server in a lazy fashion. BastionLab's *Composite Plan* supports most polars operations from selects to groupbys to joins.\n",
    "\n",
    "We intentionnaly forbid map operations with user defined functions to avoid remote code execution. As a replacement, we provide the `apply_udf` method on our `RemoteLazyFrame` type that allows the user to apply a custom TorchScript compatible function on a subset of series. Internally, the provided plain python function is compiled into TorchScript and applied on the server to the matching series by casting them as libtorch tensors.\n",
    "\n",
    "## Data Loading\n",
    "\n",
    "We load the csv dataset as a plain polars dataframe, we open a connection to the server and we upload the data frame.\n",
    "The server sends back some metadata (a reference and the schema of the data frame) that are wrapped in a `FetchableLazyFrame`.\n",
    "`FetchableLazyFrame`s are a subtype of `RemoteLazyFrames` that can be used not only to define the computation graph by using polars' lazy API but also to retrieve the data (we'll add a mechanism to enforce security and privacy rules in the future)."
   ]
  },
  {
   "cell_type": "code",
   "execution_count": null,
   "metadata": {},
   "outputs": [],
   "source": [
    "import polars as pl\n",
    "from bastionlab import Connection\n",
    "\n",
    "df = pl.read_csv(\"titanic_train.csv\").limit(50)\n",
    "\n",
    "connection = Connection('localhost', 50056)\n",
    "client = connection.client\n",
    "\n",
    "rdf = client.send_df(df)\n",
    "\n",
    "rdf"
   ]
  },
  {
   "cell_type": "markdown",
   "metadata": {},
   "source": [
    "The `RemoteLazyFrame`s (and their subtypes) can be used to query the metadata without performing any actual request to the server."
   ]
  },
  {
   "cell_type": "code",
   "execution_count": null,
   "metadata": {},
   "outputs": [],
   "source": [
    "rdf.columns"
   ]
  },
  {
   "cell_type": "markdown",
   "metadata": {},
   "source": [
    "The user may also invoke polars' lazy API to construct query plans.\n",
    "\n",
    "In the following cell, we compute the survival rates of the passengers of the Titanic with respect to their ticket class.\n",
    "\n",
    "Note that issuing such aggregated queries without seing the original dataset or intermediary results already provides some sense of privacy. We plan to add a budgeting mechanism such as Differential Privacy to allow the data owner to control how their data can be used."
   ]
  },
  {
   "cell_type": "code",
   "execution_count": null,
   "metadata": {},
   "outputs": [],
   "source": [
    "per_class_rates = (\n",
    "        rdf.select([pl.col(\"Pclass\"), pl.col(\"Survived\")])\n",
    "        .groupby(pl.col(\"Pclass\"))\n",
    "        .agg(pl.col(\"Survived\").mean())\n",
    "        .sort(\"Survived\", reverse=True)\n",
    "        .collect()\n",
    "        .fetch()\n",
    "    )\n",
    "\n",
    "per_class_rates"
   ]
  },
  {
   "cell_type": "markdown",
   "metadata": {},
   "source": [
    "We can do the same with respect to the sex of the passengers."
   ]
  },
  {
   "cell_type": "code",
   "execution_count": null,
   "metadata": {},
   "outputs": [],
   "source": [
    "per_sex_rates = (\n",
    "        rdf.select([pl.col(\"Sex\"), pl.col(\"Survived\")])\n",
    "        .groupby(pl.col(\"Sex\"))\n",
    "        .agg(pl.col(\"Survived\").mean())\n",
    "        .sort(\"Survived\", reverse=True)\n",
    "        .collect()\n",
    "        .fetch()\n",
    "    )\n",
    "\n",
    "per_sex_rates"
   ]
  },
  {
   "cell_type": "markdown",
   "metadata": {},
   "source": [
    "Aggregated queries may be used locally to make plots"
   ]
  },
  {
   "cell_type": "code",
   "execution_count": null,
   "metadata": {},
   "outputs": [],
   "source": [
    "import seaborn as sns\n",
    "import torch\n",
    "from bastionlab import RemoteLazyFrame\n",
    "\n",
    "def bar_plot(rdf: RemoteLazyFrame, col_x: str, col_y: str) -> RemoteLazyFrame:\n",
    "    def f(x):\n",
    "        bins = 10 * torch.ones_like(x)\n",
    "        return x // bins * bins\n",
    "\n",
    "    data = (\n",
    "        rdf\n",
    "        .select(\n",
    "            [pl.col(col_x), pl.col(col_y)]\n",
    "        )\n",
    "        .apply_udf([col_x], f)\n",
    "        .groupby(pl.col(col_x))\n",
    "        .agg(pl.col(col_y).count())\n",
    "        .sort(col_x)\n",
    "        .collect()\n",
    "        .fetch()\n",
    "    )\n",
    "    sns.barplot(x=col_x, y=col_y, data=data.to_pandas())\n",
    "\n",
    "rdf = rdf.filter(pl.col(\"Age\") != None)\n",
    "bp = bar_plot(rdf, \"Age\", \"Survived\")"
   ]
  },
  {
   "cell_type": "markdown",
   "metadata": {},
   "source": [
    "We finally close the conection to the server."
   ]
  },
  {
   "cell_type": "code",
   "execution_count": null,
   "metadata": {},
   "outputs": [],
   "source": [
    "connection.close()"
   ]
  }
 ],
 "metadata": {
  "kernelspec": {
   "display_name": "Python 3.10.6 ('env': venv)",
   "language": "python",
   "name": "python3"
  },
  "language_info": {
   "codemirror_mode": {
    "name": "ipython",
    "version": 3
   },
   "file_extension": ".py",
   "mimetype": "text/x-python",
   "name": "python",
   "nbconvert_exporter": "python",
   "pygments_lexer": "ipython3",
   "version": "3.8.10"
  },
  "orig_nbformat": 4,
  "vscode": {
   "interpreter": {
    "hash": "cf3b5864bda2d30e67fa1111e8863d23000c9d236a1388df6e77b2d393f82623"
   }
  }
 },
 "nbformat": 4,
 "nbformat_minor": 2
}
